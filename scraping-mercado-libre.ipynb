{
 "cells": [
  {
   "cell_type": "markdown",
   "id": "e40c1bed",
   "metadata": {},
   "source": [
    "**<span style=\"color:darkblue; font-size:32px;\">WEB SCRAPING DE LAPTOPS</span>**"
   ]
  },
  {
   "cell_type": "markdown",
   "id": "da903476",
   "metadata": {},
   "source": [
    "### <p style=\"color:Darkred;\">INTRODUCCIÓN</p>"
   ]
  },
  {
   "cell_type": "markdown",
   "id": "cd7b2820",
   "metadata": {},
   "source": [
    "##### <p style=\"color:Darkblack;\">Mercado Libre es la mayor plataforma de comercio electrónico de la región, donde millones de compradores y vendedores se encuentran para realizar transacciones con una amplia gama de productos y servicios, a precio fijo. Esta, a diferencia de las páginas web de las tiendas por departamento, posee una amplia magnitud de modelos y precios muchas veces del mismo producto donde hasta el tiempo ya usado de este es un factor a la hora de venderlo./p>"
   ]
  },
  {
   "cell_type": "markdown",
   "id": "b1735c7b",
   "metadata": {},
   "source": [
    "### <p style=\"color:Darkred;\">OBJETIVO</p>"
   ]
  },
  {
   "cell_type": "markdown",
   "id": "da14117a",
   "metadata": {},
   "source": [
    "#### <p style=\"color:Darkblack;\">El trabajo comparará la página web de Mercado Libre Perú con la de otras tiendas por departamento reconocidas con el fin de analizar el precio y demás características de las laptops que estas ofrecen y lograr así una mejora en nuestra decisión de compra.</p>\n"
   ]
  },
  {
   "cell_type": "markdown",
   "id": "0d935fae",
   "metadata": {},
   "source": [
    "<h2>Scrapeando en Mercado Libre</h2>\n"
   ]
  },
  {
   "cell_type": "markdown",
   "id": "a12ae738",
   "metadata": {},
   "source": [
    "<img src=\"https://gestion.pe/resizer/gmHLeJjGlrxnIrUvIGCHZiGMZHw=/1200x800/smart/filters:format(jpeg):quality(75)/cloudfront-us-east-1.images.arcpublishing.com/elcomercio/WWMYGX624NEYFK57QLOMQFAPI4.jpg\" width=500>"
   ]
  },
  {
   "cell_type": "markdown",
   "id": "df434424",
   "metadata": {},
   "source": [
    "##### Buscaremos la información de todas las laptops que nos devuelve la página web."
   ]
  },
  {
   "cell_type": "code",
   "execution_count": 1,
   "id": "7d94ddcc",
   "metadata": {},
   "outputs": [],
   "source": [
    "#!pip install requests\n",
    "from lxml import etree\n",
    "import requests\n",
    "from bs4 import BeautifulSoup\n",
    "import pandas as pd"
   ]
  },
  {
   "cell_type": "code",
   "execution_count": 2,
   "id": "1054d4ec",
   "metadata": {},
   "outputs": [],
   "source": [
    "#https://listado.mercadolibre.com.pe/laptops\n",
    "import requests\n",
    "r=requests.get(\"https://listado.mercadolibre.com.pe/laptops#menu=categories\")"
   ]
  },
  {
   "cell_type": "code",
   "execution_count": 5,
   "id": "74fbe57c",
   "metadata": {},
   "outputs": [
    {
     "data": {
      "text/plain": [
       "200"
      ]
     },
     "execution_count": 5,
     "metadata": {},
     "output_type": "execute_result"
    }
   ],
   "source": [
    "r.status_code"
   ]
  },
  {
   "cell_type": "code",
   "execution_count": 4,
   "id": "96dc0812",
   "metadata": {},
   "outputs": [],
   "source": [
    "soup=BeautifulSoup(r.content,\"html.parser\") #parseamos el contenido HTML"
   ]
  },
  {
   "cell_type": "markdown",
   "id": "afe5a157",
   "metadata": {},
   "source": [
    "### Extracción de las características de las laptops en la primera página de los resultados arrojados por el buscador de ML."
   ]
  },
  {
   "cell_type": "code",
   "execution_count": 12,
   "id": "db16d3ce",
   "metadata": {},
   "outputs": [
    {
     "data": {
      "text/plain": [
       "52"
      ]
     },
     "execution_count": 12,
     "metadata": {},
     "output_type": "execute_result"
    }
   ],
   "source": [
    "\n",
    "titulos=soup.find_all(\"h2\",attrs={\"class\":\"ui-search-item__title shops__item-title\"})\n",
    "titulos = [i.text for i in titulos]\n",
    "titulos\n",
    "len(titulos)"
   ]
  },
  {
   "cell_type": "code",
   "execution_count": 9,
   "id": "779662f2",
   "metadata": {},
   "outputs": [
    {
     "data": {
      "text/plain": [
       "52"
      ]
     },
     "execution_count": 9,
     "metadata": {},
     "output_type": "execute_result"
    }
   ],
   "source": [
    "#estrayendo las urls de las laptops\n",
    "urls=soup.find_all(\"a\",attrs={\"class\":\"ui-search-item__group__element shops__items-group-details ui-search-link\"})\n",
    "#urls\n",
    "#urls[0].get(\"href\")\n",
    "urls=[i.get(\"href\") for i in urls]\n",
    "print(urls)\n",
    "len(urls)"
   ]
  },
  {
   "cell_type": "code",
   "execution_count": 13,
   "id": "0771942d",
   "metadata": {},
   "outputs": [
    {
     "data": {
      "text/plain": [
       "52"
      ]
     },
     "execution_count": 13,
     "metadata": {},
     "output_type": "execute_result"
    }
   ],
   "source": [
    "#codigo para extraer los precios de las laptops\n",
    "dom=etree.HTML(str(soup))\n",
    "precios = dom.xpath('//li[@class=\"ui-search-layout__item shops__layout-item\"]//div[@class=\"ui-search-result__content-columns shops__content-columns\"]//div[@class=\"ui-search-result__content-column ui-search-result__content-column--left shops__content-columns-left\"]//div[@class=\"ui-search-item__group ui-search-item__group--price shops__items-group\"]//div[@class=\"ui-search-price ui-search-price--size-medium shops__price\"]//div[@class=\"ui-search-price__second-line shops__price-second-line\"]//span[@class=\"andes-money-amount ui-search-price__part shops__price-part andes-money-amount--cents-superscript\"]//span[@class=\"andes-money-amount__fraction\"]')\n",
    "#precios[0].text\n",
    "len(precios)\n",
    "precios = [i.text for i in precios]\n",
    "len(precios)\n",
    "#precios"
   ]
  },
  {
   "cell_type": "markdown",
   "id": "ea944f6b",
   "metadata": {},
   "source": [
    "## Colocar toda la información obtenida en un DataFrame"
   ]
  },
  {
   "cell_type": "code",
   "execution_count": 15,
   "id": "803cc1eb",
   "metadata": {},
   "outputs": [
    {
     "data": {
      "text/html": [
       "<div>\n",
       "<style scoped>\n",
       "    .dataframe tbody tr th:only-of-type {\n",
       "        vertical-align: middle;\n",
       "    }\n",
       "\n",
       "    .dataframe tbody tr th {\n",
       "        vertical-align: top;\n",
       "    }\n",
       "\n",
       "    .dataframe thead th {\n",
       "        text-align: right;\n",
       "    }\n",
       "</style>\n",
       "<table border=\"1\" class=\"dataframe\">\n",
       "  <thead>\n",
       "    <tr style=\"text-align: right;\">\n",
       "      <th></th>\n",
       "      <th>titulos</th>\n",
       "      <th>urls</th>\n",
       "      <th>precios</th>\n",
       "    </tr>\n",
       "  </thead>\n",
       "  <tbody>\n",
       "    <tr>\n",
       "      <th>0</th>\n",
       "      <td>Laptop HP 15-ef2511la azul índigo 15.6\", AMD R...</td>\n",
       "      <td>https://www.mercadolibre.com.pe/laptop-hp-15-e...</td>\n",
       "      <td>1.889</td>\n",
       "    </tr>\n",
       "    <tr>\n",
       "      <th>1</th>\n",
       "      <td>Apple Macbook Air 13,6  Chip M2 256gb</td>\n",
       "      <td>https://www.mercadolibre.com.pe/apple-macbook-...</td>\n",
       "      <td>5.339</td>\n",
       "    </tr>\n",
       "    <tr>\n",
       "      <th>2</th>\n",
       "      <td>Apple Macbook Air (13 pulgadas, 2020, Chip M1,...</td>\n",
       "      <td>https://www.mercadolibre.com.pe/apple-macbook-...</td>\n",
       "      <td>4.149</td>\n",
       "    </tr>\n",
       "    <tr>\n",
       "      <th>3</th>\n",
       "      <td>Laptop Asus Tuf Core I7 12650h 16gb Ddr5  1tb ...</td>\n",
       "      <td>https://www.mercadolibre.com.pe/laptop-asus-tu...</td>\n",
       "      <td>5.899</td>\n",
       "    </tr>\n",
       "    <tr>\n",
       "      <th>4</th>\n",
       "      <td>Laptop HP 245 G8 plateado ceniza oscuro 14\", A...</td>\n",
       "      <td>https://www.mercadolibre.com.pe/laptop-hp-245-...</td>\n",
       "      <td>2.035</td>\n",
       "    </tr>\n",
       "    <tr>\n",
       "      <th>5</th>\n",
       "      <td>MacBook Air M2 2022 midnight 13.6\", Apple M2  ...</td>\n",
       "      <td>https://www.mercadolibre.com.pe/macbook-air-m2...</td>\n",
       "      <td>5.339</td>\n",
       "    </tr>\n",
       "    <tr>\n",
       "      <th>6</th>\n",
       "      <td>Laptop Lenovo IdeaPad 15ITL05  platinum grey 1...</td>\n",
       "      <td>https://www.mercadolibre.com.pe/laptop-lenovo-...</td>\n",
       "      <td>2.383</td>\n",
       "    </tr>\n",
       "    <tr>\n",
       "      <th>7</th>\n",
       "      <td>Macbook Pro 14 M2 Pro Apple 2023 16gb 512gb Ss...</td>\n",
       "      <td>https://articulo.mercadolibre.com.pe/MPE-62962...</td>\n",
       "      <td>8.549</td>\n",
       "    </tr>\n",
       "    <tr>\n",
       "      <th>8</th>\n",
       "      <td>Macbook Pro 13'' Apple M2 (8 Gb Ram, 256 Gb Ssd)</td>\n",
       "      <td>https://click1.mercadolibre.com.pe/mclics/clic...</td>\n",
       "      <td>6.899</td>\n",
       "    </tr>\n",
       "    <tr>\n",
       "      <th>9</th>\n",
       "      <td>Laptop Hp 14-dq2510la Intel Ci3 8gb 512 Ssd Wi...</td>\n",
       "      <td>https://click1.mercadolibre.com.pe/mclics/clic...</td>\n",
       "      <td>1.499</td>\n",
       "    </tr>\n",
       "    <tr>\n",
       "      <th>10</th>\n",
       "      <td>MacBook Pro 16-inch 2023 space gray 16.2\", App...</td>\n",
       "      <td>https://www.mercadolibre.com.pe/macbook-pro-16...</td>\n",
       "      <td>9.699</td>\n",
       "    </tr>\n",
       "    <tr>\n",
       "      <th>11</th>\n",
       "      <td>Hp 15.6  Laptop - Amd Ryzen 5 - 12gb Memory - ...</td>\n",
       "      <td>https://www.mercadolibre.com.pe/hp-156-laptop-...</td>\n",
       "      <td>2.571</td>\n",
       "    </tr>\n",
       "    <tr>\n",
       "      <th>12</th>\n",
       "      <td>Macbook Pro 16 (2023) Chip M2 Max Apple Ssd 1t...</td>\n",
       "      <td>https://www.mercadolibre.com.pe/macbook-pro-16...</td>\n",
       "      <td>14.899</td>\n",
       "    </tr>\n",
       "    <tr>\n",
       "      <th>13</th>\n",
       "      <td>Apple MacBook Pro (14 pulgadas, Chip M1 Pro de...</td>\n",
       "      <td>https://www.mercadolibre.com.pe/apple-macbook-...</td>\n",
       "      <td>9.899</td>\n",
       "    </tr>\n",
       "    <tr>\n",
       "      <th>14</th>\n",
       "      <td>Macbook Air 13'' Procesador Apple M1 (8 Gb Ram...</td>\n",
       "      <td>https://articulo.mercadolibre.com.pe/MPE-44736...</td>\n",
       "      <td>4.149</td>\n",
       "    </tr>\n",
       "    <tr>\n",
       "      <th>15</th>\n",
       "      <td>Macbook Pro 14 (2023) Chip M2 Pro Apple Ssd 51...</td>\n",
       "      <td>https://articulo.mercadolibre.com.pe/MPE-62553...</td>\n",
       "      <td>8.720</td>\n",
       "    </tr>\n",
       "    <tr>\n",
       "      <th>16</th>\n",
       "      <td>Macbook Air 13.6 (2022) Chip M2 Apple / 8gb Ra...</td>\n",
       "      <td>https://articulo.mercadolibre.com.pe/MPE-61576...</td>\n",
       "      <td>5.735</td>\n",
       "    </tr>\n",
       "    <tr>\n",
       "      <th>17</th>\n",
       "      <td>Apple MacBook Pro (16 pulgadas, Chip M1 Max de...</td>\n",
       "      <td>https://www.mercadolibre.com.pe/apple-macbook-...</td>\n",
       "      <td>13.945</td>\n",
       "    </tr>\n",
       "    <tr>\n",
       "      <th>18</th>\n",
       "      <td>Msi Raider Ge76 17.3' Core I9-12900h 1tbssd 32...</td>\n",
       "      <td>https://articulo.mercadolibre.com.pe/MPE-62481...</td>\n",
       "      <td>8.989</td>\n",
       "    </tr>\n",
       "    <tr>\n",
       "      <th>19</th>\n",
       "      <td>Asus Tuf A15 Ryzen 7 6800h 16gb Ddr5,  512ssd ...</td>\n",
       "      <td>https://articulo.mercadolibre.com.pe/MPE-60961...</td>\n",
       "      <td>5.299</td>\n",
       "    </tr>\n",
       "    <tr>\n",
       "      <th>20</th>\n",
       "      <td>Lenovo Ideapad 3i 15' Ci5-10300h 16gb 1tb+500s...</td>\n",
       "      <td>https://articulo.mercadolibre.com.pe/MPE-61518...</td>\n",
       "      <td>3.599</td>\n",
       "    </tr>\n",
       "    <tr>\n",
       "      <th>21</th>\n",
       "      <td>Laptop Lenovo Ideapad 5 14  Amd Ryzen 7 16 Gb ...</td>\n",
       "      <td>https://articulo.mercadolibre.com.pe/MPE-62965...</td>\n",
       "      <td>2.799</td>\n",
       "    </tr>\n",
       "    <tr>\n",
       "      <th>22</th>\n",
       "      <td>Laptop Dell Vostro 3405 14 PuLG Ryzen 5 3450u ...</td>\n",
       "      <td>https://articulo.mercadolibre.com.pe/MPE-44797...</td>\n",
       "      <td>1.469</td>\n",
       "    </tr>\n",
       "    <tr>\n",
       "      <th>23</th>\n",
       "      <td>Macbook Pro 13 (2022) Chip M2 Apple / 8gb Ram ...</td>\n",
       "      <td>https://articulo.mercadolibre.com.pe/MPE-61463...</td>\n",
       "      <td>6.019</td>\n",
       "    </tr>\n",
       "    <tr>\n",
       "      <th>24</th>\n",
       "      <td>Laptop Lenovo IdeaPad 16IAU7  storm gray tácti...</td>\n",
       "      <td>https://www.mercadolibre.com.pe/laptop-lenovo-...</td>\n",
       "      <td>4.449</td>\n",
       "    </tr>\n",
       "    <tr>\n",
       "      <th>25</th>\n",
       "      <td>Asus Tuf A15 144hz Amd Ryzen 5, Ram 16gb 1tb S...</td>\n",
       "      <td>https://articulo.mercadolibre.com.pe/MPE-61802...</td>\n",
       "      <td>4.549</td>\n",
       "    </tr>\n",
       "    <tr>\n",
       "      <th>26</th>\n",
       "      <td>Lenovo Gaming 3 Core I5-10300h 16gb 1tb +512ss...</td>\n",
       "      <td>https://articulo.mercadolibre.com.pe/MPE-61545...</td>\n",
       "      <td>3.699</td>\n",
       "    </tr>\n",
       "    <tr>\n",
       "      <th>27</th>\n",
       "      <td>Asus Tuf A15 Ryzen 7-6800h 16gb Ddr5 1tb Ssd R...</td>\n",
       "      <td>https://articulo.mercadolibre.com.pe/MPE-61763...</td>\n",
       "      <td>5.759</td>\n",
       "    </tr>\n",
       "    <tr>\n",
       "      <th>28</th>\n",
       "      <td>Laptop HP Victus 15-FA0031DX negra Intel Core ...</td>\n",
       "      <td>https://www.mercadolibre.com.pe/laptop-hp-vict...</td>\n",
       "      <td>3.999</td>\n",
       "    </tr>\n",
       "    <tr>\n",
       "      <th>29</th>\n",
       "      <td>Asus Rog G16 -2023 Core I7 13650hx 16ddr5 1tbs...</td>\n",
       "      <td>https://articulo.mercadolibre.com.pe/MPE-62891...</td>\n",
       "      <td>8.559</td>\n",
       "    </tr>\n",
       "    <tr>\n",
       "      <th>30</th>\n",
       "      <td>Laptop Asus X515EA slate gray 15.6\", Intel Cor...</td>\n",
       "      <td>https://www.mercadolibre.com.pe/laptop-asus-x5...</td>\n",
       "      <td>1.859</td>\n",
       "    </tr>\n",
       "    <tr>\n",
       "      <th>31</th>\n",
       "      <td>Asus Tuf A15 F15 144hz Core-i5 16gb 1tb+512ssd...</td>\n",
       "      <td>https://articulo.mercadolibre.com.pe/MPE-61789...</td>\n",
       "      <td>3.899</td>\n",
       "    </tr>\n",
       "    <tr>\n",
       "      <th>32</th>\n",
       "      <td>Lenovo V15 15.6  Amd 12gb 1tb+ssd 256 2gb Vide...</td>\n",
       "      <td>https://articulo.mercadolibre.com.pe/MPE-61845...</td>\n",
       "      <td>1.490</td>\n",
       "    </tr>\n",
       "    <tr>\n",
       "      <th>33</th>\n",
       "      <td>Laptop Asus X515 Ci5-1135g7 8gb 512gb 15  W11</td>\n",
       "      <td>https://www.mercadolibre.com.pe/laptop-asus-x5...</td>\n",
       "      <td>2.328</td>\n",
       "    </tr>\n",
       "    <tr>\n",
       "      <th>34</th>\n",
       "      <td>Laptop Empresarial Hp Elitebook 840 G3 - Ci5 -...</td>\n",
       "      <td>https://articulo.mercadolibre.com.pe/MPE-43932...</td>\n",
       "      <td>993</td>\n",
       "    </tr>\n",
       "    <tr>\n",
       "      <th>35</th>\n",
       "      <td>Laptop Lenovo Ideapad Slim 3 14  Amd Ryzen 3 8...</td>\n",
       "      <td>https://articulo.mercadolibre.com.pe/MPE-64271...</td>\n",
       "      <td>1.599</td>\n",
       "    </tr>\n",
       "    <tr>\n",
       "      <th>36</th>\n",
       "      <td>Laptop Asus X515 15.6' Fhd I5 11va 8gb 512ssd ...</td>\n",
       "      <td>https://articulo.mercadolibre.com.pe/MPE-61478...</td>\n",
       "      <td>2.328</td>\n",
       "    </tr>\n",
       "    <tr>\n",
       "      <th>37</th>\n",
       "      <td>Laptop Dell Vostro 3405, Ryzen 5 3450u, Ram 16...</td>\n",
       "      <td>https://articulo.mercadolibre.com.pe/MPE-63709...</td>\n",
       "      <td>1.589</td>\n",
       "    </tr>\n",
       "    <tr>\n",
       "      <th>38</th>\n",
       "      <td>Msi Raider Ge76 Core-i9 12900h Ddr5 32gb 1tb S...</td>\n",
       "      <td>https://articulo.mercadolibre.com.pe/MPE-62445...</td>\n",
       "      <td>8.799</td>\n",
       "    </tr>\n",
       "    <tr>\n",
       "      <th>39</th>\n",
       "      <td>Msi Sword 15 2022 Ci7 12va 1tbssd Rtx 3060 16g...</td>\n",
       "      <td>https://articulo.mercadolibre.com.pe/MPE-61638...</td>\n",
       "      <td>6.459</td>\n",
       "    </tr>\n",
       "    <tr>\n",
       "      <th>40</th>\n",
       "      <td>Msi Pulse Gl76 17' 360hz Ci7-12700h 16gb 1tb S...</td>\n",
       "      <td>https://articulo.mercadolibre.com.pe/MPE-62463...</td>\n",
       "      <td>7.539</td>\n",
       "    </tr>\n",
       "    <tr>\n",
       "      <th>41</th>\n",
       "      <td>Hp Victus 15 144hz Ci7-12650h 16gb 512ssd Rtx3...</td>\n",
       "      <td>https://articulo.mercadolibre.com.pe/MPE-61515...</td>\n",
       "      <td>5.429</td>\n",
       "    </tr>\n",
       "    <tr>\n",
       "      <th>42</th>\n",
       "      <td>Asus Tuf F15 Core I5 11400h 32gb 1tb Ssd Rtx30...</td>\n",
       "      <td>https://articulo.mercadolibre.com.pe/MPE-62466...</td>\n",
       "      <td>4.429</td>\n",
       "    </tr>\n",
       "    <tr>\n",
       "      <th>43</th>\n",
       "      <td>Laptop Lenovo IdeaPad 14IGL05  ice blue 14\", I...</td>\n",
       "      <td>https://www.mercadolibre.com.pe/laptop-lenovo-...</td>\n",
       "      <td>1.199</td>\n",
       "    </tr>\n",
       "    <tr>\n",
       "      <th>44</th>\n",
       "      <td>Asus Tuf Dash F15 Core I7 12650h 32ddr5 1tb Ss...</td>\n",
       "      <td>https://articulo.mercadolibre.com.pe/MPE-63934...</td>\n",
       "      <td>7.589</td>\n",
       "    </tr>\n",
       "    <tr>\n",
       "      <th>45</th>\n",
       "      <td>Msi Sword 15 144hz Ci7-11800h 32gb 512ssd Rtx3...</td>\n",
       "      <td>https://articulo.mercadolibre.com.pe/MPE-61652...</td>\n",
       "      <td>5.599</td>\n",
       "    </tr>\n",
       "    <tr>\n",
       "      <th>46</th>\n",
       "      <td>Laptop Asus K513 15.6' Oled I5 11va 8gb 512gb ...</td>\n",
       "      <td>https://articulo.mercadolibre.com.pe/MPE-61290...</td>\n",
       "      <td>3.053</td>\n",
       "    </tr>\n",
       "    <tr>\n",
       "      <th>47</th>\n",
       "      <td>Laptop Lenovo V15 G2 Itl Core I7-1165g7, Ram 1...</td>\n",
       "      <td>https://articulo.mercadolibre.com.pe/MPE-63522...</td>\n",
       "      <td>2.949</td>\n",
       "    </tr>\n",
       "    <tr>\n",
       "      <th>48</th>\n",
       "      <td>Acer Chromebook Spin 713 Core I5 11va Gen Entr...</td>\n",
       "      <td>https://articulo.mercadolibre.com.pe/MPE-60292...</td>\n",
       "      <td>2.199</td>\n",
       "    </tr>\n",
       "    <tr>\n",
       "      <th>49</th>\n",
       "      <td>Asus Tuf A15 F15 144hz Ci7-12650h 16gb 1tb Ssd...</td>\n",
       "      <td>https://articulo.mercadolibre.com.pe/MPE-62138...</td>\n",
       "      <td>7.149</td>\n",
       "    </tr>\n",
       "    <tr>\n",
       "      <th>50</th>\n",
       "      <td>Msi Raider Ge76 Core-i9 12900h 16gb 1tb Ssd Rt...</td>\n",
       "      <td>https://articulo.mercadolibre.com.pe/MPE-62461...</td>\n",
       "      <td>8.479</td>\n",
       "    </tr>\n",
       "    <tr>\n",
       "      <th>51</th>\n",
       "      <td>Lenovo Legion 5 Amd R7-5800h 16gb 1tb Ssd Rtx3...</td>\n",
       "      <td>https://articulo.mercadolibre.com.pe/MPE-61517...</td>\n",
       "      <td>5.799</td>\n",
       "    </tr>\n",
       "  </tbody>\n",
       "</table>\n",
       "</div>"
      ],
      "text/plain": [
       "                                              titulos  \\\n",
       "0   Laptop HP 15-ef2511la azul índigo 15.6\", AMD R...   \n",
       "1               Apple Macbook Air 13,6  Chip M2 256gb   \n",
       "2   Apple Macbook Air (13 pulgadas, 2020, Chip M1,...   \n",
       "3   Laptop Asus Tuf Core I7 12650h 16gb Ddr5  1tb ...   \n",
       "4   Laptop HP 245 G8 plateado ceniza oscuro 14\", A...   \n",
       "5   MacBook Air M2 2022 midnight 13.6\", Apple M2  ...   \n",
       "6   Laptop Lenovo IdeaPad 15ITL05  platinum grey 1...   \n",
       "7   Macbook Pro 14 M2 Pro Apple 2023 16gb 512gb Ss...   \n",
       "8    Macbook Pro 13'' Apple M2 (8 Gb Ram, 256 Gb Ssd)   \n",
       "9   Laptop Hp 14-dq2510la Intel Ci3 8gb 512 Ssd Wi...   \n",
       "10  MacBook Pro 16-inch 2023 space gray 16.2\", App...   \n",
       "11  Hp 15.6  Laptop - Amd Ryzen 5 - 12gb Memory - ...   \n",
       "12  Macbook Pro 16 (2023) Chip M2 Max Apple Ssd 1t...   \n",
       "13  Apple MacBook Pro (14 pulgadas, Chip M1 Pro de...   \n",
       "14  Macbook Air 13'' Procesador Apple M1 (8 Gb Ram...   \n",
       "15  Macbook Pro 14 (2023) Chip M2 Pro Apple Ssd 51...   \n",
       "16  Macbook Air 13.6 (2022) Chip M2 Apple / 8gb Ra...   \n",
       "17  Apple MacBook Pro (16 pulgadas, Chip M1 Max de...   \n",
       "18  Msi Raider Ge76 17.3' Core I9-12900h 1tbssd 32...   \n",
       "19  Asus Tuf A15 Ryzen 7 6800h 16gb Ddr5,  512ssd ...   \n",
       "20  Lenovo Ideapad 3i 15' Ci5-10300h 16gb 1tb+500s...   \n",
       "21  Laptop Lenovo Ideapad 5 14  Amd Ryzen 7 16 Gb ...   \n",
       "22  Laptop Dell Vostro 3405 14 PuLG Ryzen 5 3450u ...   \n",
       "23  Macbook Pro 13 (2022) Chip M2 Apple / 8gb Ram ...   \n",
       "24  Laptop Lenovo IdeaPad 16IAU7  storm gray tácti...   \n",
       "25  Asus Tuf A15 144hz Amd Ryzen 5, Ram 16gb 1tb S...   \n",
       "26  Lenovo Gaming 3 Core I5-10300h 16gb 1tb +512ss...   \n",
       "27  Asus Tuf A15 Ryzen 7-6800h 16gb Ddr5 1tb Ssd R...   \n",
       "28  Laptop HP Victus 15-FA0031DX negra Intel Core ...   \n",
       "29  Asus Rog G16 -2023 Core I7 13650hx 16ddr5 1tbs...   \n",
       "30  Laptop Asus X515EA slate gray 15.6\", Intel Cor...   \n",
       "31  Asus Tuf A15 F15 144hz Core-i5 16gb 1tb+512ssd...   \n",
       "32  Lenovo V15 15.6  Amd 12gb 1tb+ssd 256 2gb Vide...   \n",
       "33      Laptop Asus X515 Ci5-1135g7 8gb 512gb 15  W11   \n",
       "34  Laptop Empresarial Hp Elitebook 840 G3 - Ci5 -...   \n",
       "35  Laptop Lenovo Ideapad Slim 3 14  Amd Ryzen 3 8...   \n",
       "36  Laptop Asus X515 15.6' Fhd I5 11va 8gb 512ssd ...   \n",
       "37  Laptop Dell Vostro 3405, Ryzen 5 3450u, Ram 16...   \n",
       "38  Msi Raider Ge76 Core-i9 12900h Ddr5 32gb 1tb S...   \n",
       "39  Msi Sword 15 2022 Ci7 12va 1tbssd Rtx 3060 16g...   \n",
       "40  Msi Pulse Gl76 17' 360hz Ci7-12700h 16gb 1tb S...   \n",
       "41  Hp Victus 15 144hz Ci7-12650h 16gb 512ssd Rtx3...   \n",
       "42  Asus Tuf F15 Core I5 11400h 32gb 1tb Ssd Rtx30...   \n",
       "43  Laptop Lenovo IdeaPad 14IGL05  ice blue 14\", I...   \n",
       "44  Asus Tuf Dash F15 Core I7 12650h 32ddr5 1tb Ss...   \n",
       "45  Msi Sword 15 144hz Ci7-11800h 32gb 512ssd Rtx3...   \n",
       "46  Laptop Asus K513 15.6' Oled I5 11va 8gb 512gb ...   \n",
       "47  Laptop Lenovo V15 G2 Itl Core I7-1165g7, Ram 1...   \n",
       "48  Acer Chromebook Spin 713 Core I5 11va Gen Entr...   \n",
       "49  Asus Tuf A15 F15 144hz Ci7-12650h 16gb 1tb Ssd...   \n",
       "50  Msi Raider Ge76 Core-i9 12900h 16gb 1tb Ssd Rt...   \n",
       "51  Lenovo Legion 5 Amd R7-5800h 16gb 1tb Ssd Rtx3...   \n",
       "\n",
       "                                                 urls precios  \n",
       "0   https://www.mercadolibre.com.pe/laptop-hp-15-e...   1.889  \n",
       "1   https://www.mercadolibre.com.pe/apple-macbook-...   5.339  \n",
       "2   https://www.mercadolibre.com.pe/apple-macbook-...   4.149  \n",
       "3   https://www.mercadolibre.com.pe/laptop-asus-tu...   5.899  \n",
       "4   https://www.mercadolibre.com.pe/laptop-hp-245-...   2.035  \n",
       "5   https://www.mercadolibre.com.pe/macbook-air-m2...   5.339  \n",
       "6   https://www.mercadolibre.com.pe/laptop-lenovo-...   2.383  \n",
       "7   https://articulo.mercadolibre.com.pe/MPE-62962...   8.549  \n",
       "8   https://click1.mercadolibre.com.pe/mclics/clic...   6.899  \n",
       "9   https://click1.mercadolibre.com.pe/mclics/clic...   1.499  \n",
       "10  https://www.mercadolibre.com.pe/macbook-pro-16...   9.699  \n",
       "11  https://www.mercadolibre.com.pe/hp-156-laptop-...   2.571  \n",
       "12  https://www.mercadolibre.com.pe/macbook-pro-16...  14.899  \n",
       "13  https://www.mercadolibre.com.pe/apple-macbook-...   9.899  \n",
       "14  https://articulo.mercadolibre.com.pe/MPE-44736...   4.149  \n",
       "15  https://articulo.mercadolibre.com.pe/MPE-62553...   8.720  \n",
       "16  https://articulo.mercadolibre.com.pe/MPE-61576...   5.735  \n",
       "17  https://www.mercadolibre.com.pe/apple-macbook-...  13.945  \n",
       "18  https://articulo.mercadolibre.com.pe/MPE-62481...   8.989  \n",
       "19  https://articulo.mercadolibre.com.pe/MPE-60961...   5.299  \n",
       "20  https://articulo.mercadolibre.com.pe/MPE-61518...   3.599  \n",
       "21  https://articulo.mercadolibre.com.pe/MPE-62965...   2.799  \n",
       "22  https://articulo.mercadolibre.com.pe/MPE-44797...   1.469  \n",
       "23  https://articulo.mercadolibre.com.pe/MPE-61463...   6.019  \n",
       "24  https://www.mercadolibre.com.pe/laptop-lenovo-...   4.449  \n",
       "25  https://articulo.mercadolibre.com.pe/MPE-61802...   4.549  \n",
       "26  https://articulo.mercadolibre.com.pe/MPE-61545...   3.699  \n",
       "27  https://articulo.mercadolibre.com.pe/MPE-61763...   5.759  \n",
       "28  https://www.mercadolibre.com.pe/laptop-hp-vict...   3.999  \n",
       "29  https://articulo.mercadolibre.com.pe/MPE-62891...   8.559  \n",
       "30  https://www.mercadolibre.com.pe/laptop-asus-x5...   1.859  \n",
       "31  https://articulo.mercadolibre.com.pe/MPE-61789...   3.899  \n",
       "32  https://articulo.mercadolibre.com.pe/MPE-61845...   1.490  \n",
       "33  https://www.mercadolibre.com.pe/laptop-asus-x5...   2.328  \n",
       "34  https://articulo.mercadolibre.com.pe/MPE-43932...     993  \n",
       "35  https://articulo.mercadolibre.com.pe/MPE-64271...   1.599  \n",
       "36  https://articulo.mercadolibre.com.pe/MPE-61478...   2.328  \n",
       "37  https://articulo.mercadolibre.com.pe/MPE-63709...   1.589  \n",
       "38  https://articulo.mercadolibre.com.pe/MPE-62445...   8.799  \n",
       "39  https://articulo.mercadolibre.com.pe/MPE-61638...   6.459  \n",
       "40  https://articulo.mercadolibre.com.pe/MPE-62463...   7.539  \n",
       "41  https://articulo.mercadolibre.com.pe/MPE-61515...   5.429  \n",
       "42  https://articulo.mercadolibre.com.pe/MPE-62466...   4.429  \n",
       "43  https://www.mercadolibre.com.pe/laptop-lenovo-...   1.199  \n",
       "44  https://articulo.mercadolibre.com.pe/MPE-63934...   7.589  \n",
       "45  https://articulo.mercadolibre.com.pe/MPE-61652...   5.599  \n",
       "46  https://articulo.mercadolibre.com.pe/MPE-61290...   3.053  \n",
       "47  https://articulo.mercadolibre.com.pe/MPE-63522...   2.949  \n",
       "48  https://articulo.mercadolibre.com.pe/MPE-60292...   2.199  \n",
       "49  https://articulo.mercadolibre.com.pe/MPE-62138...   7.149  \n",
       "50  https://articulo.mercadolibre.com.pe/MPE-62461...   8.479  \n",
       "51  https://articulo.mercadolibre.com.pe/MPE-61517...   5.799  "
      ]
     },
     "execution_count": 15,
     "metadata": {},
     "output_type": "execute_result"
    }
   ],
   "source": [
    "df = pd.DataFrame({\"titulos\":titulos,\"urls\":urls,\"precios\":precios})\n",
    "df"
   ]
  },
  {
   "cell_type": "markdown",
   "id": "57571999",
   "metadata": {},
   "source": [
    "### Ahora obtendremos los resultados de las laptops en venta de cada pestaña de ML"
   ]
  },
  {
   "cell_type": "code",
   "execution_count": 16,
   "id": "e47e429f",
   "metadata": {},
   "outputs": [],
   "source": [
    "#para ver las paginas siguientes\n",
    "siguiente = dom.xpath('//div[@class=\"ui-search-pagination shops__pagination-content\"]//ul[@class=\"ui-search-pagination andes-pagination shops__pagination\"]//li[contains(@class,\"--next\")]/a')[0].get(\"href\")"
   ]
  },
  {
   "cell_type": "code",
   "execution_count": 17,
   "id": "0eff6bb6",
   "metadata": {},
   "outputs": [
    {
     "data": {
      "text/plain": [
       "1"
      ]
     },
     "execution_count": 17,
     "metadata": {},
     "output_type": "execute_result"
    }
   ],
   "source": [
    "#ver el inicio de pagina es decir la pagina 1\n",
    "pagina1 = soup.find(\"span\",attrs={\"class\":\"andes-pagination__link\"}).text\n",
    "pagina1=int(pagina1)\n",
    "pagina1"
   ]
  },
  {
   "cell_type": "code",
   "execution_count": 18,
   "id": "fa602b62",
   "metadata": {},
   "outputs": [
    {
     "data": {
      "text/plain": [
       "40"
      ]
     },
     "execution_count": 18,
     "metadata": {},
     "output_type": "execute_result"
    }
   ],
   "source": [
    "#ahora sacar el 40 pagina\n",
    "final = soup.find(\"li\",attrs= {\"class\":\"andes-pagination__page-count\"})\n",
    "int(final.text.split(\" \")[1])# convierte a entero lo que esta en caracter y ademas hace un espacio "
   ]
  },
  {
   "cell_type": "code",
   "execution_count": 19,
   "id": "0f721b20",
   "metadata": {},
   "outputs": [],
   "source": [
    "#se crea listas vacias que se iran agregadando elementos del siguente codigo\n",
    "lista_titulos = []\n",
    "lista_urls = []\n",
    "lista_precios = []"
   ]
  },
  {
   "cell_type": "code",
   "execution_count": 20,
   "id": "c693fe62",
   "metadata": {},
   "outputs": [
    {
     "name": "stdout",
     "output_type": "stream",
     "text": [
      "1 40\n",
      "2 40\n",
      "3 40\n",
      "4 40\n",
      "5 40\n",
      "6 40\n",
      "7 40\n",
      "8 40\n",
      "9 40\n",
      "10 40\n",
      "11 40\n",
      "12 40\n",
      "13 40\n",
      "14 40\n",
      "15 40\n",
      "16 40\n",
      "17 40\n",
      "18 40\n",
      "19 40\n",
      "20 40\n",
      "21 40\n",
      "22 40\n",
      "23 40\n",
      "24 40\n",
      "25 40\n",
      "26 40\n",
      "27 40\n",
      "28 40\n",
      "29 40\n",
      "30 40\n",
      "31 40\n",
      "32 40\n",
      "33 40\n",
      "34 40\n",
      "35 40\n",
      "36 40\n",
      "37 40\n",
      "38 40\n",
      "39 40\n",
      "40 40\n"
     ]
    }
   ],
   "source": [
    "#esta línea de codigo hace que se recorran las 40 páginas de de la pagina de mercado libre para encontrar laptops\n",
    "siguiente = \"https://listado.mercadolibre.com.pe/laptops#menu=categories\"\n",
    "while True:\n",
    "    r = requests.get(siguiente)\n",
    "    if r.status_code == 200:\n",
    "        soup = BeautifulSoup(r.content, \"html.parser\")\n",
    "\n",
    "        # titulos\n",
    "        titulos = soup.find_all(\"h2\", attrs={\"class\": \"ui-search-item__title shops__item-title\"})\n",
    "        titulos = [i.text for i in titulos]\n",
    "        lista_titulos.extend(titulos)\n",
    "\n",
    "        # urls\n",
    "        urls = soup.find_all(\"a\", attrs={\"class\": \"ui-search-item__group__element shops__items-group-details ui-search-link\"})\n",
    "        urls = [i.get(\"href\") for i in urls]\n",
    "        lista_urls.extend(urls)\n",
    "\n",
    "        # precios\n",
    "        dom = etree.HTML(str(soup))\n",
    "        precios = dom.xpath('//li[@class=\"ui-search-layout__item shops__layout-item\"]//div[@class=\"ui-search-result__content-columns shops__content-columns\"]//div[@class=\"ui-search-result__content-column ui-search-result__content-column--left shops__content-columns-left\"]//div[@class=\"ui-search-item__group ui-search-item__group--price shops__items-group\"]//div[@class=\"ui-search-price ui-search-price--size-medium shops__price\"]//div[@class=\"ui-search-price__second-line shops__price-second-line\"]//span[@class=\"andes-money-amount ui-search-price__part shops__price-part andes-money-amount--cents-superscript\"]//span[@class=\"andes-money-amount__fraction\"]')\n",
    "        precios = [i.text for i in precios]\n",
    "        lista_precios.extend(precios)\n",
    "\n",
    "        # validando la pagina 1 y la ultima\n",
    "        pagina1 = soup.find(\"span\", attrs={\"class\": \"andes-pagination__link\"}).text\n",
    "        pagina1 = int(pagina1)\n",
    "\n",
    "        final = soup.find(\"li\", attrs={\"class\": \"andes-pagination__page-count\"})\n",
    "        if final is not None:\n",
    "            final = int(final.text.split(\" \")[1])\n",
    "        else:\n",
    "            break\n",
    "        print(pagina1,final)\n",
    "        if pagina1==final:\n",
    "            break\n",
    "        siguiente = dom.xpath('//div[@class=\"ui-search-pagination shops__pagination-content\"]//ul[@class=\"ui-search-pagination andes-pagination shops__pagination\"]//li[contains(@class,\"--next\")]/a')[0].get(\"href\")"
   ]
  },
  {
   "cell_type": "code",
   "execution_count": 21,
   "id": "1e649fd6",
   "metadata": {},
   "outputs": [
    {
     "name": "stdout",
     "output_type": "stream",
     "text": [
      "2026\n",
      "2026\n",
      "2016\n"
     ]
    }
   ],
   "source": [
    "print(len(lista_titulos))\n",
    "print(len(lista_urls))\n",
    "print(len(lista_precios))"
   ]
  },
  {
   "cell_type": "code",
   "execution_count": 22,
   "id": "4c67d075",
   "metadata": {},
   "outputs": [
    {
     "name": "stdout",
     "output_type": "stream",
     "text": [
      "2026\n",
      "2026\n",
      "2026\n"
     ]
    }
   ],
   "source": [
    "#codigo para agregar valores nulos a los que no tengan valores para tenr iguales longitudes de filas\n",
    "import pandas as pd\n",
    "import numpy as np\n",
    "\n",
    "# Verificar longitudes de las listas\n",
    "length_titulos = len(lista_titulos)\n",
    "length_urls = len(lista_urls)\n",
    "length_precios = len(lista_precios)\n",
    "\n",
    "# Obtener la longitud máxima de las listas\n",
    "max_length = max(length_titulos, length_urls, length_precios)\n",
    "\n",
    "# Rellenar las listas con valores nulos si es necesario\n",
    "if length_titulos < max_length:\n",
    "    lista_titulos.extend([np.nan] * (max_length - length_titulos))\n",
    "if length_urls < max_length:\n",
    "    lista_urls.extend([np.nan] * (max_length - length_urls))\n",
    "if length_precios < max_length:\n",
    "    lista_precios.extend([np.nan] * (max_length - length_precios))\n",
    "\n",
    "# Crear el DataFrame con las listas\n",
    "data = pd.DataFrame({'titulo': lista_titulos, 'url': lista_urls, 'precio': lista_precios})\n",
    "\n",
    "# Verificar las longitudes nuevamente\n",
    "print(len(data['titulo']))\n",
    "print(len(data['url']))\n",
    "print(len(data['precio']))"
   ]
  },
  {
   "cell_type": "code",
   "execution_count": 23,
   "id": "3f961a77",
   "metadata": {},
   "outputs": [
    {
     "name": "stdout",
     "output_type": "stream",
     "text": [
      "['hp', 'apple', 'apple', 'asus', 'hp', 'apple', 'lenovo', 'apple', 'apple', 'hp', 'apple', 'hp', 'apple', 'apple', 'apple', 'apple', 'apple', 'apple', 'NA', 'asus', 'lenovo', 'lenovo', 'dell', 'apple', 'lenovo', 'asus', 'lenovo', 'asus', 'hp', 'asus', 'asus', 'asus', 'lenovo', 'asus', 'hp', 'lenovo', 'asus', 'dell', 'NA', 'NA', 'NA', 'hp', 'asus', 'lenovo', 'asus', 'NA', 'asus', 'lenovo', 'NA', 'asus', 'NA', 'lenovo', 'apple', 'hp', 'hp', 'lenovo', 'apple', 'NA', 'NA', 'hp', 'lenovo', 'asus', 'dell', 'lenovo', 'apple', 'asus', 'lenovo', 'NA', 'asus', 'lenovo', 'asus', 'lenovo', 'asus', 'apple', 'dell', 'lenovo', 'asus', 'NA', 'asus', 'apple', 'NA', 'asus', 'NA', 'lenovo', 'asus', 'hp', 'NA', 'lenovo', 'hp', 'lenovo', 'NA', 'lenovo', 'lenovo', 'dell', 'asus', 'hp', 'dell', 'asus', 'asus', 'asus', 'lenovo', 'hp', 'hp', 'lenovo', 'apple', 'hp', 'apple', 'lenovo', 'hp', 'hp', 'dell', 'NA', 'asus', 'asus', 'asus', 'NA', 'asus', 'apple', 'apple', 'asus', 'lenovo', 'NA', 'NA', 'asus', 'lenovo', 'dell', 'asus', 'hp', 'apple', 'NA', 'NA', 'asus', 'dell', 'lenovo', 'NA', 'asus', 'asus', 'asus', 'NA', 'lenovo', 'NA', 'apple', 'NA', 'hp', 'lenovo', 'hp', 'hp', 'asus', 'hp', 'NA', 'apple', 'asus', 'dell', 'lenovo', 'lenovo', 'NA', 'apple', 'hp', 'asus', 'NA', 'lenovo', 'NA', 'asus', 'apple', 'NA', 'NA', 'asus', 'NA', 'lenovo', 'NA', 'asus', 'lenovo', 'lenovo', 'hp', 'NA', 'NA', 'asus', 'NA', 'NA', 'lenovo', 'lenovo', 'asus', 'asus', 'NA', 'NA', 'NA', 'asus', 'asus', 'lenovo', 'lenovo', 'NA', 'asus', 'hp', 'hp', 'asus', 'NA', 'apple', 'asus', 'apple', 'apple', 'NA', 'dell', 'asus', 'hp', 'asus', 'asus', 'lenovo', 'asus', 'apple', 'hp', 'NA', 'NA', 'lenovo', 'lenovo', 'asus', 'lenovo', 'lenovo', 'lenovo', 'hp', 'lenovo', 'hp', 'NA', 'lenovo', 'asus', 'lenovo', 'hp', 'lenovo', 'NA', 'lenovo', 'asus', 'asus', 'asus', 'lenovo', 'NA', 'hp', 'hp', 'lenovo', 'lenovo', 'NA', 'hp', 'NA', 'asus', 'lenovo', 'lenovo', 'hp', 'hp', 'lenovo', 'lenovo', 'NA', 'lenovo', 'lenovo', 'hp', 'asus', 'dell', 'asus', 'NA', 'NA', 'dell', 'NA', 'hp', 'apple', 'hp', 'apple', 'NA', 'hp', 'NA', 'lenovo', 'NA', 'hp', 'dell', 'asus', 'asus', 'NA', 'NA', 'lenovo', 'dell', 'hp', 'lenovo', 'hp', 'hp', 'lenovo', 'hp', 'asus', 'NA', 'dell', 'lenovo', 'NA', 'NA', 'lenovo', 'lenovo', 'lenovo', 'dell', 'NA', 'NA', 'NA', 'lenovo', 'dell', 'lenovo', 'hp', 'lenovo', 'NA', 'NA', 'hp', 'asus', 'NA', 'lenovo', 'NA', 'NA', 'dell', 'lenovo', 'dell', 'hp', 'lenovo', 'hp', 'NA', 'NA', 'NA', 'lenovo', 'hp', 'NA', 'lenovo', 'NA', 'lenovo', 'hp', 'NA', 'NA', 'NA', 'hp', 'lenovo', 'apple', 'hp', 'NA', 'hp', 'NA', 'lenovo', 'dell', 'lenovo', 'hp', 'lenovo', 'NA', 'NA', 'NA', 'NA', 'lenovo', 'NA', 'NA', 'apple', 'NA', 'lenovo', 'NA', 'apple', 'NA', 'dell', 'hp', 'NA', 'NA', 'NA', 'hp', 'NA', 'hp', 'NA', 'lenovo', 'apple', 'hp', 'NA', 'dell', 'apple', 'NA', 'NA', 'dell', 'NA', 'apple', 'asus', 'dell', 'NA', 'asus', 'lenovo', 'NA', 'lenovo', 'hp', 'dell', 'NA', 'asus', 'NA', 'hp', 'asus', 'asus', 'NA', 'dell', 'lenovo', 'NA', 'lenovo', 'asus', 'NA', 'NA', 'hp', 'lenovo', 'asus', 'asus', 'NA', 'lenovo', 'hp', 'NA', 'asus', 'apple', 'NA', 'NA', 'asus', 'dell', 'asus', 'lenovo', 'apple', 'hp', 'dell', 'hp', 'asus', 'NA', 'hp', 'asus', 'asus', 'lenovo', 'asus', 'lenovo', 'asus', 'asus', 'asus', 'asus', 'dell', 'asus', 'NA', 'asus', 'NA', 'asus', 'NA', 'dell', 'dell', 'hp', 'apple', 'asus', 'lenovo', 'NA', 'NA', 'NA', 'apple', 'asus', 'lenovo', 'lenovo', 'lenovo', 'NA', 'asus', 'hp', 'NA', 'asus', 'NA', 'NA', 'asus', 'NA', 'dell', 'hp', 'NA', 'hp', 'asus', 'hp', 'hp', 'apple', 'hp', 'asus', 'dell', 'lenovo', 'lenovo', 'lenovo', 'asus', 'hp', 'NA', 'lenovo', 'lenovo', 'apple', 'NA', 'NA', 'dell', 'lenovo', 'lenovo', 'NA', 'hp', 'NA', 'hp', 'lenovo', 'asus', 'dell', 'asus', 'hp', 'NA', 'NA', 'hp', 'asus', 'dell', 'apple', 'asus', 'asus', 'lenovo', 'lenovo', 'NA', 'lenovo', 'NA', 'NA', 'lenovo', 'lenovo', 'hp', 'NA', 'asus', 'NA', 'dell', 'NA', 'lenovo', 'asus', 'lenovo', 'apple', 'hp', 'hp', 'NA', 'NA', 'asus', 'lenovo', 'asus', 'NA', 'NA', 'asus', 'NA', 'asus', 'lenovo', 'NA', 'NA', 'NA', 'asus', 'hp', 'asus', 'asus', 'lenovo', 'asus', 'dell', 'lenovo', 'lenovo', 'NA', 'asus', 'asus', 'lenovo', 'lenovo', 'dell', 'lenovo', 'lenovo', 'apple', 'NA', 'lenovo', 'NA', 'NA', 'apple', 'asus', 'NA', 'hp', 'NA', 'NA', 'lenovo', 'NA', 'lenovo', 'apple', 'NA', 'asus', 'NA', 'hp', 'NA', 'lenovo', 'lenovo', 'NA', 'lenovo', 'lenovo', 'NA', 'hp', 'NA', 'NA', 'NA', 'NA', 'lenovo', 'NA', 'hp', 'lenovo', 'asus', 'dell', 'NA', 'hp', 'hp', 'NA', 'dell', 'hp', 'hp', 'asus', 'lenovo', 'NA', 'hp', 'NA', 'NA', 'NA', 'dell', 'hp', 'NA', 'lenovo', 'apple', 'asus', 'NA', 'hp', 'lenovo', 'NA', 'hp', 'lenovo', 'hp', 'hp', 'asus', 'dell', 'asus', 'apple', 'hp', 'hp', 'NA', 'NA', 'asus', 'asus', 'dell', 'lenovo', 'dell', 'asus', 'asus', 'NA', 'lenovo', 'lenovo', 'asus', 'lenovo', 'asus', 'asus', 'lenovo', 'apple', 'NA', 'lenovo', 'NA', 'lenovo', 'dell', 'NA', 'NA', 'asus', 'dell', 'NA', 'NA', 'NA', 'NA', 'lenovo', 'NA', 'lenovo', 'lenovo', 'hp', 'dell', 'asus', 'lenovo', 'hp', 'NA', 'lenovo', 'lenovo', 'lenovo', 'lenovo', 'lenovo', 'asus', 'hp', 'NA', 'apple', 'hp', 'NA', 'lenovo', 'apple', 'dell', 'asus', 'asus', 'asus', 'lenovo', 'hp', 'dell', 'lenovo', 'lenovo', 'lenovo', 'NA', 'lenovo', 'asus', 'asus', 'asus', 'apple', 'apple', 'dell', 'dell', 'asus', 'asus', 'lenovo', 'lenovo', 'lenovo', 'lenovo', 'NA', 'asus', 'hp', 'lenovo', 'hp', 'lenovo', 'lenovo', 'dell', 'lenovo', 'NA', 'apple', 'hp', 'hp', 'lenovo', 'asus', 'lenovo', 'lenovo', 'dell', 'hp', 'NA', 'lenovo', 'NA', 'apple', 'hp', 'NA', 'lenovo', 'asus', 'NA', 'asus', 'NA', 'NA', 'asus', 'NA', 'lenovo', 'apple', 'lenovo', 'NA', 'hp', 'lenovo', 'lenovo', 'NA', 'asus', 'asus', 'asus', 'NA', 'NA', 'asus', 'apple', 'hp', 'hp', 'hp', 'dell', 'hp', 'asus', 'NA', 'dell', 'lenovo', 'NA', 'lenovo', 'dell', 'lenovo', 'NA', 'NA', 'lenovo', 'hp', 'hp', 'lenovo', 'lenovo', 'asus', 'dell', 'NA', 'lenovo', 'dell', 'hp', 'lenovo', 'NA', 'lenovo', 'hp', 'asus', 'NA', 'hp', 'hp', 'hp', 'NA', 'lenovo', 'asus', 'lenovo', 'lenovo', 'lenovo', 'asus', 'NA', 'lenovo', 'dell', 'asus', 'lenovo', 'lenovo', 'asus', 'apple', 'NA', 'apple', 'NA', 'hp', 'hp', 'hp', 'lenovo', 'dell', 'lenovo', 'NA', 'hp', 'NA', 'hp', 'apple', 'apple', 'NA', 'hp', 'NA', 'dell', 'lenovo', 'NA', 'NA', 'dell', 'dell', 'asus', 'hp', 'asus', 'asus', 'NA', 'NA', 'asus', 'hp', 'NA', 'NA', 'hp', 'asus', 'asus', 'lenovo', 'hp', 'NA', 'hp', 'hp', 'hp', 'asus', 'NA', 'lenovo', 'NA', 'NA', 'dell', 'asus', 'lenovo', 'hp', 'NA', 'dell', 'lenovo', 'hp', 'NA', 'NA', 'dell', 'lenovo', 'NA', 'lenovo', 'dell', 'lenovo', 'asus', 'dell', 'asus', 'NA', 'NA', 'asus', 'NA', 'lenovo', 'hp', 'dell', 'NA', 'lenovo', 'dell', 'lenovo', 'apple', 'hp', 'asus', 'hp', 'NA', 'lenovo', 'NA', 'lenovo', 'NA', 'hp', 'lenovo', 'dell', 'NA', 'apple', 'asus', 'NA', 'hp', 'asus', 'NA', 'dell', 'lenovo', 'NA', 'NA', 'NA', 'asus', 'hp', 'NA', 'lenovo', 'asus', 'NA', 'NA', 'asus', 'lenovo', 'hp', 'dell', 'lenovo', 'dell', 'NA', 'lenovo', 'dell', 'NA', 'apple', 'apple', 'lenovo', 'lenovo', 'NA', 'NA', 'dell', 'lenovo', 'apple', 'lenovo', 'hp', 'asus', 'apple', 'hp', 'hp', 'asus', 'dell', 'hp', 'lenovo', 'hp', 'dell', 'NA', 'asus', 'lenovo', 'NA', 'NA', 'lenovo', 'dell', 'hp', 'asus', 'hp', 'asus', 'asus', 'NA', 'NA', 'NA', 'hp', 'NA', 'NA', 'hp', 'NA', 'hp', 'dell', 'dell', 'hp', 'dell', 'dell', 'hp', 'hp', 'dell', 'lenovo', 'NA', 'lenovo', 'NA', 'hp', 'lenovo', 'NA', 'apple', 'hp', 'lenovo', 'apple', 'hp', 'NA', 'lenovo', 'NA', 'NA', 'NA', 'NA', 'NA', 'hp', 'dell', 'NA', 'lenovo', 'hp', 'asus', 'NA', 'hp', 'hp', 'NA', 'NA', 'lenovo', 'NA', 'NA', 'hp', 'hp', 'NA', 'NA', 'NA', 'asus', 'NA', 'NA', 'lenovo', 'NA', 'hp', 'NA', 'lenovo', 'NA', 'NA', 'NA', 'hp', 'asus', 'lenovo', 'NA', 'asus', 'lenovo', 'dell', 'NA', 'hp', 'asus', 'NA', 'hp', 'NA', 'NA', 'hp', 'NA', 'NA', 'hp', 'NA', 'hp', 'NA', 'NA', 'NA', 'NA', 'hp', 'NA', 'lenovo', 'lenovo', 'asus', 'dell', 'lenovo', 'lenovo', 'lenovo', 'NA', 'dell', 'NA', 'dell', 'hp', 'apple', 'hp', 'lenovo', 'lenovo', 'NA', 'NA', 'lenovo', 'NA', 'dell', 'dell', 'dell', 'NA', 'hp', 'asus', 'NA', 'lenovo', 'NA', 'lenovo', 'asus', 'dell', 'asus', 'lenovo', 'hp', 'lenovo', 'NA', 'NA', 'lenovo', 'NA', 'NA', 'lenovo', 'lenovo', 'hp', 'asus', 'asus', 'asus', 'hp', 'NA', 'NA', 'hp', 'dell', 'NA', 'hp', 'NA', 'lenovo', 'lenovo', 'NA', 'apple', 'lenovo', 'NA', 'dell', 'lenovo', 'NA', 'NA', 'hp', 'dell', 'NA', 'dell', 'apple', 'hp', 'hp', 'NA', 'NA', 'NA', 'lenovo', 'asus', 'NA', 'lenovo', 'NA', 'NA', 'NA', 'hp', 'lenovo', 'lenovo', 'NA', 'asus', 'lenovo', 'asus', 'hp', 'hp', 'hp', 'dell', 'NA', 'NA', 'NA', 'lenovo', 'NA', 'NA', 'apple', 'lenovo', 'NA', 'hp', 'NA', 'NA', 'hp', 'dell', 'hp', 'NA', 'lenovo', 'NA', 'lenovo', 'apple', 'hp', 'NA', 'asus', 'apple', 'hp', 'NA', 'asus', 'hp', 'hp', 'NA', 'NA', 'hp', 'lenovo', 'lenovo', 'hp', 'NA', 'hp', 'NA', 'hp', 'dell', 'NA', 'asus', 'dell', 'NA', 'lenovo', 'NA', 'hp', 'lenovo', 'dell', 'hp', 'lenovo', 'NA', 'hp', 'asus', 'hp', 'NA', 'lenovo', 'NA', 'lenovo', 'lenovo', 'apple', 'dell', 'lenovo', 'hp', 'hp', 'dell', 'NA', 'NA', 'hp', 'lenovo', 'lenovo', 'NA', 'asus', 'lenovo', 'asus', 'NA', 'lenovo', 'apple', 'asus', 'asus', 'hp', 'lenovo', 'apple', 'asus', 'hp', 'NA', 'lenovo', 'asus', 'NA', 'asus', 'lenovo', 'lenovo', 'asus', 'NA', 'lenovo', 'NA', 'apple', 'hp', 'asus', 'NA', 'NA', 'hp', 'NA', 'NA', 'asus', 'NA', 'asus', 'hp', 'asus', 'NA', 'hp', 'NA', 'lenovo', 'asus', 'NA', 'lenovo', 'NA', 'lenovo', 'dell', 'NA', 'hp', 'NA', 'NA', 'dell', 'lenovo', 'dell', 'lenovo', 'NA', 'lenovo', 'hp', 'NA', 'NA', 'lenovo', 'asus', 'asus', 'NA', 'NA', 'NA', 'lenovo', 'NA', 'NA', 'lenovo', 'NA', 'NA', 'NA', 'hp', 'asus', 'hp', 'lenovo', 'asus', 'hp', 'hp', 'lenovo', 'dell', 'lenovo', 'asus', 'dell', 'lenovo', 'asus', 'hp', 'NA', 'hp', 'lenovo', 'hp', 'NA', 'asus', 'lenovo', 'lenovo', 'lenovo', 'lenovo', 'hp', 'hp', 'hp', 'dell', 'asus', 'NA', 'NA', 'asus', 'lenovo', 'NA', 'NA', 'hp', 'NA', 'dell', 'NA', 'lenovo', 'NA', 'hp', 'NA', 'hp', 'NA', 'hp', 'hp', 'lenovo', 'hp', 'dell', 'NA', 'apple', 'lenovo', 'asus', 'lenovo', 'lenovo', 'NA', 'asus', 'asus', 'NA', 'apple', 'NA', 'NA', 'lenovo', 'asus', 'hp', 'dell', 'NA', 'NA', 'dell', 'lenovo', 'hp', 'dell', 'NA', 'hp', 'hp', 'NA', 'hp', 'hp', 'NA', 'asus', 'lenovo', 'lenovo', 'hp', 'hp', 'hp', 'lenovo', 'lenovo', 'asus', 'hp', 'NA', 'NA', 'NA', 'NA', 'NA', 'hp', 'lenovo', 'NA', 'NA', 'lenovo', 'NA', 'NA', 'NA', 'dell', 'dell', 'asus', 'lenovo', 'NA', 'NA', 'hp', 'hp', 'asus', 'NA', 'asus', 'NA', 'NA', 'lenovo', 'asus', 'hp', 'asus', 'asus', 'hp', 'NA', 'lenovo', 'dell', 'asus', 'NA', 'NA', 'lenovo', 'asus', 'dell', 'hp', 'lenovo', 'hp', 'hp', 'lenovo', 'hp', 'asus', 'lenovo', 'NA', 'lenovo', 'lenovo', 'lenovo', 'NA', 'NA', 'asus', 'apple', 'lenovo', 'NA', 'NA', 'asus', 'apple', 'lenovo', 'dell', 'hp', 'NA', 'NA', 'lenovo', 'NA', 'asus', 'dell', 'asus', 'asus', 'NA', 'hp', 'asus', 'hp', 'lenovo', 'NA', 'lenovo', 'hp', 'lenovo', 'asus', 'lenovo', 'NA', 'asus', 'NA', 'lenovo', 'NA', 'lenovo', 'dell', 'NA', 'NA', 'NA', 'hp', 'NA', 'asus', 'NA', 'NA', 'dell', 'lenovo', 'lenovo', 'asus', 'hp', 'lenovo', 'lenovo', 'apple', 'lenovo', 'asus', 'NA', 'asus', 'dell', 'lenovo', 'NA', 'lenovo', 'lenovo', 'hp', 'asus', 'hp', 'NA', 'lenovo', 'asus', 'lenovo', 'lenovo', 'hp', 'NA', 'hp', 'NA', 'NA', 'dell', 'NA', 'NA', 'asus', 'NA', 'NA', 'lenovo', 'asus', 'NA', 'NA', 'NA', 'hp', 'NA', 'asus', 'lenovo', 'NA', 'asus', 'hp', 'asus', 'apple', 'hp', 'hp', 'NA', 'lenovo', 'NA', 'hp', 'hp', 'NA', 'lenovo', 'NA', 'hp', 'hp', 'NA', 'NA', 'lenovo', 'lenovo', 'hp', 'NA', 'dell', 'asus', 'hp', 'hp', 'asus', 'asus', 'hp', 'lenovo', 'NA', 'NA', 'lenovo', 'NA', 'NA', 'NA', 'asus', 'lenovo', 'dell', 'lenovo', 'NA', 'NA', 'hp', 'lenovo', 'lenovo', 'lenovo', 'NA', 'NA', 'NA', 'NA', 'asus', 'asus', 'dell', 'asus', 'hp', 'NA', 'asus', 'NA', 'NA', 'apple', 'lenovo', 'lenovo', 'hp', 'apple', 'hp', 'NA', 'lenovo', 'NA', 'NA', 'NA', 'dell', 'NA', 'lenovo', 'hp', 'dell', 'lenovo', 'dell', 'dell', 'dell', 'NA', 'dell', 'hp', 'NA', 'NA', 'dell', 'hp', 'lenovo', 'lenovo', 'NA', 'asus', 'asus', 'hp', 'asus', 'hp', 'lenovo', 'lenovo', 'NA', 'NA', 'NA', 'apple', 'NA', 'NA', 'asus', 'asus', 'NA', 'NA', 'NA', 'lenovo', 'NA', 'NA', 'asus', 'NA', 'dell', 'NA', 'hp', 'asus', 'lenovo', 'lenovo', 'hp', 'NA', 'NA', 'asus', 'NA', 'lenovo', 'hp', 'lenovo', 'asus', 'lenovo', 'NA', 'hp', 'hp', 'lenovo', 'NA', 'NA', 'lenovo', 'lenovo', 'lenovo', 'asus', 'lenovo', 'NA', 'NA', 'NA', 'NA', 'dell', 'NA', 'lenovo', 'lenovo', 'lenovo', 'lenovo', 'dell', 'hp', 'hp', 'lenovo', 'hp', 'lenovo', 'dell', 'lenovo', 'NA', 'hp', 'hp', 'hp', 'NA', 'NA', 'lenovo', 'NA', 'NA', 'NA', 'NA', 'hp', 'lenovo', 'lenovo', 'NA', 'hp', 'hp', 'NA', 'dell', 'NA', 'NA', 'NA', 'NA', 'lenovo', 'asus', 'asus', 'NA', 'dell', 'lenovo', 'NA', 'lenovo', 'hp', 'NA', 'asus', 'hp', 'asus', 'lenovo', 'asus', 'NA', 'dell', 'NA', 'NA', 'NA', 'hp', 'asus', 'lenovo', 'lenovo', 'asus', 'lenovo', 'NA', 'dell', 'dell', 'NA', 'NA', 'NA', 'asus', 'dell', 'lenovo', 'NA', 'lenovo', 'lenovo', 'lenovo', 'asus', 'lenovo', 'NA', 'lenovo', 'asus', 'hp', 'NA', 'dell', 'asus', 'NA', 'NA', 'hp', 'dell', 'NA', 'NA', 'NA', 'NA', 'dell', 'NA', 'NA', 'lenovo', 'NA', 'hp', 'NA', 'hp', 'lenovo', 'asus', 'NA', 'lenovo', 'lenovo', 'dell', 'NA', 'lenovo', 'hp', 'apple', 'hp', 'hp', 'dell', 'hp', 'hp', 'NA', 'hp', 'dell', 'hp', 'hp', 'NA', 'dell', 'NA', 'NA', 'dell', 'NA', 'asus', 'asus', 'dell', 'lenovo', 'NA', 'lenovo', 'asus', 'lenovo', 'lenovo', 'NA', 'asus', 'NA', 'asus', 'hp', 'NA', 'hp', 'asus', 'asus', 'lenovo', 'NA', 'asus', 'asus', 'dell', 'dell', 'asus', 'hp', 'dell', 'NA', 'NA', 'dell', 'lenovo', 'asus', 'hp', 'NA', 'asus', 'lenovo', 'asus', 'lenovo', 'dell', 'NA', 'asus', 'apple', 'asus', 'dell', 'NA', 'NA', 'NA', 'hp', 'lenovo', 'NA', 'NA', 'NA', 'asus', 'NA', 'hp', 'hp', 'NA', 'asus', 'hp', 'NA', 'lenovo', 'lenovo', 'hp', 'lenovo', 'NA', 'NA', 'asus', 'asus', 'lenovo', 'NA', 'lenovo', 'lenovo', 'hp', 'hp', 'hp', 'NA', 'asus', 'lenovo', 'lenovo', 'asus', 'NA', 'hp', 'hp', 'lenovo', 'NA', 'hp', 'hp', 'lenovo', 'lenovo', 'hp', 'NA', 'lenovo', 'lenovo', 'apple', 'lenovo', 'lenovo', 'NA', 'lenovo', 'NA', 'NA', 'lenovo', 'NA', 'NA', 'NA', 'NA', 'NA', 'NA', 'hp', 'apple', 'NA', 'NA', 'NA', 'apple', 'lenovo', 'dell', 'NA', 'hp', 'hp', 'asus', 'lenovo', 'NA', 'apple', 'NA', 'asus', 'lenovo', 'dell', 'lenovo', 'hp', 'asus', 'hp', 'lenovo', 'dell', 'lenovo', 'asus', 'hp', 'hp', 'asus', 'asus', 'NA', 'NA', 'NA', 'NA', 'NA', 'NA', 'lenovo', 'NA', 'NA', 'lenovo', 'lenovo', 'NA', 'NA', 'NA', 'NA', 'asus', 'lenovo', 'hp', 'NA', 'NA', 'asus', 'NA', 'hp', 'lenovo', 'asus', 'NA', 'lenovo', 'asus', 'NA', 'hp', 'apple', 'NA', 'hp', 'asus', 'hp', 'asus', 'hp', 'NA', 'lenovo', 'NA', 'NA', 'lenovo', 'NA', 'asus', 'NA', 'lenovo', 'dell', 'apple', 'hp', 'hp', 'lenovo', 'lenovo', 'NA', 'hp', 'hp', 'lenovo', 'apple', 'NA', 'NA', 'lenovo', 'NA', 'hp', 'asus', 'lenovo', 'NA', 'hp', 'dell', 'dell', 'asus', 'lenovo', 'hp', 'hp', 'NA', 'NA', 'asus', 'NA', 'lenovo', 'NA', 'lenovo', 'lenovo', 'asus', 'NA', 'NA', 'lenovo', 'asus', 'asus', 'NA', 'dell', 'NA', 'asus', 'lenovo', 'NA', 'lenovo', 'asus', 'asus', 'lenovo', 'hp', 'hp', 'NA', 'asus', 'hp', 'asus']\n"
     ]
    }
   ],
   "source": [
    "#líneas de codigos para extraer las marcas de las laptops\n",
    "import re\n",
    "\n",
    "lista_marcas = []\n",
    "\n",
    "# Patrones de marcas conocidas\n",
    "patrones_marcas = [\"hp\", \"lenovo\", \"apple\", \"dell\", \"asus\"]  # Agrega aquí las marcas que deseas buscar\n",
    "\n",
    "for titulo in lista_titulos:\n",
    "    # Buscar coincidencias con los patrones de marcas\n",
    "    matches = re.findall(r'\\b(?:' + '|'.join(patrones_marcas) + r')\\b', titulo.lower())\n",
    "\n",
    "    if matches:\n",
    "        marca_encontrada = matches[0]\n",
    "        lista_marcas.append(marca_encontrada)\n",
    "    else:\n",
    "        lista_marcas.append(\"NA\")\n",
    "\n",
    "print(lista_marcas)"
   ]
  },
  {
   "cell_type": "code",
   "execution_count": null,
   "id": "0ca7bc39",
   "metadata": {},
   "outputs": [],
   "source": []
  },
  {
   "cell_type": "code",
   "execution_count": 24,
   "id": "9cbcb743",
   "metadata": {},
   "outputs": [
    {
     "data": {
      "text/html": [
       "<div>\n",
       "<style scoped>\n",
       "    .dataframe tbody tr th:only-of-type {\n",
       "        vertical-align: middle;\n",
       "    }\n",
       "\n",
       "    .dataframe tbody tr th {\n",
       "        vertical-align: top;\n",
       "    }\n",
       "\n",
       "    .dataframe thead th {\n",
       "        text-align: right;\n",
       "    }\n",
       "</style>\n",
       "<table border=\"1\" class=\"dataframe\">\n",
       "  <thead>\n",
       "    <tr style=\"text-align: right;\">\n",
       "      <th></th>\n",
       "      <th>titulo</th>\n",
       "      <th>url</th>\n",
       "      <th>precio</th>\n",
       "    </tr>\n",
       "  </thead>\n",
       "  <tbody>\n",
       "    <tr>\n",
       "      <th>0</th>\n",
       "      <td>Laptop HP 15-ef2511la azul índigo 15.6\", AMD R...</td>\n",
       "      <td>https://www.mercadolibre.com.pe/laptop-hp-15-e...</td>\n",
       "      <td>1.889</td>\n",
       "    </tr>\n",
       "    <tr>\n",
       "      <th>1</th>\n",
       "      <td>Apple Macbook Air 13,6  Chip M2 256gb</td>\n",
       "      <td>https://www.mercadolibre.com.pe/apple-macbook-...</td>\n",
       "      <td>5.339</td>\n",
       "    </tr>\n",
       "    <tr>\n",
       "      <th>2</th>\n",
       "      <td>Apple Macbook Air (13 pulgadas, 2020, Chip M1,...</td>\n",
       "      <td>https://www.mercadolibre.com.pe/apple-macbook-...</td>\n",
       "      <td>4.149</td>\n",
       "    </tr>\n",
       "    <tr>\n",
       "      <th>3</th>\n",
       "      <td>Laptop Asus Tuf Core I7 12650h 16gb Ddr5  1tb ...</td>\n",
       "      <td>https://www.mercadolibre.com.pe/laptop-asus-tu...</td>\n",
       "      <td>5.899</td>\n",
       "    </tr>\n",
       "    <tr>\n",
       "      <th>4</th>\n",
       "      <td>Laptop HP 245 G8 plateado ceniza oscuro 14\", A...</td>\n",
       "      <td>https://www.mercadolibre.com.pe/laptop-hp-245-...</td>\n",
       "      <td>2.035</td>\n",
       "    </tr>\n",
       "    <tr>\n",
       "      <th>...</th>\n",
       "      <td>...</td>\n",
       "      <td>...</td>\n",
       "      <td>...</td>\n",
       "    </tr>\n",
       "    <tr>\n",
       "      <th>2021</th>\n",
       "      <td>Laptop Hp 250 G8 15.6' I7 11va 8gb 512ssd  Fre...</td>\n",
       "      <td>https://articulo.mercadolibre.com.pe/MPE-62770...</td>\n",
       "      <td>NaN</td>\n",
       "    </tr>\n",
       "    <tr>\n",
       "      <th>2022</th>\n",
       "      <td>Msi Katana Gf76 17.3'' Ci7-12700h 16gb 1tb Ssd...</td>\n",
       "      <td>https://articulo.mercadolibre.com.pe/MPE-62836...</td>\n",
       "      <td>NaN</td>\n",
       "    </tr>\n",
       "    <tr>\n",
       "      <th>2023</th>\n",
       "      <td>Notebook Asus B1500ceae-ej2618x 15.6  Fhd Led</td>\n",
       "      <td>https://articulo.mercadolibre.com.pe/MPE-62882...</td>\n",
       "      <td>NaN</td>\n",
       "    </tr>\n",
       "    <tr>\n",
       "      <th>2024</th>\n",
       "      <td>Notebook Hp Probook 450 G9 15.6  Fhd Ips, Core...</td>\n",
       "      <td>https://articulo.mercadolibre.com.pe/MPE-62987...</td>\n",
       "      <td>NaN</td>\n",
       "    </tr>\n",
       "    <tr>\n",
       "      <th>2025</th>\n",
       "      <td>Asus Tuf A15, Ryzen 7-7735hs, 16gb, 1tb Ssd, R...</td>\n",
       "      <td>https://articulo.mercadolibre.com.pe/MPE-63728...</td>\n",
       "      <td>NaN</td>\n",
       "    </tr>\n",
       "  </tbody>\n",
       "</table>\n",
       "<p>2026 rows × 3 columns</p>\n",
       "</div>"
      ],
      "text/plain": [
       "                                                 titulo  \\\n",
       "0     Laptop HP 15-ef2511la azul índigo 15.6\", AMD R...   \n",
       "1                 Apple Macbook Air 13,6  Chip M2 256gb   \n",
       "2     Apple Macbook Air (13 pulgadas, 2020, Chip M1,...   \n",
       "3     Laptop Asus Tuf Core I7 12650h 16gb Ddr5  1tb ...   \n",
       "4     Laptop HP 245 G8 plateado ceniza oscuro 14\", A...   \n",
       "...                                                 ...   \n",
       "2021  Laptop Hp 250 G8 15.6' I7 11va 8gb 512ssd  Fre...   \n",
       "2022  Msi Katana Gf76 17.3'' Ci7-12700h 16gb 1tb Ssd...   \n",
       "2023      Notebook Asus B1500ceae-ej2618x 15.6  Fhd Led   \n",
       "2024  Notebook Hp Probook 450 G9 15.6  Fhd Ips, Core...   \n",
       "2025  Asus Tuf A15, Ryzen 7-7735hs, 16gb, 1tb Ssd, R...   \n",
       "\n",
       "                                                    url precio  \n",
       "0     https://www.mercadolibre.com.pe/laptop-hp-15-e...  1.889  \n",
       "1     https://www.mercadolibre.com.pe/apple-macbook-...  5.339  \n",
       "2     https://www.mercadolibre.com.pe/apple-macbook-...  4.149  \n",
       "3     https://www.mercadolibre.com.pe/laptop-asus-tu...  5.899  \n",
       "4     https://www.mercadolibre.com.pe/laptop-hp-245-...  2.035  \n",
       "...                                                 ...    ...  \n",
       "2021  https://articulo.mercadolibre.com.pe/MPE-62770...    NaN  \n",
       "2022  https://articulo.mercadolibre.com.pe/MPE-62836...    NaN  \n",
       "2023  https://articulo.mercadolibre.com.pe/MPE-62882...    NaN  \n",
       "2024  https://articulo.mercadolibre.com.pe/MPE-62987...    NaN  \n",
       "2025  https://articulo.mercadolibre.com.pe/MPE-63728...    NaN  \n",
       "\n",
       "[2026 rows x 3 columns]"
      ]
     },
     "execution_count": 24,
     "metadata": {},
     "output_type": "execute_result"
    }
   ],
   "source": [
    "data"
   ]
  },
  {
   "cell_type": "code",
   "execution_count": null,
   "id": "c988d55d",
   "metadata": {},
   "outputs": [],
   "source": [
    "### Retoques"
   ]
  },
  {
   "cell_type": "code",
   "execution_count": null,
   "id": "45b77de9",
   "metadata": {},
   "outputs": [],
   "source": [
    "# codigo para saber si hay datos repetidos en la data\n",
    "import pandas as pd\n",
    "\n",
    "# Supongamos que tienes un DataFrame llamado 'df' con tus datos\n",
    "duplicados = data.duplicated()\n",
    "\n",
    "# Puedes imprimir las filas duplicadas\n",
    "print(data[duplicados])\n",
    "\n",
    "# También puedes contar la cantidad de filas duplicadas\n",
    "cantidad_duplicados = sum(duplicados)\n",
    "print(\"Cantidad de filas duplicadas:\", cantidad_duplicados)"
   ]
  },
  {
   "cell_type": "markdown",
   "id": "bf23ca13",
   "metadata": {},
   "source": [
    "## imput para ingresar el precio minimo y máximo de las laptop"
   ]
  },
  {
   "cell_type": "code",
   "execution_count": 27,
   "id": "14fd2ca1",
   "metadata": {},
   "outputs": [
    {
     "name": "stdout",
     "output_type": "stream",
     "text": [
      "Ingrese el precio mínimo: 800\n",
      "Ingrese el precio máximo: 1600\n",
      "Laptops disponibles dentro del rango de precios:\n",
      "Título: Laptop Empresarial Hp Elitebook 840 G3 - Ci5 - 8gb - Ssd\n",
      "URL: https://articulo.mercadolibre.com.pe/MPE-439323098-laptop-empresarial-hp-elitebook-840-g3-ci5-8gb-ssd-_JM#position=36&search_layout=stack&type=item&tracking_id=8c1b58c5-2541-4f74-9d97-5c0d45a91f2e\n",
      "Precio: 993.0\n",
      "-----------------------------\n",
      "Título:  Laptop Refurbished Empresarial Dell Ci7 4gb Ssd 13.3/14''\n",
      "URL: https://articulo.mercadolibre.com.pe/MPE-430794220-laptop-refurbished-empresarial-dell-ci7-4gb-ssd-13314-_JM#position=46&search_layout=stack&type=item&tracking_id=1e283a8d-105c-4853-8c5c-f306088d68dc\n",
      "Precio: 992.0\n",
      "-----------------------------\n",
      "Título: Laptop Empresarial Dell 6430 Corei5 4gb Solido Ssd 240gb \n",
      "URL: https://articulo.mercadolibre.com.pe/MPE-444739405-laptop-empresarial-dell-6430-corei5-4gb-solido-ssd-240gb-_JM#position=50&search_layout=stack&type=item&tracking_id=1e283a8d-105c-4853-8c5c-f306088d68dc\n",
      "Precio: 999.0\n",
      "-----------------------------\n",
      "Título: Laptop Lenovo S145, 14   Amd A4-9125, 4gb / 500gb 81st000mlm\n",
      "URL: https://articulo.mercadolibre.com.pe/MPE-611146292-laptop-lenovo-s145-14-amd-a4-9125-4gb-500gb-81st000mlm-_JM#position=8&search_layout=stack&type=item&tracking_id=9b96e9a4-674e-4a69-9f01-e242a9248e5b\n",
      "Precio: 949.0\n",
      "-----------------------------\n",
      "Título: Laptop Hp/dell Empresarial Ci7, 4gb, 1tb, Video Hd 2gb, Hdmi\n",
      "URL: https://articulo.mercadolibre.com.pe/MPE-439256003-laptop-hpdell-empresarial-ci7-4gb-1tb-video-hd-2gb-hdmi-_JM#position=7&search_layout=stack&type=item&tracking_id=60f5c2c3-3dd6-4cce-9e87-03a30c949cc9\n",
      "Precio: 993.0\n",
      "-----------------------------\n",
      "Título: Cover Case Mate Protector Macbook Air 13.3 A1466 / A1369\n",
      "URL: https://articulo.mercadolibre.com.pe/MPE-447444636-cover-case-mate-protector-macbook-air-133-a1466-a1369-_JM#position=14&search_layout=stack&type=item&tracking_id=60f5c2c3-3dd6-4cce-9e87-03a30c949cc9\n",
      "Precio: 949.0\n",
      "-----------------------------\n",
      "Título: Laptop Lenovo Ideapad 3 14 Amd Ryzen 3 3250u 4gb- 81w000dvlm\n",
      "URL: https://articulo.mercadolibre.com.pe/MPE-610405404-laptop-lenovo-ideapad-3-14-amd-ryzen-3-3250u-4gb-81w000dvlm-_JM#position=27&search_layout=stack&type=item&tracking_id=60f5c2c3-3dd6-4cce-9e87-03a30c949cc9\n",
      "Precio: 999.0\n",
      "-----------------------------\n",
      "Título: Laptop Gamer Alienware X17 17.3  I9 12va 32gb 1tb Ssd 16gb\n",
      "URL: https://articulo.mercadolibre.com.pe/MPE-619446602-laptop-gamer-alienware-x17-173-i9-12va-32gb-1tb-ssd-16gb-_JM#position=20&search_layout=stack&type=item&tracking_id=69b5ee85-1cf6-4253-bf9f-cbcca34db06d\n",
      "Precio: 986.0\n",
      "-----------------------------\n",
      "Título: Laptop Hp Dy5011la Core I7-1225u 8gb 512gb Ssd 15.6 Iris Xe\n",
      "URL: https://articulo.mercadolibre.com.pe/MPE-615931090-laptop-hp-dy5011la-core-i7-1225u-8gb-512gb-ssd-156-iris-xe-_JM#position=10&search_layout=stack&type=item&tracking_id=79233d13-1fcc-4450-9881-87ba84a66edd\n",
      "Precio: 998.0\n",
      "-----------------------------\n",
      "Título: Acer Predator Helios Core I7 12700h 32dr5 1tssd Rtx3060 15.6\n",
      "URL: https://articulo.mercadolibre.com.pe/MPE-625017886-acer-predator-helios-core-i7-12700h-32dr5-1tssd-rtx3060-156-_JM#position=40&search_layout=stack&type=item&tracking_id=79233d13-1fcc-4450-9881-87ba84a66edd\n",
      "Precio: 999.0\n",
      "-----------------------------\n",
      "Título: Laptop Hp 15-ef2511la 15.6 Ryzen 5 5500u, 8gb Ram, Ssd 256gb\n",
      "URL: https://articulo.mercadolibre.com.pe/MPE-620944812-laptop-hp-15-ef2511la-156-ryzen-5-5500u-8gb-ram-ssd-256gb-_JM#position=44&search_layout=stack&type=item&tracking_id=79233d13-1fcc-4450-9881-87ba84a66edd\n",
      "Precio: 897.0\n",
      "-----------------------------\n",
      "Título: Hp Elitebook 845 G8 14  Ryzen 5 Pro 5650u 6 Nucleos 16gb\n",
      "URL: https://articulo.mercadolibre.com.pe/MPE-627575110-hp-elitebook-845-g8-14-ryzen-5-pro-5650u-6-nucleos-16gb-_JM#position=9&search_layout=stack&type=item&tracking_id=3c12b31b-1f07-4c93-b23f-6d1edd1858c0\n",
      "Precio: 900.0\n",
      "-----------------------------\n",
      "Título: Macbook Pro 14.2 M2 2022 16gb 1tb M2 Pro 10-core 16cpu/16gpu\n",
      "URL: https://articulo.mercadolibre.com.pe/MPE-628540168-macbook-pro-142-m2-2022-16gb-1tb-m2-pro-10-core-16cpu16gpu-_JM#position=32&search_layout=stack&type=item&tracking_id=3c12b31b-1f07-4c93-b23f-6d1edd1858c0\n",
      "Precio: 985.0\n",
      "-----------------------------\n",
      "Título: Dell Gamer G15 Ryzen 7 6800h 16gb 512ssd Rtx3050ti 4gb W11\n",
      "URL: https://articulo.mercadolibre.com.pe/MPE-618481427-dell-gamer-g15-ryzen-7-6800h-16gb-512ssd-rtx3050ti-4gb-w11-_JM#position=26&search_layout=stack&type=item&tracking_id=5136d643-7744-4dff-b805-d35ffee3e4b8\n",
      "Precio: 999.0\n",
      "-----------------------------\n",
      "Título: Laptop Hp G8 14' I5 10ma Hd Ram 8gb 1tb Ssd Lan Rj45 Veloz\n",
      "URL: https://articulo.mercadolibre.com.pe/MPE-627501462-laptop-hp-g8-14-i5-10ma-hd-ram-8gb-1tb-ssd-lan-rj45-veloz-_JM#position=42&search_layout=stack&type=item&tracking_id=456ac9bb-a91e-4d21-8eac-d61fb452e0a0\n",
      "Precio: 959.0\n",
      "-----------------------------\n",
      "Título: Laptop Tactil Lenovo C340 15.6' Fhd I7 8gb 1tb 120g Ssd V2gb\n",
      "URL: https://articulo.mercadolibre.com.pe/MPE-603927144-laptop-tactil-lenovo-c340-156-fhd-i7-8gb-1tb-120g-ssd-v2gb-_JM#position=28&search_layout=stack&type=item&tracking_id=12cf4e51-3021-485a-8e73-99ed6359dd6f\n",
      "Precio: 999.0\n",
      "-----------------------------\n",
      "Título: Laptop Gamer Gigabyte G5 I5 11va 16gb 512ssd V6gb 3060 \n",
      "URL: https://articulo.mercadolibre.com.pe/MPE-613431595-laptop-gamer-gigabyte-g5-i5-11va-16gb-512ssd-v6gb-3060-_JM#position=30&search_layout=stack&type=item&tracking_id=12cf4e51-3021-485a-8e73-99ed6359dd6f\n",
      "Precio: 800.0\n",
      "-----------------------------\n",
      "Título: Lenovo Legión5 Ryzen7 5800h-165hz 16gb Ssd512gb Rtx3050ti4gb\n",
      "URL: https://articulo.mercadolibre.com.pe/MPE-614903437-lenovo-legion5-ryzen7-5800h-165hz-16gb-ssd512gb-rtx3050ti4gb-_JM#position=28&search_layout=stack&type=item&tracking_id=87090dc3-cca6-4150-bc45-e8fd73bec7f6\n",
      "Precio: 996.0\n",
      "-----------------------------\n",
      "Título: Dell Gamer G16 165hz 2k Ci7-12700h 16gb 1tb Ssd Rtx3060 6gb\n",
      "URL: https://articulo.mercadolibre.com.pe/MPE-626319819-dell-gamer-g16-165hz-2k-ci7-12700h-16gb-1tb-ssd-rtx3060-6gb-_JM#position=46&search_layout=stack&type=item&tracking_id=87090dc3-cca6-4150-bc45-e8fd73bec7f6\n",
      "Precio: 989.0\n",
      "-----------------------------\n",
      "Título: Laptop Asus M3401  14' Ryzen 5 8gb 512gb Ssd Rtx 3050  6 Nu\n",
      "URL: https://articulo.mercadolibre.com.pe/MPE-620519476-laptop-asus-m3401-14-ryzen-5-8gb-512gb-ssd-rtx-3050-6-nu-_JM#position=24&search_layout=stack&type=item&tracking_id=e8a01e13-e285-41db-9c79-27552187c70d\n",
      "Precio: 800.0\n",
      "-----------------------------\n",
      "Título: Laptop Gamer  Msi Ge76 17.3' I9 12va 16gb 1tbssd V6gb W11\n",
      "URL: https://articulo.mercadolibre.com.pe/MPE-626604410-laptop-gamer-msi-ge76-173-i9-12va-16gb-1tbssd-v6gb-w11-_JM#position=27&search_layout=stack&type=item&tracking_id=e8a01e13-e285-41db-9c79-27552187c70d\n",
      "Precio: 999.0\n",
      "-----------------------------\n",
      "Título: Laptop Hp 16.1' 144hz I5 11va 8gb 512gb Ssd Video 4gb 3050\n",
      "URL: https://articulo.mercadolibre.com.pe/MPE-627214231-laptop-hp-161-144hz-i5-11va-8gb-512gb-ssd-video-4gb-3050-_JM#position=28&search_layout=stack&type=item&tracking_id=e8a01e13-e285-41db-9c79-27552187c70d\n",
      "Precio: 999.0\n",
      "-----------------------------\n",
      "Título: Laptop Hp  Zbook 15.6' Fhd I7 11va 32gb 512ssd 8nuc W11 Pro \n",
      "URL: https://articulo.mercadolibre.com.pe/MPE-627285657-laptop-hp-zbook-156-fhd-i7-11va-32gb-512ssd-8nuc-w11-pro-_JM#position=31&search_layout=stack&type=item&tracking_id=e8a01e13-e285-41db-9c79-27552187c70d\n",
      "Precio: 900.0\n",
      "-----------------------------\n",
      "Título: Laptop Acer Windows 10\n",
      "URL: https://articulo.mercadolibre.com.pe/MPE-642152960-laptop-acer-windows-10-_JM#position=8&search_layout=stack&type=item&tracking_id=335314af-c753-4ef3-8ceb-5f701e53a5a4\n",
      "Precio: 880.0\n",
      "-----------------------------\n",
      "Título: Lenovo Thinkpad X1 Yoga 2da Gen, I7 7600u, 8 Gb, Ssd 256gb\n",
      "URL: https://articulo.mercadolibre.com.pe/MPE-632062026-lenovo-thinkpad-x1-yoga-2da-gen-i7-7600u-8-gb-ssd-256gb-_JM#position=24&search_layout=stack&type=item&tracking_id=335314af-c753-4ef3-8ceb-5f701e53a5a4\n",
      "Precio: 850.0\n",
      "-----------------------------\n",
      "Título: Laptop Acer Nitro 5 Ci5 11va 144hz Rtx3050 Seminuevo A 3199\n",
      "URL: https://articulo.mercadolibre.com.pe/MPE-637108548-laptop-acer-nitro-5-ci5-11va-144hz-rtx3050-seminuevo-a-3199-_JM#position=36&search_layout=stack&type=item&tracking_id=335314af-c753-4ef3-8ceb-5f701e53a5a4\n",
      "Precio: 800.0\n",
      "-----------------------------\n",
      "Título: Lenovo Ideapad 510s  14    Core I5- 7200u- Usada\n",
      "URL: https://articulo.mercadolibre.com.pe/MPE-628502024-lenovo-ideapad-510s-14-core-i5-7200u-usada-_JM#position=48&search_layout=stack&type=item&tracking_id=335314af-c753-4ef3-8ceb-5f701e53a5a4\n",
      "Precio: 999.0\n",
      "-----------------------------\n",
      "Título: Laptop Hp 15-dy5010la Corei7 12gb 512gb Win11 12gen 15.6 \n",
      "URL: https://articulo.mercadolibre.com.pe/MPE-645935302-laptop-hp-15-dy5010la-corei7-12gb-512gb-win11-12gen-156-_JM#position=5&search_layout=stack&type=item&tracking_id=77cd5f5f-a8b0-4edd-a8b7-b8d6823be1d2\n",
      "Precio: 849.0\n",
      "-----------------------------\n",
      "Título: Laptop Lenovo V15 15.6 Fhd Ryzen 7 5700u 8gb 256gb Ssd +1tb \n",
      "URL: https://articulo.mercadolibre.com.pe/MPE-624259555-laptop-lenovo-v15-156-fhd-ryzen-7-5700u-8gb-256gb-ssd-1tb-_JM#position=42&search_layout=stack&type=item&tracking_id=5d14559f-de82-45ff-abd5-dd06358b434b\n",
      "Precio: 850.0\n",
      "-----------------------------\n",
      "Título: Notebook Hp Probook 450 G9 15.6  Fhd Led, Core I7-1255u\n",
      "URL: https://articulo.mercadolibre.com.pe/MPE-629627550-notebook-hp-probook-450-g9-156-fhd-led-core-i7-1255u-_JM#position=48&search_layout=stack&type=item&tracking_id=62a34ed2-db1b-48cd-87cd-c74128521fbe\n",
      "Precio: 990.0\n",
      "-----------------------------\n",
      "Título: Asus Zephyrus G14 Ryzen 7 5800h 16gb, 512gb, Rtx3050 120hz\n",
      "URL: https://articulo.mercadolibre.com.pe/MPE-632201988-asus-zephyrus-g14-ryzen-7-5800h-16gb-512gb-rtx3050-120hz-_JM#position=1&search_layout=stack&type=item&tracking_id=bd46cc26-73e6-45d1-9f2e-640f1824c926\n",
      "Precio: 850.0\n",
      "-----------------------------\n",
      "Título: Notebook Hp Victus 15-fb0112la 15.6  Fhd Ips Amd Ryzen 7 \n",
      "URL: https://articulo.mercadolibre.com.pe/MPE-640528144-notebook-hp-victus-15-fb0112la-156-fhd-ips-amd-ryzen-7-_JM#position=24&search_layout=stack&type=item&tracking_id=bd46cc26-73e6-45d1-9f2e-640f1824c926\n",
      "Precio: 936.0\n",
      "-----------------------------\n",
      "Título: Rog Zephyrus M16, Core I9-13900h, 16gb, 1tb Ssd, Rtx4070 8gb\n",
      "URL: https://articulo.mercadolibre.com.pe/MPE-642790044-rog-zephyrus-m16-core-i9-13900h-16gb-1tb-ssd-rtx4070-8gb-_JM#position=5&search_layout=stack&type=item&tracking_id=6fe952c2-731d-4603-be8e-5b3e097db22d\n",
      "Precio: 937.0\n",
      "-----------------------------\n",
      "Título: Thinkpad T490\n",
      "URL: https://articulo.mercadolibre.com.pe/MPE-617165014-thinkpad-t490-_JM#position=3&search_layout=stack&type=item&tracking_id=e29507dd-2bc3-4fb7-b864-907963da64bd\n",
      "Precio: 999.0\n",
      "-----------------------------\n",
      "Título: Asus Rog Zephyrus G14 (1tb Ssd, Amd Ryzen 9 4th Gen, Rtx3060\n",
      "URL: https://articulo.mercadolibre.com.pe/MPE-605913652-asus-rog-zephyrus-g14-1tb-ssd-amd-ryzen-9-4th-gen-rtx3060-_JM#position=9&search_layout=stack&type=item&tracking_id=e29507dd-2bc3-4fb7-b864-907963da64bd\n",
      "Precio: 950.0\n",
      "-----------------------------\n",
      "Título: Huawei Matebook D14 Ssd 512gb, 8g Ram \n",
      "URL: https://articulo.mercadolibre.com.pe/MPE-604075616-huawei-matebook-d14-ssd-512gb-8g-ram-_JM#position=24&search_layout=stack&type=item&tracking_id=b1c806a2-111e-48ac-9072-3f19d20ca8b1\n",
      "Precio: 850.0\n",
      "-----------------------------\n",
      "Título: Laptop Dell Inspiron 3501 15.6' Led Hd I3 11ava 4gb 1tb W10\n",
      "URL: https://articulo.mercadolibre.com.pe/MPE-605441085-laptop-dell-inspiron-3501-156-led-hd-i3-11ava-4gb-1tb-w10-_JM#position=25&search_layout=stack&type=item&tracking_id=b1c806a2-111e-48ac-9072-3f19d20ca8b1\n",
      "Precio: 999.0\n",
      "-----------------------------\n",
      "Título: Acer Predator Helios 300 I7-8750h 32gb Ram 512gb Ssd 1tb Hdd\n",
      "URL: https://articulo.mercadolibre.com.pe/MPE-441931754-acer-predator-helios-300-i7-8750h-32gb-ram-512gb-ssd-1tb-hdd-_JM#position=46&search_layout=stack&type=item&tracking_id=b1c806a2-111e-48ac-9072-3f19d20ca8b1\n",
      "Precio: 900.0\n",
      "-----------------------------\n",
      "Título: Laptop Gaming Fx506 15.6' I5 11va 8gb 512ssd Video 4gb 3050\n",
      "URL: https://articulo.mercadolibre.com.pe/MPE-627272729-laptop-gaming-fx506-156-i5-11va-8gb-512ssd-video-4gb-3050-_JM#position=34&search_layout=stack&type=item&tracking_id=432f7110-e1ef-47be-b848-d3e4281d9d94\n",
      "Precio: 800.0\n",
      "-----------------------------\n",
      "Título: Laptop Lenovo Flex 5 14' Ryzen 5 16gb 256gb Ssd Tactil W10\n",
      "URL: https://articulo.mercadolibre.com.pe/MPE-614591534-laptop-lenovo-flex-5-14-ryzen-5-16gb-256gb-ssd-tactil-w10-_JM#position=39&search_layout=stack&type=item&tracking_id=443db8a5-f81f-464b-815b-808b09cecf3c\n",
      "Precio: 900.0\n",
      "-----------------------------\n",
      "Título: Apple Macbook Pro 13 Chip M2 Ram 8gb Ssd 256gb 2022\n",
      "URL: https://articulo.mercadolibre.com.pe/MPE-622718235-apple-macbook-pro-13-chip-m2-ram-8gb-ssd-256gb-2022-_JM#position=44&search_layout=stack&type=item&tracking_id=443db8a5-f81f-464b-815b-808b09cecf3c\n",
      "Precio: 900.0\n",
      "-----------------------------\n",
      "Título: Laptop Dell Latitude 3420 - Core I3 3ghz- 1tb + 4gb Ddr \n",
      "URL: https://articulo.mercadolibre.com.pe/MPE-601844886-laptop-dell-latitude-3420-core-i3-3ghz-1tb-4gb-ddr-_JM#position=15&search_layout=stack&type=item&tracking_id=11548a24-333c-4ee9-a5c3-3aade44f33cc\n",
      "Precio: 990.0\n",
      "-----------------------------\n",
      "Título: Notebook Hyundai Hybook Plus, 14.1  1366x768 \n",
      "URL: https://articulo.mercadolibre.com.pe/MPE-629348192-notebook-hyundai-hybook-plus-141-1366x768-_JM#position=24&search_layout=stack&type=item&tracking_id=772bf8d2-ef5c-46ae-a278-8893697b6453\n",
      "Precio: 850.0\n",
      "-----------------------------\n",
      "Título: Asus Vivobook Flip 14 Touchscreen Convertible 2 In 1 Laptop\n",
      "URL: https://articulo.mercadolibre.com.pe/MPE-608866958-asus-vivobook-flip-14-touchscreen-convertible-2-in-1-laptop-_JM#position=31&search_layout=stack&type=item&tracking_id=b5a780d2-f85c-4e13-9fbb-0f56d8060d82\n",
      "Precio: 950.0\n",
      "-----------------------------\n",
      "Título: Laptop Lenovo Flex 5 15 X360 Tactil Ips Corei7 16gb 512ssd\n",
      "URL: https://articulo.mercadolibre.com.pe/MPE-618900900-laptop-lenovo-flex-5-15-x360-tactil-ips-corei7-16gb-512ssd-_JM#position=34&search_layout=stack&type=item&tracking_id=b5a780d2-f85c-4e13-9fbb-0f56d8060d82\n",
      "Precio: 800.0\n",
      "-----------------------------\n",
      "Título: Macbook Air 2020 M1  8gb Ram 256gb\n",
      "URL: https://articulo.mercadolibre.com.pe/MPE-615795012-macbook-air-2020-m1-8gb-ram-256gb-_JM#position=38&search_layout=stack&type=item&tracking_id=b5a780d2-f85c-4e13-9fbb-0f56d8060d82\n",
      "Precio: 990.0\n",
      "-----------------------------\n",
      "Título: Laptop Huawei Matebook D16 I5 12th Gen 8gb Ram 512gb Ssd\n",
      "URL: https://articulo.mercadolibre.com.pe/MPE-629048292-laptop-huawei-matebook-d16-i5-12th-gen-8gb-ram-512gb-ssd-_JM#position=23&search_layout=stack&type=item&tracking_id=ffa13090-2922-44f6-8649-4fa976943171\n",
      "Precio: 850.0\n",
      "-----------------------------\n",
      "Título: Laptop Tactil Asus 13.4' I9 12va 16gb 1tb 14nuc V4gb W11 Pro\n",
      "URL: https://articulo.mercadolibre.com.pe/MPE-627292644-laptop-tactil-asus-134-i9-12va-16gb-1tb-14nuc-v4gb-w11-pro-_JM#position=35&search_layout=stack&type=item&tracking_id=8e7f9525-a104-4ed1-806e-3da9c4f4b196\n",
      "Precio: 936.0\n",
      "-----------------------------\n",
      "Título: Dell Alienware M15 R7 2k Ci7-12700h 16gb 512ssd Rtx3060 6gb\n",
      "URL: https://articulo.mercadolibre.com.pe/MPE-643701632-dell-alienware-m15-r7-2k-ci7-12700h-16gb-512ssd-rtx3060-6gb-_JM#position=49&search_layout=stack&type=item&tracking_id=8e7f9525-a104-4ed1-806e-3da9c4f4b196\n",
      "Precio: 800.0\n",
      "-----------------------------\n",
      "Título: Asus Rog Zephyrus Duo G551qr 300hz Dualscreen Gaming Laptop \n",
      "URL: https://articulo.mercadolibre.com.pe/MPE-612517968-asus-rog-zephyrus-duo-g551qr-300hz-dualscreen-gaming-laptop-_JM#position=3&search_layout=stack&type=item&tracking_id=791915d6-c9ca-48eb-9e16-bc866f08b32f\n",
      "Precio: 987.0\n",
      "-----------------------------\n",
      "Título: Apple Macbook Pro 16  M2 Max  Ssd 1tb / 32gb Ram /38c Gpu Sg\n",
      "URL: https://articulo.mercadolibre.com.pe/MPE-633844936-apple-macbook-pro-16-m2-max-ssd-1tb-32gb-ram-38c-gpu-sg-_JM#position=4&search_layout=stack&type=item&tracking_id=e31b4a17-d5d4-4659-aa69-56f66c8f8ca7\n",
      "Precio: 990.0\n",
      "-----------------------------\n",
      "Título: Asus Tuf Gaming 15.6  144hz Ci7-12650h, 16gb 1tb Rtx3060 6gb\n",
      "URL: https://articulo.mercadolibre.com.pe/MPE-635133662-asus-tuf-gaming-156-144hz-ci7-12650h-16gb-1tb-rtx3060-6gb-_JM#position=26&search_layout=stack&type=item&tracking_id=f634de29-72e5-4e88-9df6-d685fe45fdfe\n",
      "Precio: 880.0\n",
      "-----------------------------\n",
      "Título: Laptop Hp 0013 15.6' Full Hd Ryzen 7 12gb 512gb Ssd\n",
      "URL: https://articulo.mercadolibre.com.pe/MPE-441074591-laptop-hp-0013-156-full-hd-ryzen-7-12gb-512gb-ssd-_JM#position=48&search_layout=stack&type=item&tracking_id=f634de29-72e5-4e88-9df6-d685fe45fdfe\n",
      "Precio: 900.0\n",
      "-----------------------------\n"
     ]
    }
   ],
   "source": [
    "# Convertir la columna 'precio' a tipo de dato 'float'\n",
    "data['precio'] = data['precio'].astype(float)\n",
    "\n",
    "# Ingresar el rango de precios\n",
    "precio_min = float(input(\"Ingrese el precio mínimo: \"))\n",
    "precio_max = float(input(\"Ingrese el precio máximo: \"))\n",
    "\n",
    "# Filtrar las laptops dentro del rango de precios\n",
    "laptops_filtradas = data[(data['precio'] >= precio_min) & (data['precio'] <= precio_max)]\n",
    "\n",
    "# Imprimir las laptops que cumplen con el rango de precios\n",
    "if laptops_filtradas.empty:\n",
    "    print(\"No se encontraron laptops dentro del rango de precios especificado.\")\n",
    "else:\n",
    "    print(\"Laptops disponibles dentro del rango de precios:\")\n",
    "    for index, laptop in laptops_filtradas.iterrows():\n",
    "        print(f\"Título: {laptop['titulo']}\")\n",
    "        print(f\"URL: {laptop['url']}\")\n",
    "        print(f\"Precio: {laptop['precio']}\")\n",
    "        print(\"-----------------------------\")"
   ]
  },
  {
   "cell_type": "markdown",
   "id": "eafcd775",
   "metadata": {},
   "source": [
    "## <p style=\"color:Darkred;\">Imput para ingresar las marcas que el usuario desea averiguar</p>"
   ]
  },
  {
   "cell_type": "code",
   "execution_count": null,
   "id": "c8e94d94",
   "metadata": {},
   "outputs": [],
   "source": [
    "# Solicitar al usuario ingresar las marcas deseadas\n",
    "marcas_deseadas = input(\"Ingresa las marcas separadas por comas: \").lower().split(\",\")\n",
    "\n",
    "# Filtrar el DataFrame por las marcas deseadas\n",
    "laptops_filtradas = data[data['marca'].str.lower().isin(marcas_deseadas)]\n",
    "\n",
    "# Crear un nuevo DataFrame con las laptops filtradas\n",
    "df_filtrado = pd.DataFrame(laptops_filtradas, columns=['titulo', 'url', 'precio', 'marca'])\n",
    "\n",
    "# Imprimir el DataFrame filtrado en formato de tabla\n",
    "print(df_filtrado.to_string(index=False))"
   ]
  },
  {
   "cell_type": "markdown",
   "id": "6cf8036f",
   "metadata": {},
   "source": [
    "<h1 align=\"center\" style=\"color:#8B0000;font-size:32px;\">LAPTOPS GAMER</h1>\n",
    "\n",
    "**Nuestro objetivo  es realizar web scraping a páginas web de venta de laptops gamer y laptops (mercado libre) para obtener precios, marcas, descripciones y enlaces. Esto permitirá comparar los precios de laptops gamer con los de laptops  y analizar las diferencias.**\n"
   ]
  },
  {
   "cell_type": "markdown",
   "id": "e4fccd32",
   "metadata": {},
   "source": [
    "**<span style=\"color:darkblue; font-size:32px;\">WEBS A UTILIZAR</span>**\n",
    "\n",
    "**<span style=\"color:darkgreen; font-size:24px; text-transform:uppercase;\">RIPLEY</span>**\n"
   ]
  },
  {
   "cell_type": "code",
   "execution_count": 2,
   "id": "6e693cd5",
   "metadata": {},
   "outputs": [
    {
     "name": "stdout",
     "output_type": "stream",
     "text": [
      "<Response [200]>\n"
     ]
    }
   ],
   "source": [
    "import requests\n",
    "from bs4 import BeautifulSoup\n",
    "import pandas as pd \n",
    "verificar=requests.get(\"https://simple.ripley.com.pe/tecnologia/computacion-gamer/ver-todo?facet=Tipo%20de%20Producto%3ALaptops&s=mdco\")\n",
    "print(verificar)"
   ]
  },
  {
   "cell_type": "code",
   "execution_count": 3,
   "id": "13bf72bc",
   "metadata": {},
   "outputs": [
    {
     "data": {
      "text/plain": [
       "[<li class=\"catalog-prices__offer-price\" title=\"Precio Internet\">S/ 2,599</li>,\n",
       " <li class=\"catalog-prices__offer-price\" title=\"Precio Internet\">S/ 2,999</li>,\n",
       " <li class=\"catalog-prices__offer-price\" title=\"Precio Internet\">S/ 3,399</li>,\n",
       " <li class=\"catalog-prices__offer-price catalog-prices__highest\" title=\"Precio Internet\">S/ 4,399</li>,\n",
       " <li class=\"catalog-prices__offer-price\" title=\"Precio Internet\">S/ 3,399</li>,\n",
       " <li class=\"catalog-prices__offer-price catalog-prices__highest\" title=\"Precio Internet\">S/ 2,899</li>,\n",
       " <li class=\"catalog-prices__offer-price catalog-prices__highest\" title=\"Precio Internet\">S/ 4,099</li>,\n",
       " <li class=\"catalog-prices__offer-price catalog-prices__highest\" title=\"Precio Internet\">S/ 3,399</li>,\n",
       " <li class=\"catalog-prices__offer-price\" title=\"Precio Internet\">S/ 5,399</li>,\n",
       " <li class=\"catalog-prices__offer-price catalog-prices__highest\" title=\"Precio Internet\">S/ 7,699</li>,\n",
       " <li class=\"catalog-prices__offer-price catalog-prices__highest\" title=\"Precio Internet\">S/ 6,199</li>,\n",
       " <li class=\"catalog-prices__offer-price catalog-prices__highest\" title=\"Precio Internet\">S/ 4,099</li>,\n",
       " <li class=\"catalog-prices__offer-price catalog-prices__highest\" title=\"Precio Internet\">S/ 6,999.99</li>]"
      ]
     },
     "execution_count": 3,
     "metadata": {},
     "output_type": "execute_result"
    }
   ],
   "source": [
    "# URL de la página web a hacer scraping\n",
    "url = 'https://simple.ripley.com.pe/tecnologia/computacion-gamer/ver-todo?facet=Tipo%20de%20Producto%3ALaptops&s=mdco'\n",
    "\n",
    "# Realizar la solicitud HTTP GET a la página\n",
    "response = requests.get(url)\n",
    "\n",
    "# Crear el objeto BeautifulSoup\n",
    "soup = BeautifulSoup(response.text, 'html.parser')\n",
    "precios=soup.find_all(\"li\", class_=[\"catalog-prices__offer-price\"])\n",
    "\n",
    "precios"
   ]
  },
  {
   "cell_type": "code",
   "execution_count": 4,
   "id": "f8906c67",
   "metadata": {},
   "outputs": [
    {
     "name": "stdout",
     "output_type": "stream",
     "text": [
      "['S/ 2,599', 'S/ 2,999', 'S/ 3,399', 'S/ 4,399', 'S/ 3,399', 'S/ 2,899', 'S/ 4,099', 'S/ 3,399', 'S/ 5,399', 'S/ 7,699', 'S/ 6,199', 'S/ 4,099', 'S/ 6,999.99']\n"
     ]
    },
    {
     "data": {
      "text/plain": [
       "13"
      ]
     },
     "execution_count": 4,
     "metadata": {},
     "output_type": "execute_result"
    }
   ],
   "source": [
    "pre= list()\n",
    "\n",
    "for i in precios: \n",
    "    pre.append(i.text)\n",
    "print(pre)\n",
    "len(pre)"
   ]
  },
  {
   "cell_type": "code",
   "execution_count": 7,
   "id": "8ae413f7",
   "metadata": {},
   "outputs": [
    {
     "name": "stdout",
     "output_type": "stream",
     "text": [
      "[\"LAPTOP ACER NITRO 5 INTEL CORE I5 8GB RAM 512GB SSD 15.6''\\xa0FHD IPS 144HZ\\xa0GTX 1650\\xa04GB\", \"LAPTOP ACER NITRO 5 INTEL CORE I5 8GB RAM 512GB SSD 15.6''\\xa0FHD IPS 144HZ\\xa0RTX 3050 4GB\", \"LAPTOP LENOVO IDEAPAD GAMING 3 AMD RYZEN 5 16GB RAM 512GB SSD 15.6''\", \"LAPTOP GAMER\\xa0ASUS\\xa0TUF DASH F15 F517ZC-HN005W I5 12VA 8GB RAM 512GB SSD 15.6''\", \"LAPTOP GAMER ASUS TUF DASH F15 FX517ZC-HN005W INTEL CORE I5 12450H 8GB RAM 512GB SSD 15.6''\", \"LAPTOP GAMER ASUS TUF F15 FX506LHB-HN323UW INTEL CORE I5 10300H 8GB RAM 512GB SSD 15.6''\", 'LAPTOP ACER NITRO 5 CORE I5 12500H 8GB 512GB SSD 15,6\" FHD IPS 144HZ RTX3050 4GB W11', \"LAPTOP LENOVO IDEAPAD GAMING 3 AMD RYZEN 5 8GB RAM 1TB HDD + 256GB SSD 15.6''\", 'LAPTOP ASUS TUF DASH F15 FX517ZM-HN001W INTEL CORE I7 12VA GEN 16GB RAM 512GB SSD 15.6\"', \"LAPTOP GAMER ROG STRIX G15 G513RM-HQ081W AMD RYZEN 9 6900HX 16GB RAM 1TB SSD RTX3060 15.6''\", 'LAPTOP ASUS ROG STRIX G15 G513RC-HN097W AMD RYZEN 7 16GB RAM 512GB SSD 15.6\"', 'LAPTOP ACER NITRO 5 INTEL CORE I5\\xa012VA GEN\\xa0\\xa08GB RAM 512GB SSD 15.6\"\\xa0FHD IPS 144HZ RTX 3050 4GB', 'LAPTOP ASUS ROG ZEPHYRUS G14 GA402RJ-L8084W AMD RYZEN 9 6900HS 16GB RAM 1TB SSD RX 6700S 14\"']\n"
     ]
    }
   ],
   "source": [
    "nombre= list()\n",
    "\n",
    "for i in nombres: \n",
    "    nombre.append(i.text)\n",
    "print(nombre)"
   ]
  },
  {
   "cell_type": "code",
   "execution_count": 8,
   "id": "7a5d69cc",
   "metadata": {},
   "outputs": [
    {
     "data": {
      "text/plain": [
       "13"
      ]
     },
     "execution_count": 8,
     "metadata": {},
     "output_type": "execute_result"
    }
   ],
   "source": [
    "nombres=soup.find_all(\"div\", {\"class\":\"catalog-product-details__name\"})#obteniendo los datos del precio del producto.\n",
    "nombres\n",
    "len(nombres)"
   ]
  },
  {
   "cell_type": "code",
   "execution_count": 9,
   "id": "4c86e42a",
   "metadata": {},
   "outputs": [
    {
     "data": {
      "text/plain": [
       "[<div class=\"brand-logo\"><span>ACER</span></div>,\n",
       " <div class=\"brand-logo\"><span>ACER</span></div>,\n",
       " <div class=\"brand-logo\"><span>LENOVO</span></div>,\n",
       " <div class=\"brand-logo\"><span>ASUS</span></div>,\n",
       " <div class=\"brand-logo\"><span>ASUS</span></div>,\n",
       " <div class=\"brand-logo\"><span>ASUS</span></div>,\n",
       " <div class=\"brand-logo\"><span>ACER</span></div>,\n",
       " <div class=\"brand-logo\"><span>LENOVO</span></div>,\n",
       " <div class=\"brand-logo\"><span>ASUS</span></div>,\n",
       " <div class=\"brand-logo\"><span>ASUS</span></div>,\n",
       " <div class=\"brand-logo\"><span>ASUS</span></div>,\n",
       " <div class=\"brand-logo\"><span>ACER</span></div>,\n",
       " <div class=\"brand-logo\"><span>ASUS</span></div>]"
      ]
     },
     "execution_count": 9,
     "metadata": {},
     "output_type": "execute_result"
    }
   ],
   "source": [
    "marca=soup.find_all(\"div\", {\"class\":\"brand-logo\"})#obteniendo los datos del precio del producto.\n",
    "marca\n",
    "#len(marca)"
   ]
  },
  {
   "cell_type": "code",
   "execution_count": 10,
   "id": "f2c69e83",
   "metadata": {},
   "outputs": [
    {
     "name": "stdout",
     "output_type": "stream",
     "text": [
      "['ACER', 'ACER', 'LENOVO', 'ASUS', 'ASUS', 'ASUS', 'ACER', 'LENOVO', 'ASUS', 'ASUS', 'ASUS', 'ACER', 'ASUS']\n"
     ]
    }
   ],
   "source": [
    "marcas= list()\n",
    "\n",
    "for i in marca: \n",
    "    marcas.append(i.text)\n",
    "print(marcas)"
   ]
  },
  {
   "cell_type": "code",
   "execution_count": 11,
   "id": "7009686c",
   "metadata": {},
   "outputs": [],
   "source": [
    "tienda=[\"ripley\",\"ripley\",\"ripley\",\"ripley\",\"ripley\",\"ripley\",\"ripley\",\"ripley\",\"ripley\",\"ripley\",\"ripley\",\"ripley\",\"ripley\"]"
   ]
  },
  {
   "cell_type": "code",
   "execution_count": 12,
   "id": "4a8d3e26",
   "metadata": {},
   "outputs": [
    {
     "name": "stdout",
     "output_type": "stream",
     "text": [
      "['/laptop-acer-nitro-5-intel-core-i5-8gb-ram-512gb-ssd-156-fhd-ips-144hz-gtx-1650-4gb-2004292267064p', '/laptop-acer-nitro-5-intel-core-i5-8gb-ram-512gb-ssd-156-fhd-ips-144hz-rtx-3050-4gb-2004292268368p', '/laptop-lenovo-ideapad-gaming-3-amd-ryzen-5-16gb-ram-512gb-ssd-156-2004297243520p', '/laptop-gamer-asus-tuf-dash-f15-f517zc-hn005w-i5-12va-8gb-ram-512gb-ssd-156-2004301335791p', '/laptop-gamer-asus-tuf-dash-f15-fx517zc-hn005w-intel-core-i5-12450h-8gb-ram-512gb-ssd-156-2004295930392p', '/laptop-gamer-asus-tuf-f15-fx506lhb-hn323uw-intel-core-i5-10300h-8gb-ram-512gb-ssd-156-2004295827302p', '/laptop-acer-nitro-5-core-i5-12500h-8gb-512gb-ssd-156-fhd-ips-144hz-rtx3050-4gb-w11-2004303147859p', '/laptop-lenovo-ideapad-gaming-3-amd-ryzen-5-8gb-ram-1tb-hdd-256gb-ssd-156-2004295930378p', '/laptop-asus-tuf-dash-f15-fx517zm-hn001w-intel-core-i7-12va-gen-16gb-ram-512gb-ssd-156-2004300945274p', '/laptop-gamer-rog-strix-g15-g513rm-hq081w-amd-ryzen-9-6900hx-16gb-ram-1tb-ssd-rtx3060-156-2004296229914p', '/laptop-asus-rog-strix-g15-g513rc-hn097w-amd-ryzen-7-16gb-ram-512gb-ssd-156-2004300945281p', '/laptop-acer-nitro-5-intel-core-i5-12va-gen-8gb-ram-512gb-ssd-156-fhd-ips-144hz-rtx-3050-4gb-2004297796934p', '/laptop-asus-rog-zephyrus-g14-ga402rj-l8084w-amd-ryzen-9-6900hs-16gb-ram-1tb-ssd-rx-6700s-14-2004296230279p']\n"
     ]
    },
    {
     "data": {
      "text/plain": [
       "13"
      ]
     },
     "execution_count": 12,
     "metadata": {},
     "output_type": "execute_result"
    }
   ],
   "source": [
    "enlaces = []\n",
    "\n",
    "# Buscar todos los elementos 'a' que contengan la clase 'catalog-product-item'\n",
    "productos = soup.find_all('a', class_='catalog-product-item')\n",
    "\n",
    "# Iterar sobre los elementos encontrados y obtener el enlace\n",
    "for producto in productos:\n",
    "    enlace = producto['href']\n",
    "    enlaces.append(enlace)\n",
    "\n",
    "# Imprimir los enlaces obtenidos\n",
    "print(enlaces)\n",
    "len(enlaces)"
   ]
  },
  {
   "cell_type": "code",
   "execution_count": 13,
   "id": "2337b833",
   "metadata": {},
   "outputs": [
    {
     "data": {
      "text/html": [
       "<div>\n",
       "<style scoped>\n",
       "    .dataframe tbody tr th:only-of-type {\n",
       "        vertical-align: middle;\n",
       "    }\n",
       "\n",
       "    .dataframe tbody tr th {\n",
       "        vertical-align: top;\n",
       "    }\n",
       "\n",
       "    .dataframe thead th {\n",
       "        text-align: right;\n",
       "    }\n",
       "</style>\n",
       "<table border=\"1\" class=\"dataframe\">\n",
       "  <thead>\n",
       "    <tr style=\"text-align: right;\">\n",
       "      <th></th>\n",
       "      <th>MARCA</th>\n",
       "      <th>PRODUCTO</th>\n",
       "      <th>PRECIOS</th>\n",
       "      <th>ENLACE</th>\n",
       "      <th>TIENDA</th>\n",
       "    </tr>\n",
       "  </thead>\n",
       "  <tbody>\n",
       "    <tr>\n",
       "      <th>0</th>\n",
       "      <td>[[ACER]]</td>\n",
       "      <td>LAPTOP ACER NITRO 5 INTEL CORE I5 8GB RAM 512G...</td>\n",
       "      <td>S/ 2,599</td>\n",
       "      <td>/laptop-acer-nitro-5-intel-core-i5-8gb-ram-512...</td>\n",
       "      <td>ripley</td>\n",
       "    </tr>\n",
       "    <tr>\n",
       "      <th>1</th>\n",
       "      <td>[[ACER]]</td>\n",
       "      <td>LAPTOP ACER NITRO 5 INTEL CORE I5 8GB RAM 512G...</td>\n",
       "      <td>S/ 2,999</td>\n",
       "      <td>/laptop-acer-nitro-5-intel-core-i5-8gb-ram-512...</td>\n",
       "      <td>ripley</td>\n",
       "    </tr>\n",
       "    <tr>\n",
       "      <th>2</th>\n",
       "      <td>[[LENOVO]]</td>\n",
       "      <td>LAPTOP LENOVO IDEAPAD GAMING 3 AMD RYZEN 5 16G...</td>\n",
       "      <td>S/ 3,399</td>\n",
       "      <td>/laptop-lenovo-ideapad-gaming-3-amd-ryzen-5-16...</td>\n",
       "      <td>ripley</td>\n",
       "    </tr>\n",
       "    <tr>\n",
       "      <th>3</th>\n",
       "      <td>[[ASUS]]</td>\n",
       "      <td>LAPTOP GAMER ASUS TUF DASH F15 F517ZC-HN005W I...</td>\n",
       "      <td>S/ 4,399</td>\n",
       "      <td>/laptop-gamer-asus-tuf-dash-f15-f517zc-hn005w-...</td>\n",
       "      <td>ripley</td>\n",
       "    </tr>\n",
       "    <tr>\n",
       "      <th>4</th>\n",
       "      <td>[[ASUS]]</td>\n",
       "      <td>LAPTOP GAMER ASUS TUF DASH F15 FX517ZC-HN005W ...</td>\n",
       "      <td>S/ 3,399</td>\n",
       "      <td>/laptop-gamer-asus-tuf-dash-f15-fx517zc-hn005w...</td>\n",
       "      <td>ripley</td>\n",
       "    </tr>\n",
       "    <tr>\n",
       "      <th>5</th>\n",
       "      <td>[[ASUS]]</td>\n",
       "      <td>LAPTOP GAMER ASUS TUF F15 FX506LHB-HN323UW INT...</td>\n",
       "      <td>S/ 2,899</td>\n",
       "      <td>/laptop-gamer-asus-tuf-f15-fx506lhb-hn323uw-in...</td>\n",
       "      <td>ripley</td>\n",
       "    </tr>\n",
       "    <tr>\n",
       "      <th>6</th>\n",
       "      <td>[[ACER]]</td>\n",
       "      <td>LAPTOP ACER NITRO 5 CORE I5 12500H 8GB 512GB S...</td>\n",
       "      <td>S/ 4,099</td>\n",
       "      <td>/laptop-acer-nitro-5-core-i5-12500h-8gb-512gb-...</td>\n",
       "      <td>ripley</td>\n",
       "    </tr>\n",
       "    <tr>\n",
       "      <th>7</th>\n",
       "      <td>[[LENOVO]]</td>\n",
       "      <td>LAPTOP LENOVO IDEAPAD GAMING 3 AMD RYZEN 5 8GB...</td>\n",
       "      <td>S/ 3,399</td>\n",
       "      <td>/laptop-lenovo-ideapad-gaming-3-amd-ryzen-5-8g...</td>\n",
       "      <td>ripley</td>\n",
       "    </tr>\n",
       "    <tr>\n",
       "      <th>8</th>\n",
       "      <td>[[ASUS]]</td>\n",
       "      <td>LAPTOP ASUS TUF DASH F15 FX517ZM-HN001W INTEL ...</td>\n",
       "      <td>S/ 5,399</td>\n",
       "      <td>/laptop-asus-tuf-dash-f15-fx517zm-hn001w-intel...</td>\n",
       "      <td>ripley</td>\n",
       "    </tr>\n",
       "    <tr>\n",
       "      <th>9</th>\n",
       "      <td>[[ASUS]]</td>\n",
       "      <td>LAPTOP GAMER ROG STRIX G15 G513RM-HQ081W AMD R...</td>\n",
       "      <td>S/ 7,699</td>\n",
       "      <td>/laptop-gamer-rog-strix-g15-g513rm-hq081w-amd-...</td>\n",
       "      <td>ripley</td>\n",
       "    </tr>\n",
       "    <tr>\n",
       "      <th>10</th>\n",
       "      <td>[[ASUS]]</td>\n",
       "      <td>LAPTOP ASUS ROG STRIX G15 G513RC-HN097W AMD RY...</td>\n",
       "      <td>S/ 6,199</td>\n",
       "      <td>/laptop-asus-rog-strix-g15-g513rc-hn097w-amd-r...</td>\n",
       "      <td>ripley</td>\n",
       "    </tr>\n",
       "    <tr>\n",
       "      <th>11</th>\n",
       "      <td>[[ACER]]</td>\n",
       "      <td>LAPTOP ACER NITRO 5 INTEL CORE I5 12VA GEN  8G...</td>\n",
       "      <td>S/ 4,099</td>\n",
       "      <td>/laptop-acer-nitro-5-intel-core-i5-12va-gen-8g...</td>\n",
       "      <td>ripley</td>\n",
       "    </tr>\n",
       "    <tr>\n",
       "      <th>12</th>\n",
       "      <td>[[ASUS]]</td>\n",
       "      <td>LAPTOP ASUS ROG ZEPHYRUS G14 GA402RJ-L8084W AM...</td>\n",
       "      <td>S/ 6,999.99</td>\n",
       "      <td>/laptop-asus-rog-zephyrus-g14-ga402rj-l8084w-a...</td>\n",
       "      <td>ripley</td>\n",
       "    </tr>\n",
       "  </tbody>\n",
       "</table>\n",
       "</div>"
      ],
      "text/plain": [
       "         MARCA                                           PRODUCTO  \\\n",
       "0     [[ACER]]  LAPTOP ACER NITRO 5 INTEL CORE I5 8GB RAM 512G...   \n",
       "1     [[ACER]]  LAPTOP ACER NITRO 5 INTEL CORE I5 8GB RAM 512G...   \n",
       "2   [[LENOVO]]  LAPTOP LENOVO IDEAPAD GAMING 3 AMD RYZEN 5 16G...   \n",
       "3     [[ASUS]]  LAPTOP GAMER ASUS TUF DASH F15 F517ZC-HN005W I...   \n",
       "4     [[ASUS]]  LAPTOP GAMER ASUS TUF DASH F15 FX517ZC-HN005W ...   \n",
       "5     [[ASUS]]  LAPTOP GAMER ASUS TUF F15 FX506LHB-HN323UW INT...   \n",
       "6     [[ACER]]  LAPTOP ACER NITRO 5 CORE I5 12500H 8GB 512GB S...   \n",
       "7   [[LENOVO]]  LAPTOP LENOVO IDEAPAD GAMING 3 AMD RYZEN 5 8GB...   \n",
       "8     [[ASUS]]  LAPTOP ASUS TUF DASH F15 FX517ZM-HN001W INTEL ...   \n",
       "9     [[ASUS]]  LAPTOP GAMER ROG STRIX G15 G513RM-HQ081W AMD R...   \n",
       "10    [[ASUS]]  LAPTOP ASUS ROG STRIX G15 G513RC-HN097W AMD RY...   \n",
       "11    [[ACER]]  LAPTOP ACER NITRO 5 INTEL CORE I5 12VA GEN  8G...   \n",
       "12    [[ASUS]]  LAPTOP ASUS ROG ZEPHYRUS G14 GA402RJ-L8084W AM...   \n",
       "\n",
       "        PRECIOS                                             ENLACE  TIENDA  \n",
       "0      S/ 2,599  /laptop-acer-nitro-5-intel-core-i5-8gb-ram-512...  ripley  \n",
       "1      S/ 2,999  /laptop-acer-nitro-5-intel-core-i5-8gb-ram-512...  ripley  \n",
       "2      S/ 3,399  /laptop-lenovo-ideapad-gaming-3-amd-ryzen-5-16...  ripley  \n",
       "3      S/ 4,399  /laptop-gamer-asus-tuf-dash-f15-f517zc-hn005w-...  ripley  \n",
       "4      S/ 3,399  /laptop-gamer-asus-tuf-dash-f15-fx517zc-hn005w...  ripley  \n",
       "5      S/ 2,899  /laptop-gamer-asus-tuf-f15-fx506lhb-hn323uw-in...  ripley  \n",
       "6      S/ 4,099  /laptop-acer-nitro-5-core-i5-12500h-8gb-512gb-...  ripley  \n",
       "7      S/ 3,399  /laptop-lenovo-ideapad-gaming-3-amd-ryzen-5-8g...  ripley  \n",
       "8      S/ 5,399  /laptop-asus-tuf-dash-f15-fx517zm-hn001w-intel...  ripley  \n",
       "9      S/ 7,699  /laptop-gamer-rog-strix-g15-g513rm-hq081w-amd-...  ripley  \n",
       "10     S/ 6,199  /laptop-asus-rog-strix-g15-g513rc-hn097w-amd-r...  ripley  \n",
       "11     S/ 4,099  /laptop-acer-nitro-5-intel-core-i5-12va-gen-8g...  ripley  \n",
       "12  S/ 6,999.99  /laptop-asus-rog-zephyrus-g14-ga402rj-l8084w-a...  ripley  "
      ]
     },
     "execution_count": 13,
     "metadata": {},
     "output_type": "execute_result"
    }
   ],
   "source": [
    "data = {\"MARCA\":marca,\"PRECIOS\":pre,\"PRODUCTO\":nombre,\"ENLACE\":enlaces,\"TIENDA\":tienda}\n",
    "       \n",
    "     \n",
    "        \n",
    "df = pd.DataFrame(data, columns = [\"MARCA\",\"PRODUCTO\",\"PRECIOS\",\"ENLACE\",\"TIENDA\"])\n",
    "\n",
    "df"
   ]
  },
  {
   "cell_type": "markdown",
   "id": "cc9863cc",
   "metadata": {},
   "source": [
    "**<span style=\"color:darkgreen; font-size:24px; text-transform:uppercase;\">YAMOSHI</span>**"
   ]
  },
  {
   "cell_type": "code",
   "execution_count": 85,
   "id": "ab1ed120",
   "metadata": {},
   "outputs": [
    {
     "data": {
      "text/plain": [
       "[<span class=\"price text-price-contrary-money font-weight-bold text-15px\">S/ 6,152.96</span>,\n",
       " <span class=\"price text-price-contrary-money font-weight-bold text-15px\">S/ 7,488.80</span>,\n",
       " <span class=\"price text-price-contrary-money font-weight-bold text-15px\">S/ 5,704.00</span>,\n",
       " <span class=\"price text-price-contrary-money font-weight-bold text-15px\">S/ 3,238.40</span>,\n",
       " <span class=\"price text-price-contrary-money font-weight-bold text-15px\">S/ 5,829.12</span>,\n",
       " <span class=\"price text-price-contrary-money font-weight-bold text-15px\">S/ 4,655.20</span>,\n",
       " <span class=\"price text-price-contrary-money font-weight-bold text-15px\">S/ 5,910.08</span>,\n",
       " <span class=\"price text-price-contrary-money font-weight-bold text-15px\">S/ 7,084.00</span>,\n",
       " <span class=\"price text-price-contrary-money font-weight-bold text-15px\">S/ 5,383.84</span>,\n",
       " <span class=\"price text-price-contrary-money font-weight-bold text-15px\">S/ 5,383.84</span>,\n",
       " <span class=\"price text-price-contrary-money font-weight-bold text-15px\">S/ 5,586.24</span>,\n",
       " <span class=\"price text-price-contrary-money font-weight-bold text-15px\">S/ 5,829.12</span>,\n",
       " <span class=\"price text-price-contrary-money font-weight-bold text-15px\">S/ 6,476.80</span>,\n",
       " <span class=\"price text-price-contrary-money font-weight-bold text-15px\">S/ 6,598.24</span>,\n",
       " <span class=\"price text-price-contrary-money font-weight-bold text-15px\">S/ 6,679.20</span>,\n",
       " <span class=\"price text-price-contrary-money font-weight-bold text-15px\">S/ 7,043.52</span>,\n",
       " <span class=\"price text-price-contrary-money font-weight-bold text-15px\">S/ 7,728.00</span>,\n",
       " <span class=\"price text-price-contrary-money font-weight-bold text-15px\">S/ 7,286.40</span>,\n",
       " <span class=\"price text-price-contrary-money font-weight-bold text-15px\">S/ 6,193.44</span>]"
      ]
     },
     "execution_count": 85,
     "metadata": {},
     "output_type": "execute_result"
    }
   ],
   "source": [
    "r1=requests.get('https://yamoshi.com.pe/59-laptops-gamers')\n",
    "r1.status_code\n",
    "soup1=BeautifulSoup(r1.content,'html.parser')\n",
    "precio=soup1.find_all(\"span\",attrs={\"class\":\"price text-price-contrary-money font-weight-bold text-15px\"})\n",
    "precio"
   ]
  },
  {
   "cell_type": "code",
   "execution_count": 86,
   "id": "f6b4b543",
   "metadata": {},
   "outputs": [
    {
     "name": "stdout",
     "output_type": "stream",
     "text": [
      "['S/ 615296', 'S/ 748880', 'S/ 570400', 'S/ 323840', 'S/ 582912', 'S/ 465520', 'S/ 591008', 'S/ 708400', 'S/ 538384', 'S/ 538384', 'S/ 558624', 'S/ 582912', 'S/ 647680', 'S/ 659824', 'S/ 667920', 'S/ 704352', 'S/ 772800', 'S/ 728640', 'S/ 619344']\n"
     ]
    }
   ],
   "source": [
    "import re\n",
    "\n",
    "precio1 = []\n",
    "for i in precio:\n",
    "    precio_text = i.text.strip()\n",
    "    precio_num = re.sub(r'\\D', '', precio_text)  # Eliminar caracteres no numéricos\n",
    "    precio_final = \"S/ \" + precio_num  # Agregar el símbolo \"S/\" al precio numérico\n",
    "    precio1.append(precio_final)\n",
    "\n",
    "print(precio1)"
   ]
  },
  {
   "cell_type": "code",
   "execution_count": 87,
   "id": "5a85649c",
   "metadata": {},
   "outputs": [],
   "source": [
    "precio_2=['S/ 6,152.96','S/ 7,488.80','S/ 5,704.00','S/ 3,238.40', 'S/ 5,829.12', 'S/ 4,655.20', 'S/ 5,910.08', 'S/ 7,084.00', 'S/ 5,383.84', 'S/ 5,383.84', 'S /5,586.24', 'S/ 5,829.12','S/ 6,476.80', 'S/ 6,598.24', 'S/ 6,679.20', 'S/ 7,043.52', 'S/ 7,728.00', 'S/ 7,286.40', 'S/ 6,193.44']"
   ]
  },
  {
   "cell_type": "code",
   "execution_count": 88,
   "id": "e1a22c0b",
   "metadata": {},
   "outputs": [],
   "source": [
    "marcas=soup1.find_all(\"span\",attrs={\"text text-gray-light fz-11 prod-brand text-left\"})\n",
    "lista_marcas = [marca.text.strip() for marca in marcas]\n",
    "\n",
    "# Imprimir las marcas\n",
    "for marca in lista_marcas:\n",
    "    print(marca)"
   ]
  },
  {
   "cell_type": "code",
   "execution_count": 89,
   "id": "f6fc169e",
   "metadata": {},
   "outputs": [
    {
     "data": {
      "text/plain": [
       "[<a class=\"product-name --font-weight-bold-600\" href=\"https://yamoshi.com.pe/inicio/10390-laptop-i7-gaming-asus-tuf-dash-fx517zr-12650h-16gb-512gb-ssd-rtx-3070-8gb-156-w11.html\">LAPTOP I7 GAMING ASUS TUF DASH FX517ZR 12650H 16GB 512GB SSD RTX 3070 8GB...</a>,\n",
       " <a class=\"product-name --font-weight-bold-600\" href=\"https://yamoshi.com.pe/inicio/10391-laptop-i7-gaming-asus-rog-strix-g614jv-as73-13650hx-16gb-512gb-ssd-rtx-4060-8gb-16-w11.html\">LAPTOP I7 GAMING ASUS ROG STRIX G614JV-AS73 13650HX 16GB 512GB SSD RTX 4060...</a>,\n",
       " <a class=\"product-name --font-weight-bold-600\" href=\"https://yamoshi.com.pe/inicio/10392-laptop-ryzen-7-gaming-asus-tuf-fa507rm-es73-6800h-16gb-512gb-ssd-rtx-3060-6gb-156-w11.html\">LAPTOP RYZEN 7 GAMING ASUS TUF FA507RM-ES73 6800H 16GB 512GB SSD RTX 3060...</a>,\n",
       " <a class=\"product-name --font-weight-bold-600\" href=\"https://yamoshi.com.pe/inicio/10384-laptop-i5-hp-victus-15-fa0031-12450h-8gb-512gb-ssd-gtx-1650-4gb-156-w11h.html\">LAPTOP I5 HP VICTUS ( 15-FA0031 ) 12450H 8GB 512GB SSD GTX 1650 4GB 15.6\" W11H</a>,\n",
       " <a class=\"product-name --font-weight-bold-600\" href=\"https://yamoshi.com.pe/inicio/10393-laptop-ryzen-7-gaming-hp-omen-16-n0023-6800h-16gb-512gb-ssd-rtx-3060-6gb-161-w11.html\">LAPTOP RYZEN 7 GAMING HP OMEN 16-N0023 6800H 16GB 512GB SSD RTX 3060 6GB...</a>,\n",
       " <a class=\"product-name --font-weight-bold-600\" href=\"https://yamoshi.com.pe/inicio/10394-laptop-i7-hp-victus-15-fa0032dx-68y11ua-12650h-16gb-512gb-ssd-rtx-3050-ti-4gb-156-w11.html\">LAPTOP I7 HP VICTUS 15-FA0032DX ( 68Y11UA ) 12650H 16GB 512GB SSD RTX 3050...</a>,\n",
       " <a class=\"product-name --font-weight-bold-600\" href=\"https://yamoshi.com.pe/inicio/10395-laptop-i7-gaming-lenovo-legion-5-15iah7h-12700h-16gb-512gb-ssd-rtx-3060-6gb-156-w11.html\">LAPTOP I7 GAMING LENOVO LEGION 5 15IAH7H 12700H 16GB 512GB SSD RTX 3060 6GB...</a>,\n",
       " <a class=\"product-name --font-weight-bold-600\" href=\"https://yamoshi.com.pe/inicio/10396-laptop-i7-gaming-gigabyte-aero-16-xe5-73us948hp-12700h-32gb-2tb-ssd-rtx-3070-ti-8gb-16-4k-w11-pro.html\">LAPTOP I7 GAMING GIGABYTE AERO 16 XE5-73US948HP 12700H 32GB 2TB SSD RTX...</a>,\n",
       " <a class=\"product-name --font-weight-bold-600\" href=\"https://yamoshi.com.pe/inicio/10397-laptop-i7-gaming-msi-thin-gf63-12650h-16gb-512gb-ssd-rtx-4050-6gb-156-w11.html\">LAPTOP I7 GAMING MSI THIN GF63 12650H 16GB 512GB SSD RTX 4050 6GB 15.6\" W11</a>,\n",
       " <a class=\"product-name --font-weight-bold-600\" href=\"https://yamoshi.com.pe/inicio/10398-laptop-i7-gaming-msi-crosshair-15-a11uek-205-11800h-16gb-512-ssd-rtx-3060-6gb-156-w10.html\">LAPTOP I7 GAMING MSI CROSSHAIR 15 A11UEK-205 11800H 16GB 512 SSD RTX 3060...</a>,\n",
       " <a class=\"product-name --font-weight-bold-600\" href=\"https://yamoshi.com.pe/inicio/10399-laptop-i7-gaming-msi-katana-gf66-12ue-603-12700h-16gb-512gb-ssd-rtx-3060-6gb-156-w11.html\">LAPTOP I7 GAMING MSI KATANA GF66 12UE-603 12700H 16GB 512GB SSD RTX 3060...</a>,\n",
       " <a class=\"product-name --font-weight-bold-600\" href=\"https://yamoshi.com.pe/inicio/10400-laptop-i7-gaming-msi-cyborg-15-a13ve-218-13620h-16gb-512gb-ssd-rtx-4050-6gb-156-w11.html\">LAPTOP I7 GAMING MSI CYBORG 15 A13VE-218 13620H 16GB 512GB SSD RTX 4050 6GB...</a>,\n",
       " <a class=\"product-name --font-weight-bold-600\" href=\"https://yamoshi.com.pe/inicio/10402-laptop-i7-gaming-msi-pulse-gl66-12700h-16gb-512gb-ssd-rtx-3070-8gb-156-w11.html\">LAPTOP I7 GAMING MSI PULSE GL66 12700H 16GB 512GB SSD RTX 3070 8GB 15.6\" W11</a>,\n",
       " <a class=\"product-name --font-weight-bold-600\" href=\"https://yamoshi.com.pe/inicio/10403-laptop-i7-gaming-msi-pulse-gl76-12ugk-258-12700h-16gb-1tb-ssd-rtx-3070-8gb-173-w11.html\">LAPTOP I7 GAMING MSI PULSE GL76 12UGK-258 12700H 16GB 1TB SSD RTX 3070 8GB...</a>,\n",
       " <a class=\"product-name --font-weight-bold-600\" href=\"https://yamoshi.com.pe/inicio/10404-laptop-i7-gaming-msi-gf76-katana-gaming-12700h-16gb-1tb-ssd-rtx-3070-ti-8gb-173-w11.html\">LAPTOP I7 GAMING MSI GF76 KATANA GAMING 12700H 16GB 1TB SSD RTX 3070 TI 8GB...</a>,\n",
       " <a class=\"product-name --font-weight-bold-600\" href=\"https://yamoshi.com.pe/inicio/10405-laptop-i7-gaming-msi-raider-ge76-12700h-16gb-1tb-ssd-rtx-3060-6gb-173-w11.html\">LAPTOP I7 GAMING MSI RAIDER GE76 12700H 16GB 1TB SSD RTX 3060 6GB 17.3\" W11</a>,\n",
       " <a class=\"product-name --font-weight-bold-600\" href=\"https://yamoshi.com.pe/inicio/10406-laptop-i7-gaming-msi-katana-15-gaming-12650h-16gb-1tb-ssd-rtx-4070-8gb-156-w11.html\">LAPTOP I7 GAMING MSI KATANA 15 GAMING 12650H 16GB 1TB SSD RTX 4070 8GB...</a>,\n",
       " <a class=\"product-name --font-weight-bold-600\" href=\"https://yamoshi.com.pe/inicio/10408-laptop-i9-gaming-msi-raider-ge76-12ue-871-12900h-16gb-1tb-ssd-rtx-3060-6gb-173-w11.html\">LAPTOP I9 GAMING MSI RAIDER GE76 12UE-871 12900H 16GB 1TB SSD RTX 3060 6GB...</a>,\n",
       " <a class=\"product-name --font-weight-bold-600\" href=\"https://yamoshi.com.pe/inicio/10401-laptop-i7-gaming-msi-katana-15-b12vfk-291us-12650h-16gb-512gb-ssd-rtx-4060-8gb-156-w11.html\">LAPTOP I7 GAMING MSI KATANA 15 B12VFK-291US 12650H 16GB 512GB SSD RTX 4060...</a>]"
      ]
     },
     "execution_count": 89,
     "metadata": {},
     "output_type": "execute_result"
    }
   ],
   "source": [
    "titulos=soup1.find_all(\"a\",attrs={\"class\":\"product-name --font-weight-bold-600\"})\n",
    "titulos"
   ]
  },
  {
   "cell_type": "code",
   "execution_count": 90,
   "id": "fd540d90",
   "metadata": {},
   "outputs": [
    {
     "name": "stdout",
     "output_type": "stream",
     "text": [
      "['LAPTOP I7 GAMING ASUS TUF DASH FX517ZR 12650H 16GB 512GB SSD RTX 3070 8GB...', 'LAPTOP I7 GAMING ASUS ROG STRIX G614JV-AS73 13650HX 16GB 512GB SSD RTX 4060...', 'LAPTOP RYZEN 7 GAMING ASUS TUF FA507RM-ES73 6800H 16GB 512GB SSD RTX 3060...', 'LAPTOP I5 HP VICTUS ( 15-FA0031 ) 12450H 8GB 512GB SSD GTX 1650 4GB 15.6\" W11H', 'LAPTOP RYZEN 7 GAMING HP OMEN 16-N0023 6800H 16GB 512GB SSD RTX 3060 6GB...', 'LAPTOP I7 HP VICTUS 15-FA0032DX ( 68Y11UA ) 12650H 16GB 512GB SSD RTX 3050...', 'LAPTOP I7 GAMING LENOVO LEGION 5 15IAH7H 12700H 16GB 512GB SSD RTX 3060 6GB...', 'LAPTOP I7 GAMING GIGABYTE AERO 16 XE5-73US948HP 12700H 32GB 2TB SSD RTX...', 'LAPTOP I7 GAMING MSI THIN GF63 12650H 16GB 512GB SSD RTX 4050 6GB 15.6\" W11', 'LAPTOP I7 GAMING MSI CROSSHAIR 15 A11UEK-205 11800H 16GB 512 SSD RTX 3060...', 'LAPTOP I7 GAMING MSI KATANA GF66 12UE-603 12700H 16GB 512GB SSD RTX 3060...', 'LAPTOP I7 GAMING MSI CYBORG 15 A13VE-218 13620H 16GB 512GB SSD RTX 4050 6GB...', 'LAPTOP I7 GAMING MSI PULSE GL66 12700H 16GB 512GB SSD RTX 3070 8GB 15.6\" W11', 'LAPTOP I7 GAMING MSI PULSE GL76 12UGK-258 12700H 16GB 1TB SSD RTX 3070 8GB...', 'LAPTOP I7 GAMING MSI GF76 KATANA GAMING 12700H 16GB 1TB SSD RTX 3070 TI 8GB...', 'LAPTOP I7 GAMING MSI RAIDER GE76 12700H 16GB 1TB SSD RTX 3060 6GB 17.3\" W11', 'LAPTOP I7 GAMING MSI KATANA 15 GAMING 12650H 16GB 1TB SSD RTX 4070 8GB...', 'LAPTOP I9 GAMING MSI RAIDER GE76 12UE-871 12900H 16GB 1TB SSD RTX 3060 6GB...', 'LAPTOP I7 GAMING MSI KATANA 15 B12VFK-291US 12650H 16GB 512GB SSD RTX 4060...']\n"
     ]
    },
    {
     "data": {
      "text/plain": [
       "19"
      ]
     },
     "execution_count": 90,
     "metadata": {},
     "output_type": "execute_result"
    }
   ],
   "source": [
    "titulo= list()\n",
    "\n",
    "for i in titulos: \n",
    "    titulo.append(i.text)\n",
    "print(titulo)\n",
    "len (titulo)"
   ]
  },
  {
   "cell_type": "code",
   "execution_count": 91,
   "id": "e88767e7",
   "metadata": {},
   "outputs": [
    {
     "name": "stdout",
     "output_type": "stream",
     "text": [
      "['https://yamoshi.com.pe/inicio/10390-laptop-i7-gaming-asus-tuf-dash-fx517zr-12650h-16gb-512gb-ssd-rtx-3070-8gb-156-w11.html', 'https://yamoshi.com.pe/inicio/10391-laptop-i7-gaming-asus-rog-strix-g614jv-as73-13650hx-16gb-512gb-ssd-rtx-4060-8gb-16-w11.html', 'https://yamoshi.com.pe/inicio/10392-laptop-ryzen-7-gaming-asus-tuf-fa507rm-es73-6800h-16gb-512gb-ssd-rtx-3060-6gb-156-w11.html', 'https://yamoshi.com.pe/inicio/10384-laptop-i5-hp-victus-15-fa0031-12450h-8gb-512gb-ssd-gtx-1650-4gb-156-w11h.html', 'https://yamoshi.com.pe/inicio/10393-laptop-ryzen-7-gaming-hp-omen-16-n0023-6800h-16gb-512gb-ssd-rtx-3060-6gb-161-w11.html', 'https://yamoshi.com.pe/inicio/10394-laptop-i7-hp-victus-15-fa0032dx-68y11ua-12650h-16gb-512gb-ssd-rtx-3050-ti-4gb-156-w11.html', 'https://yamoshi.com.pe/inicio/10395-laptop-i7-gaming-lenovo-legion-5-15iah7h-12700h-16gb-512gb-ssd-rtx-3060-6gb-156-w11.html', 'https://yamoshi.com.pe/inicio/10396-laptop-i7-gaming-gigabyte-aero-16-xe5-73us948hp-12700h-32gb-2tb-ssd-rtx-3070-ti-8gb-16-4k-w11-pro.html', 'https://yamoshi.com.pe/inicio/10397-laptop-i7-gaming-msi-thin-gf63-12650h-16gb-512gb-ssd-rtx-4050-6gb-156-w11.html', 'https://yamoshi.com.pe/inicio/10398-laptop-i7-gaming-msi-crosshair-15-a11uek-205-11800h-16gb-512-ssd-rtx-3060-6gb-156-w10.html', 'https://yamoshi.com.pe/inicio/10399-laptop-i7-gaming-msi-katana-gf66-12ue-603-12700h-16gb-512gb-ssd-rtx-3060-6gb-156-w11.html', 'https://yamoshi.com.pe/inicio/10400-laptop-i7-gaming-msi-cyborg-15-a13ve-218-13620h-16gb-512gb-ssd-rtx-4050-6gb-156-w11.html', 'https://yamoshi.com.pe/inicio/10402-laptop-i7-gaming-msi-pulse-gl66-12700h-16gb-512gb-ssd-rtx-3070-8gb-156-w11.html', 'https://yamoshi.com.pe/inicio/10403-laptop-i7-gaming-msi-pulse-gl76-12ugk-258-12700h-16gb-1tb-ssd-rtx-3070-8gb-173-w11.html', 'https://yamoshi.com.pe/inicio/10404-laptop-i7-gaming-msi-gf76-katana-gaming-12700h-16gb-1tb-ssd-rtx-3070-ti-8gb-173-w11.html', 'https://yamoshi.com.pe/inicio/10405-laptop-i7-gaming-msi-raider-ge76-12700h-16gb-1tb-ssd-rtx-3060-6gb-173-w11.html', 'https://yamoshi.com.pe/inicio/10406-laptop-i7-gaming-msi-katana-15-gaming-12650h-16gb-1tb-ssd-rtx-4070-8gb-156-w11.html', 'https://yamoshi.com.pe/inicio/10408-laptop-i9-gaming-msi-raider-ge76-12ue-871-12900h-16gb-1tb-ssd-rtx-3060-6gb-173-w11.html', 'https://yamoshi.com.pe/inicio/10401-laptop-i7-gaming-msi-katana-15-b12vfk-291us-12650h-16gb-512gb-ssd-rtx-4060-8gb-156-w11.html']\n"
     ]
    },
    {
     "data": {
      "text/plain": [
       "19"
      ]
     },
     "execution_count": 91,
     "metadata": {},
     "output_type": "execute_result"
    }
   ],
   "source": [
    "enlaces = []\n",
    "for div in soup1.find_all('h5', class_='product-title-item'):\n",
    "    a = div.find('a')\n",
    "    enlace = a['href']\n",
    "    enlaces.append(enlace)\n",
    "\n",
    "print(enlaces)\n",
    "len(enlaces)"
   ]
  },
  {
   "cell_type": "code",
   "execution_count": 92,
   "id": "9c18eeaf",
   "metadata": {},
   "outputs": [
    {
     "data": {
      "text/plain": [
       "19"
      ]
     },
     "execution_count": 92,
     "metadata": {},
     "output_type": "execute_result"
    }
   ],
   "source": [
    "marca=[\"asus\",\"asus\",\"asus\",\"hp\",\"hp\",\"hp\",\"lenovo\",\"gigabyte\",\"msi\",\"msi\",\"msi\",\"msi\",\"msi\",\"msi\",\"msi\",\"msi\",\"msi\",\"msi\",\"msi\"] \n",
    "len(marca)"
   ]
  },
  {
   "cell_type": "code",
   "execution_count": 93,
   "id": "00096805",
   "metadata": {},
   "outputs": [],
   "source": [
    "tiendas=[\"yamoshi\",\"yamoshi\",\"yamoshi\",\"yamoshi\",\"yamoshi\",\"yamoshi\",\"yamoshi\",\"yamoshi\",\"yamoshi\",\"yamoshi\",\"yamoshi\",\"yamoshi\",\"yamoshi\",\"yamoshi\",\"yamoshi\",\"yamoshi\",\"yamoshi\",\"yamoshi\",\"yamoshi\"]"
   ]
  },
  {
   "cell_type": "code",
   "execution_count": 94,
   "id": "9ba9ebd3",
   "metadata": {},
   "outputs": [
    {
     "data": {
      "text/html": [
       "<div>\n",
       "<style scoped>\n",
       "    .dataframe tbody tr th:only-of-type {\n",
       "        vertical-align: middle;\n",
       "    }\n",
       "\n",
       "    .dataframe tbody tr th {\n",
       "        vertical-align: top;\n",
       "    }\n",
       "\n",
       "    .dataframe thead th {\n",
       "        text-align: right;\n",
       "    }\n",
       "</style>\n",
       "<table border=\"1\" class=\"dataframe\">\n",
       "  <thead>\n",
       "    <tr style=\"text-align: right;\">\n",
       "      <th></th>\n",
       "      <th>MARCA</th>\n",
       "      <th>PRODUCTOS</th>\n",
       "      <th>PRECIOS</th>\n",
       "      <th>ENLACE</th>\n",
       "      <th>TIENDA</th>\n",
       "    </tr>\n",
       "  </thead>\n",
       "  <tbody>\n",
       "    <tr>\n",
       "      <th>0</th>\n",
       "      <td>asus</td>\n",
       "      <td>LAPTOP I7 GAMING ASUS TUF DASH FX517ZR 12650H ...</td>\n",
       "      <td>S/ 6,152.96</td>\n",
       "      <td>https://yamoshi.com.pe/inicio/10390-laptop-i7-...</td>\n",
       "      <td>yamoshi</td>\n",
       "    </tr>\n",
       "    <tr>\n",
       "      <th>1</th>\n",
       "      <td>asus</td>\n",
       "      <td>LAPTOP I7 GAMING ASUS ROG STRIX G614JV-AS73 13...</td>\n",
       "      <td>S/ 7,488.80</td>\n",
       "      <td>https://yamoshi.com.pe/inicio/10391-laptop-i7-...</td>\n",
       "      <td>yamoshi</td>\n",
       "    </tr>\n",
       "    <tr>\n",
       "      <th>2</th>\n",
       "      <td>asus</td>\n",
       "      <td>LAPTOP RYZEN 7 GAMING ASUS TUF FA507RM-ES73 68...</td>\n",
       "      <td>S/ 5,704.00</td>\n",
       "      <td>https://yamoshi.com.pe/inicio/10392-laptop-ryz...</td>\n",
       "      <td>yamoshi</td>\n",
       "    </tr>\n",
       "    <tr>\n",
       "      <th>3</th>\n",
       "      <td>hp</td>\n",
       "      <td>LAPTOP I5 HP VICTUS ( 15-FA0031 ) 12450H 8GB 5...</td>\n",
       "      <td>S/ 3,238.40</td>\n",
       "      <td>https://yamoshi.com.pe/inicio/10384-laptop-i5-...</td>\n",
       "      <td>yamoshi</td>\n",
       "    </tr>\n",
       "    <tr>\n",
       "      <th>4</th>\n",
       "      <td>hp</td>\n",
       "      <td>LAPTOP RYZEN 7 GAMING HP OMEN 16-N0023 6800H 1...</td>\n",
       "      <td>S/ 5,829.12</td>\n",
       "      <td>https://yamoshi.com.pe/inicio/10393-laptop-ryz...</td>\n",
       "      <td>yamoshi</td>\n",
       "    </tr>\n",
       "    <tr>\n",
       "      <th>5</th>\n",
       "      <td>hp</td>\n",
       "      <td>LAPTOP I7 HP VICTUS 15-FA0032DX ( 68Y11UA ) 12...</td>\n",
       "      <td>S/ 4,655.20</td>\n",
       "      <td>https://yamoshi.com.pe/inicio/10394-laptop-i7-...</td>\n",
       "      <td>yamoshi</td>\n",
       "    </tr>\n",
       "    <tr>\n",
       "      <th>6</th>\n",
       "      <td>lenovo</td>\n",
       "      <td>LAPTOP I7 GAMING LENOVO LEGION 5 15IAH7H 12700...</td>\n",
       "      <td>S/ 5,910.08</td>\n",
       "      <td>https://yamoshi.com.pe/inicio/10395-laptop-i7-...</td>\n",
       "      <td>yamoshi</td>\n",
       "    </tr>\n",
       "    <tr>\n",
       "      <th>7</th>\n",
       "      <td>gigabyte</td>\n",
       "      <td>LAPTOP I7 GAMING GIGABYTE AERO 16 XE5-73US948H...</td>\n",
       "      <td>S/ 7,084.00</td>\n",
       "      <td>https://yamoshi.com.pe/inicio/10396-laptop-i7-...</td>\n",
       "      <td>yamoshi</td>\n",
       "    </tr>\n",
       "    <tr>\n",
       "      <th>8</th>\n",
       "      <td>msi</td>\n",
       "      <td>LAPTOP I7 GAMING MSI THIN GF63 12650H 16GB 512...</td>\n",
       "      <td>S/ 5,383.84</td>\n",
       "      <td>https://yamoshi.com.pe/inicio/10397-laptop-i7-...</td>\n",
       "      <td>yamoshi</td>\n",
       "    </tr>\n",
       "    <tr>\n",
       "      <th>9</th>\n",
       "      <td>msi</td>\n",
       "      <td>LAPTOP I7 GAMING MSI CROSSHAIR 15 A11UEK-205 1...</td>\n",
       "      <td>S/ 5,383.84</td>\n",
       "      <td>https://yamoshi.com.pe/inicio/10398-laptop-i7-...</td>\n",
       "      <td>yamoshi</td>\n",
       "    </tr>\n",
       "    <tr>\n",
       "      <th>10</th>\n",
       "      <td>msi</td>\n",
       "      <td>LAPTOP I7 GAMING MSI KATANA GF66 12UE-603 1270...</td>\n",
       "      <td>S /5,586.24</td>\n",
       "      <td>https://yamoshi.com.pe/inicio/10399-laptop-i7-...</td>\n",
       "      <td>yamoshi</td>\n",
       "    </tr>\n",
       "    <tr>\n",
       "      <th>11</th>\n",
       "      <td>msi</td>\n",
       "      <td>LAPTOP I7 GAMING MSI CYBORG 15 A13VE-218 13620...</td>\n",
       "      <td>S/ 5,829.12</td>\n",
       "      <td>https://yamoshi.com.pe/inicio/10400-laptop-i7-...</td>\n",
       "      <td>yamoshi</td>\n",
       "    </tr>\n",
       "    <tr>\n",
       "      <th>12</th>\n",
       "      <td>msi</td>\n",
       "      <td>LAPTOP I7 GAMING MSI PULSE GL66 12700H 16GB 51...</td>\n",
       "      <td>S/ 6,476.80</td>\n",
       "      <td>https://yamoshi.com.pe/inicio/10402-laptop-i7-...</td>\n",
       "      <td>yamoshi</td>\n",
       "    </tr>\n",
       "    <tr>\n",
       "      <th>13</th>\n",
       "      <td>msi</td>\n",
       "      <td>LAPTOP I7 GAMING MSI PULSE GL76 12UGK-258 1270...</td>\n",
       "      <td>S/ 6,598.24</td>\n",
       "      <td>https://yamoshi.com.pe/inicio/10403-laptop-i7-...</td>\n",
       "      <td>yamoshi</td>\n",
       "    </tr>\n",
       "    <tr>\n",
       "      <th>14</th>\n",
       "      <td>msi</td>\n",
       "      <td>LAPTOP I7 GAMING MSI GF76 KATANA GAMING 12700H...</td>\n",
       "      <td>S/ 6,679.20</td>\n",
       "      <td>https://yamoshi.com.pe/inicio/10404-laptop-i7-...</td>\n",
       "      <td>yamoshi</td>\n",
       "    </tr>\n",
       "    <tr>\n",
       "      <th>15</th>\n",
       "      <td>msi</td>\n",
       "      <td>LAPTOP I7 GAMING MSI RAIDER GE76 12700H 16GB 1...</td>\n",
       "      <td>S/ 7,043.52</td>\n",
       "      <td>https://yamoshi.com.pe/inicio/10405-laptop-i7-...</td>\n",
       "      <td>yamoshi</td>\n",
       "    </tr>\n",
       "    <tr>\n",
       "      <th>16</th>\n",
       "      <td>msi</td>\n",
       "      <td>LAPTOP I7 GAMING MSI KATANA 15 GAMING 12650H 1...</td>\n",
       "      <td>S/ 7,728.00</td>\n",
       "      <td>https://yamoshi.com.pe/inicio/10406-laptop-i7-...</td>\n",
       "      <td>yamoshi</td>\n",
       "    </tr>\n",
       "    <tr>\n",
       "      <th>17</th>\n",
       "      <td>msi</td>\n",
       "      <td>LAPTOP I9 GAMING MSI RAIDER GE76 12UE-871 1290...</td>\n",
       "      <td>S/ 7,286.40</td>\n",
       "      <td>https://yamoshi.com.pe/inicio/10408-laptop-i9-...</td>\n",
       "      <td>yamoshi</td>\n",
       "    </tr>\n",
       "    <tr>\n",
       "      <th>18</th>\n",
       "      <td>msi</td>\n",
       "      <td>LAPTOP I7 GAMING MSI KATANA 15 B12VFK-291US 12...</td>\n",
       "      <td>S/ 6,193.44</td>\n",
       "      <td>https://yamoshi.com.pe/inicio/10401-laptop-i7-...</td>\n",
       "      <td>yamoshi</td>\n",
       "    </tr>\n",
       "  </tbody>\n",
       "</table>\n",
       "</div>"
      ],
      "text/plain": [
       "       MARCA                                          PRODUCTOS      PRECIOS  \\\n",
       "0       asus  LAPTOP I7 GAMING ASUS TUF DASH FX517ZR 12650H ...  S/ 6,152.96   \n",
       "1       asus  LAPTOP I7 GAMING ASUS ROG STRIX G614JV-AS73 13...  S/ 7,488.80   \n",
       "2       asus  LAPTOP RYZEN 7 GAMING ASUS TUF FA507RM-ES73 68...  S/ 5,704.00   \n",
       "3         hp  LAPTOP I5 HP VICTUS ( 15-FA0031 ) 12450H 8GB 5...  S/ 3,238.40   \n",
       "4         hp  LAPTOP RYZEN 7 GAMING HP OMEN 16-N0023 6800H 1...  S/ 5,829.12   \n",
       "5         hp  LAPTOP I7 HP VICTUS 15-FA0032DX ( 68Y11UA ) 12...  S/ 4,655.20   \n",
       "6     lenovo  LAPTOP I7 GAMING LENOVO LEGION 5 15IAH7H 12700...  S/ 5,910.08   \n",
       "7   gigabyte  LAPTOP I7 GAMING GIGABYTE AERO 16 XE5-73US948H...  S/ 7,084.00   \n",
       "8        msi  LAPTOP I7 GAMING MSI THIN GF63 12650H 16GB 512...  S/ 5,383.84   \n",
       "9        msi  LAPTOP I7 GAMING MSI CROSSHAIR 15 A11UEK-205 1...  S/ 5,383.84   \n",
       "10       msi  LAPTOP I7 GAMING MSI KATANA GF66 12UE-603 1270...  S /5,586.24   \n",
       "11       msi  LAPTOP I7 GAMING MSI CYBORG 15 A13VE-218 13620...  S/ 5,829.12   \n",
       "12       msi  LAPTOP I7 GAMING MSI PULSE GL66 12700H 16GB 51...  S/ 6,476.80   \n",
       "13       msi  LAPTOP I7 GAMING MSI PULSE GL76 12UGK-258 1270...  S/ 6,598.24   \n",
       "14       msi  LAPTOP I7 GAMING MSI GF76 KATANA GAMING 12700H...  S/ 6,679.20   \n",
       "15       msi  LAPTOP I7 GAMING MSI RAIDER GE76 12700H 16GB 1...  S/ 7,043.52   \n",
       "16       msi  LAPTOP I7 GAMING MSI KATANA 15 GAMING 12650H 1...  S/ 7,728.00   \n",
       "17       msi  LAPTOP I9 GAMING MSI RAIDER GE76 12UE-871 1290...  S/ 7,286.40   \n",
       "18       msi  LAPTOP I7 GAMING MSI KATANA 15 B12VFK-291US 12...  S/ 6,193.44   \n",
       "\n",
       "                                               ENLACE   TIENDA  \n",
       "0   https://yamoshi.com.pe/inicio/10390-laptop-i7-...  yamoshi  \n",
       "1   https://yamoshi.com.pe/inicio/10391-laptop-i7-...  yamoshi  \n",
       "2   https://yamoshi.com.pe/inicio/10392-laptop-ryz...  yamoshi  \n",
       "3   https://yamoshi.com.pe/inicio/10384-laptop-i5-...  yamoshi  \n",
       "4   https://yamoshi.com.pe/inicio/10393-laptop-ryz...  yamoshi  \n",
       "5   https://yamoshi.com.pe/inicio/10394-laptop-i7-...  yamoshi  \n",
       "6   https://yamoshi.com.pe/inicio/10395-laptop-i7-...  yamoshi  \n",
       "7   https://yamoshi.com.pe/inicio/10396-laptop-i7-...  yamoshi  \n",
       "8   https://yamoshi.com.pe/inicio/10397-laptop-i7-...  yamoshi  \n",
       "9   https://yamoshi.com.pe/inicio/10398-laptop-i7-...  yamoshi  \n",
       "10  https://yamoshi.com.pe/inicio/10399-laptop-i7-...  yamoshi  \n",
       "11  https://yamoshi.com.pe/inicio/10400-laptop-i7-...  yamoshi  \n",
       "12  https://yamoshi.com.pe/inicio/10402-laptop-i7-...  yamoshi  \n",
       "13  https://yamoshi.com.pe/inicio/10403-laptop-i7-...  yamoshi  \n",
       "14  https://yamoshi.com.pe/inicio/10404-laptop-i7-...  yamoshi  \n",
       "15  https://yamoshi.com.pe/inicio/10405-laptop-i7-...  yamoshi  \n",
       "16  https://yamoshi.com.pe/inicio/10406-laptop-i7-...  yamoshi  \n",
       "17  https://yamoshi.com.pe/inicio/10408-laptop-i9-...  yamoshi  \n",
       "18  https://yamoshi.com.pe/inicio/10401-laptop-i7-...  yamoshi  "
      ]
     },
     "execution_count": 94,
     "metadata": {},
     "output_type": "execute_result"
    }
   ],
   "source": [
    "data3 = {'PRODUCTOS':titulo,'PRECIOS':precio_2,'MARCA':marca,'ENLACE':enlaces,'TIENDA':tiendas}\n",
    "       \n",
    "       \n",
    "        \n",
    "df_1 = pd.DataFrame(data3, columns = [\"MARCA\",\"PRODUCTOS\",\"PRECIOS\",\"ENLACE\",\"TIENDA\"])\n",
    "df_1"
   ]
  },
  {
   "cell_type": "markdown",
   "id": "557538ab",
   "metadata": {},
   "source": [
    "## Parte Jorge Quispe"
   ]
  },
  {
   "cell_type": "code",
   "execution_count": null,
   "id": "96036e88",
   "metadata": {},
   "outputs": [],
   "source": []
  },
  {
   "cell_type": "code",
   "execution_count": null,
   "id": "27e2a548",
   "metadata": {},
   "outputs": [],
   "source": []
  },
  {
   "cell_type": "code",
   "execution_count": 68,
   "id": "b3119f1d",
   "metadata": {},
   "outputs": [],
   "source": [
    "url = \"https://tienda.falabella.com.pe/falabella-pe/category/cat40712/Laptops?facetSelected=true&f.product.attribute.Tipo=Gamers\"\n",
    "r = requests.get(url)\n",
    "texto = r.text\n",
    "contenido = bs(texto, 'html.parser')"
   ]
  },
  {
   "cell_type": "code",
   "execution_count": 69,
   "id": "34b6eee6",
   "metadata": {},
   "outputs": [],
   "source": [
    "from urllib.request import urlopen\n",
    "from bs4 import BeautifulSoup as bs\n",
    "import pandas as pd\n",
    "import requests"
   ]
  },
  {
   "cell_type": "code",
   "execution_count": 70,
   "id": "8630a509",
   "metadata": {},
   "outputs": [],
   "source": [
    "url = \"https://tienda.falabella.com.pe/falabella-pe/category/cat40712/Laptops?facetSelected=true&f.product.attribute.Tipo=Gamers\"\n",
    "r = requests.get(url)\n",
    "texto = r.text\n",
    "contenido = bs(texto, 'html.parser')"
   ]
  },
  {
   "cell_type": "code",
   "execution_count": 71,
   "id": "6e52da39",
   "metadata": {},
   "outputs": [
    {
     "name": "stdout",
     "output_type": "stream",
     "text": [
      "range(0, 12)\n",
      "ACER\n",
      "ACER\n",
      "ACER\n",
      "LENOVO\n",
      "ACER\n",
      "ACER\n",
      "LENOVO\n",
      "ACER\n",
      "ACER\n",
      "ACER\n",
      "ACER\n",
      "ASUS\n"
     ]
    }
   ],
   "source": [
    "#Marca\n",
    "busqueda = contenido.find_all(\"b\", attrs={'class':\"jsx-1833870204 title1 secondary jsx-2889528833 bold pod-title title-rebrand\"})\n",
    "print(range(len(busqueda)))\n",
    "marca = []\n",
    "for i in range(len(busqueda)):\n",
    "    print(busqueda[i].text)\n",
    "    marca.append(busqueda[i].text) #['href']\n",
    "#print(marca)"
   ]
  },
  {
   "cell_type": "code",
   "execution_count": 72,
   "id": "64bb390e",
   "metadata": {},
   "outputs": [
    {
     "name": "stdout",
     "output_type": "stream",
     "text": [
      "range(0, 12)\n",
      "S/  2,999  \n",
      "S/  2,599  \n",
      "S/  3,899  \n",
      "S/  6,699  \n",
      "S/  2,999  \n",
      "S/  4,999  \n",
      "S/  4,599  \n",
      "S/  3,999  \n",
      "S/  4,999  \n",
      "S/  6,899  \n",
      "S/  4,799  \n",
      "S/  5,499  \n"
     ]
    }
   ],
   "source": [
    "#Precio\n",
    "busqueda = contenido.find_all(\"span\", attrs={'class':\"copy10 primary medium jsx-2889528833 normal line-height-22\"})\n",
    "print(range(len(busqueda)))\n",
    "pre = []\n",
    "for i in range(len(busqueda)):\n",
    "    print(busqueda[i].text)\n",
    "    pre.append(busqueda[i].text) #['href']\n",
    "#print(pre)"
   ]
  },
  {
   "cell_type": "code",
   "execution_count": 73,
   "id": "13560e90",
   "metadata": {},
   "outputs": [
    {
     "name": "stdout",
     "output_type": "stream",
     "text": [
      "range(0, 12)\n",
      "Laptop Gamer ACER Nitro Intel Core i5 11° Gen 8GB RAM 512 GB SSD 15.6'' RTX 3050 4GB\n",
      "Laptop Gamer ACER Nitro Intel Core i5 11° Gen 8GB RAM 256 GB SSD 15.6'' GTX 1650 4GB\n",
      "Laptop Gamer ACER Nitro Intel Core i7 11° Gen 8GB RAM 512 GB SSD 15.6'' RTX 3050 4GB\n",
      "Laptop GAMER Legión 5i  Intel Core i7 16GB 512GBSSD RTX3060\n",
      "Laptop Gamer ACER Nitro Intel Core i5 11° Gen 8GB RAM 512 GB SSD 15.6'' RTX 3050 4GB\n",
      "Laptop Gamer ACER Nitro AMD Ryzen 7 Serie 5000 16GB RAM 512 GB SSD 15.6'' RTX 3060 6GB\n",
      "Laptop Gamer LENOVO Legion 5 Intel Core i5 10° Gen 8GB RAM 1TB HDD + 128 SSD 15.6'' GTX 1650\n",
      "Laptop Gamer ACER Nitro 5 Intel Core i5 12° Gen 12 núcleos - 8GB 512GB SSD 15.6\" RTX3050\n",
      "Laptop Gamer ACER Nitro Intel Core i7 11° Gen 16GB RAM 512 GB SSD 15.6'' RTX 3050 4GB\n",
      "Laptop Gamer ACER Nitro Intel Core i7 12° Gen 14 núcleos - 16GB RAM 512 GB SSD 15.6'' RTX 3060 6GB\n",
      "Laptop Gamer ACER Nitro AMD Ryzen 5 Serie 5000 8GB RAM 512 GB SSD 15.6'' GTX 1650 4GB\n",
      "TUF Gaming F15 FX506 Core i7 15.6'' FHD IPS 512GB SSD 16GB RAM\n",
      "[\"Laptop Gamer ACER Nitro Intel Core i5 11° Gen 8GB RAM 512 GB SSD 15.6'' RTX 3050 4GB\", \"Laptop Gamer ACER Nitro Intel Core i5 11° Gen 8GB RAM 256 GB SSD 15.6'' GTX 1650 4GB\", \"Laptop Gamer ACER Nitro Intel Core i7 11° Gen 8GB RAM 512 GB SSD 15.6'' RTX 3050 4GB\", 'Laptop GAMER Legión 5i  Intel Core i7 16GB 512GBSSD RTX3060', \"Laptop Gamer ACER Nitro Intel Core i5 11° Gen 8GB RAM 512 GB SSD 15.6'' RTX 3050 4GB\", \"Laptop Gamer ACER Nitro AMD Ryzen 7 Serie 5000 16GB RAM 512 GB SSD 15.6'' RTX 3060 6GB\", \"Laptop Gamer LENOVO Legion 5 Intel Core i5 10° Gen 8GB RAM 1TB HDD + 128 SSD 15.6'' GTX 1650\", 'Laptop Gamer ACER Nitro 5 Intel Core i5 12° Gen 12 núcleos - 8GB 512GB SSD 15.6\" RTX3050', \"Laptop Gamer ACER Nitro Intel Core i7 11° Gen 16GB RAM 512 GB SSD 15.6'' RTX 3050 4GB\", \"Laptop Gamer ACER Nitro Intel Core i7 12° Gen 14 núcleos - 16GB RAM 512 GB SSD 15.6'' RTX 3060 6GB\", \"Laptop Gamer ACER Nitro AMD Ryzen 5 Serie 5000 8GB RAM 512 GB SSD 15.6'' GTX 1650 4GB\", \"TUF Gaming F15 FX506 Core i7 15.6'' FHD IPS 512GB SSD 16GB RAM\"]\n"
     ]
    }
   ],
   "source": [
    "#NOMBRES\n",
    "busqueda = contenido.find_all(\"b\", attrs={'class':\"jsx-1833870204 copy2 primary jsx-2889528833 normal pod-subTitle subTitle-rebrand\"})\n",
    "print(range(len(busqueda)))\n",
    "nombre = []\n",
    "for i in range(len(busqueda)):\n",
    "    print(busqueda[i].text)\n",
    "    nombre.append(busqueda[i].text) #['href']\n",
    "print(nombre)"
   ]
  },
  {
   "cell_type": "code",
   "execution_count": 74,
   "id": "97b93b09",
   "metadata": {},
   "outputs": [
    {
     "name": "stdout",
     "output_type": "stream",
     "text": [
      "range(0, 12)\n",
      "https://www.falabella.com.pe/falabella-pe/product/882661598/Laptop-Gamer-ACER-Nitro-Intel-Core-i5-11%C2%B0-Gen-8GB-RAM-512-GB-SSD-15.6''-RTX-3050-4GB/882661598?exp=tienda\n",
      "https://www.falabella.com.pe/falabella-pe/product/882661602/Laptop-Gamer-ACER-Nitro-Intel-Core-i5-11%C2%B0-Gen-8GB-RAM-256-GB-SSD-15.6''-GTX-1650-4GB/882661602?exp=tienda\n",
      "https://www.falabella.com.pe/falabella-pe/product/882730069/Laptop-Gamer-ACER-Nitro-Intel-Core-i7-11%C2%B0-Gen-8GB-RAM-512-GB-SSD-15.6''-RTX-3050-4GB/882730069?exp=tienda\n",
      "https://www.falabella.com.pe/falabella-pe/product/882863248/Laptop-GAMER-Legion-5i-Intel-Core-i7-16GB-512GBSSD-RTX3060/882863248?exp=tienda\n",
      "https://www.falabella.com.pe/falabella-pe/product/882807166/Laptop-Gamer-ACER-Nitro-Intel-Core-i5-11%C2%B0-Gen-8GB-RAM-512-GB-SSD-15.6''-RTX-3050-4GB/882807166?exp=tienda\n",
      "https://www.falabella.com.pe/falabella-pe/product/882758993/Laptop-Gamer-ACER-Nitro-AMD-Ryzen-7-Serie-5000-16GB-RAM-512-GB-SSD-15.6''-RTX-3060-6GB/882758993?exp=tienda\n",
      "https://www.falabella.com.pe/falabella-pe/product/882030091/Laptop-Gamer-LENOVO-Legion-5-Intel-Core-i5-10%C2%B0-Gen-8GB-RAM-1TB-HDD-+-128-SSD-15.6''-GTX-1650/882030091?exp=tienda\n",
      "https://www.falabella.com.pe/falabella-pe/product/882863268/Laptop-Gamer-ACER-Nitro-5-Intel-Core-i5-12%C2%B0-Gen-12-nucleos-8GB-512GB-SSD-15.6-RTX3050/882863268?exp=tienda\n",
      "https://www.falabella.com.pe/falabella-pe/product/882758991/Laptop-Gamer-ACER-Nitro-Intel-Core-i7-11%C2%B0-Gen-16GB-RAM-512-GB-SSD-15.6''-RTX-3050-4GB/882758991?exp=tienda\n",
      "https://www.falabella.com.pe/falabella-pe/product/882730091/Laptop-Gamer-ACER-Nitro-Intel-Core-i7-12%C2%B0-Gen-14-nucleos-16GB-RAM-512-GB-SSD-15.6''-RTX-3060-6GB/882730091?exp=tienda\n",
      "https://www.falabella.com.pe/falabella-pe/product/882730073/Laptop-Gamer-ACER-Nitro-AMD-Ryzen-5-Serie-5000-8GB-RAM-512-GB-SSD-15.6''-GTX-1650-4GB/882730073?exp=tienda\n",
      "https://www.falabella.com.pe/falabella-pe/product/882135082/TUF-Gaming-F15-FX506-Core-i7-15.6''-FHD-IPS-512GB-SSD-16GB-RAM/882135082?exp=tienda\n"
     ]
    }
   ],
   "source": [
    "#ENLACE\n",
    "busqueda = contenido.find_all(\"a\", attrs={'class':\"jsx-2907167179 layout_grid-view layout_view_4_GRID\"})\n",
    "print(range(len(busqueda)))\n",
    "enlaces = []\n",
    "for i in range(len(busqueda)):\n",
    "    print(busqueda[i]['href'])\n",
    "    enlaces.append(busqueda[i]['href']) #['href']\n",
    "#print(marca)"
   ]
  },
  {
   "cell_type": "code",
   "execution_count": 75,
   "id": "e603c3a9",
   "metadata": {},
   "outputs": [],
   "source": [
    "tienda2=[\"saga\",\"saga\",\"saga\",\"saga\",\"saga\",\"saga\",\"saga\",\"saga\",\"saga\",\"saga\",\"saga\",\"saga\"]"
   ]
  },
  {
   "cell_type": "code",
   "execution_count": 76,
   "id": "6292d6cb",
   "metadata": {},
   "outputs": [],
   "source": [
    "data4 = {'MARCA': marca, \"PRECIOS\":pre, \"PRODUCTO\":nombre, \"ENLACE\":enlaces,'TIENDA':tienda2}"
   ]
  },
  {
   "cell_type": "code",
   "execution_count": 77,
   "id": "95a65edd",
   "metadata": {},
   "outputs": [
    {
     "data": {
      "text/html": [
       "<div>\n",
       "<style scoped>\n",
       "    .dataframe tbody tr th:only-of-type {\n",
       "        vertical-align: middle;\n",
       "    }\n",
       "\n",
       "    .dataframe tbody tr th {\n",
       "        vertical-align: top;\n",
       "    }\n",
       "\n",
       "    .dataframe thead th {\n",
       "        text-align: right;\n",
       "    }\n",
       "</style>\n",
       "<table border=\"1\" class=\"dataframe\">\n",
       "  <thead>\n",
       "    <tr style=\"text-align: right;\">\n",
       "      <th></th>\n",
       "      <th>MARCA</th>\n",
       "      <th>PRODUCTO</th>\n",
       "      <th>PRECIOS</th>\n",
       "      <th>ENLACE</th>\n",
       "      <th>TIENDA</th>\n",
       "    </tr>\n",
       "  </thead>\n",
       "  <tbody>\n",
       "    <tr>\n",
       "      <th>0</th>\n",
       "      <td>ACER</td>\n",
       "      <td>Laptop Gamer ACER Nitro Intel Core i5 11° Gen ...</td>\n",
       "      <td>S/  2,999</td>\n",
       "      <td>https://www.falabella.com.pe/falabella-pe/prod...</td>\n",
       "      <td>saga</td>\n",
       "    </tr>\n",
       "    <tr>\n",
       "      <th>1</th>\n",
       "      <td>ACER</td>\n",
       "      <td>Laptop Gamer ACER Nitro Intel Core i5 11° Gen ...</td>\n",
       "      <td>S/  2,599</td>\n",
       "      <td>https://www.falabella.com.pe/falabella-pe/prod...</td>\n",
       "      <td>saga</td>\n",
       "    </tr>\n",
       "    <tr>\n",
       "      <th>2</th>\n",
       "      <td>ACER</td>\n",
       "      <td>Laptop Gamer ACER Nitro Intel Core i7 11° Gen ...</td>\n",
       "      <td>S/  3,899</td>\n",
       "      <td>https://www.falabella.com.pe/falabella-pe/prod...</td>\n",
       "      <td>saga</td>\n",
       "    </tr>\n",
       "    <tr>\n",
       "      <th>3</th>\n",
       "      <td>LENOVO</td>\n",
       "      <td>Laptop GAMER Legión 5i  Intel Core i7 16GB 512...</td>\n",
       "      <td>S/  6,699</td>\n",
       "      <td>https://www.falabella.com.pe/falabella-pe/prod...</td>\n",
       "      <td>saga</td>\n",
       "    </tr>\n",
       "    <tr>\n",
       "      <th>4</th>\n",
       "      <td>ACER</td>\n",
       "      <td>Laptop Gamer ACER Nitro Intel Core i5 11° Gen ...</td>\n",
       "      <td>S/  2,999</td>\n",
       "      <td>https://www.falabella.com.pe/falabella-pe/prod...</td>\n",
       "      <td>saga</td>\n",
       "    </tr>\n",
       "    <tr>\n",
       "      <th>5</th>\n",
       "      <td>ACER</td>\n",
       "      <td>Laptop Gamer ACER Nitro AMD Ryzen 7 Serie 5000...</td>\n",
       "      <td>S/  4,999</td>\n",
       "      <td>https://www.falabella.com.pe/falabella-pe/prod...</td>\n",
       "      <td>saga</td>\n",
       "    </tr>\n",
       "    <tr>\n",
       "      <th>6</th>\n",
       "      <td>LENOVO</td>\n",
       "      <td>Laptop Gamer LENOVO Legion 5 Intel Core i5 10°...</td>\n",
       "      <td>S/  4,599</td>\n",
       "      <td>https://www.falabella.com.pe/falabella-pe/prod...</td>\n",
       "      <td>saga</td>\n",
       "    </tr>\n",
       "    <tr>\n",
       "      <th>7</th>\n",
       "      <td>ACER</td>\n",
       "      <td>Laptop Gamer ACER Nitro 5 Intel Core i5 12° Ge...</td>\n",
       "      <td>S/  3,999</td>\n",
       "      <td>https://www.falabella.com.pe/falabella-pe/prod...</td>\n",
       "      <td>saga</td>\n",
       "    </tr>\n",
       "    <tr>\n",
       "      <th>8</th>\n",
       "      <td>ACER</td>\n",
       "      <td>Laptop Gamer ACER Nitro Intel Core i7 11° Gen ...</td>\n",
       "      <td>S/  4,999</td>\n",
       "      <td>https://www.falabella.com.pe/falabella-pe/prod...</td>\n",
       "      <td>saga</td>\n",
       "    </tr>\n",
       "    <tr>\n",
       "      <th>9</th>\n",
       "      <td>ACER</td>\n",
       "      <td>Laptop Gamer ACER Nitro Intel Core i7 12° Gen ...</td>\n",
       "      <td>S/  6,899</td>\n",
       "      <td>https://www.falabella.com.pe/falabella-pe/prod...</td>\n",
       "      <td>saga</td>\n",
       "    </tr>\n",
       "    <tr>\n",
       "      <th>10</th>\n",
       "      <td>ACER</td>\n",
       "      <td>Laptop Gamer ACER Nitro AMD Ryzen 5 Serie 5000...</td>\n",
       "      <td>S/  4,799</td>\n",
       "      <td>https://www.falabella.com.pe/falabella-pe/prod...</td>\n",
       "      <td>saga</td>\n",
       "    </tr>\n",
       "    <tr>\n",
       "      <th>11</th>\n",
       "      <td>ASUS</td>\n",
       "      <td>TUF Gaming F15 FX506 Core i7 15.6'' FHD IPS 51...</td>\n",
       "      <td>S/  5,499</td>\n",
       "      <td>https://www.falabella.com.pe/falabella-pe/prod...</td>\n",
       "      <td>saga</td>\n",
       "    </tr>\n",
       "  </tbody>\n",
       "</table>\n",
       "</div>"
      ],
      "text/plain": [
       "     MARCA                                           PRODUCTO      PRECIOS  \\\n",
       "0     ACER  Laptop Gamer ACER Nitro Intel Core i5 11° Gen ...  S/  2,999     \n",
       "1     ACER  Laptop Gamer ACER Nitro Intel Core i5 11° Gen ...  S/  2,599     \n",
       "2     ACER  Laptop Gamer ACER Nitro Intel Core i7 11° Gen ...  S/  3,899     \n",
       "3   LENOVO  Laptop GAMER Legión 5i  Intel Core i7 16GB 512...  S/  6,699     \n",
       "4     ACER  Laptop Gamer ACER Nitro Intel Core i5 11° Gen ...  S/  2,999     \n",
       "5     ACER  Laptop Gamer ACER Nitro AMD Ryzen 7 Serie 5000...  S/  4,999     \n",
       "6   LENOVO  Laptop Gamer LENOVO Legion 5 Intel Core i5 10°...  S/  4,599     \n",
       "7     ACER  Laptop Gamer ACER Nitro 5 Intel Core i5 12° Ge...  S/  3,999     \n",
       "8     ACER  Laptop Gamer ACER Nitro Intel Core i7 11° Gen ...  S/  4,999     \n",
       "9     ACER  Laptop Gamer ACER Nitro Intel Core i7 12° Gen ...  S/  6,899     \n",
       "10    ACER  Laptop Gamer ACER Nitro AMD Ryzen 5 Serie 5000...  S/  4,799     \n",
       "11    ASUS  TUF Gaming F15 FX506 Core i7 15.6'' FHD IPS 51...  S/  5,499     \n",
       "\n",
       "                                               ENLACE TIENDA  \n",
       "0   https://www.falabella.com.pe/falabella-pe/prod...   saga  \n",
       "1   https://www.falabella.com.pe/falabella-pe/prod...   saga  \n",
       "2   https://www.falabella.com.pe/falabella-pe/prod...   saga  \n",
       "3   https://www.falabella.com.pe/falabella-pe/prod...   saga  \n",
       "4   https://www.falabella.com.pe/falabella-pe/prod...   saga  \n",
       "5   https://www.falabella.com.pe/falabella-pe/prod...   saga  \n",
       "6   https://www.falabella.com.pe/falabella-pe/prod...   saga  \n",
       "7   https://www.falabella.com.pe/falabella-pe/prod...   saga  \n",
       "8   https://www.falabella.com.pe/falabella-pe/prod...   saga  \n",
       "9   https://www.falabella.com.pe/falabella-pe/prod...   saga  \n",
       "10  https://www.falabella.com.pe/falabella-pe/prod...   saga  \n",
       "11  https://www.falabella.com.pe/falabella-pe/prod...   saga  "
      ]
     },
     "execution_count": 77,
     "metadata": {},
     "output_type": "execute_result"
    }
   ],
   "source": [
    "df_2 = pd.DataFrame(data, columns = ['MARCA', 'PRODUCTO','PRECIOS','ENLACE','TIENDA'])\n",
    "df_2"
   ]
  },
  {
   "cell_type": "code",
   "execution_count": 96,
   "id": "f13fa420",
   "metadata": {},
   "outputs": [
    {
     "data": {
      "application/vnd.jupyter.widget-view+json": {
       "model_id": "6d2928d9756d469f89756f4a943992d0",
       "version_major": 2,
       "version_minor": 0
      },
      "text/plain": [
       "Output()"
      ]
     },
     "metadata": {},
     "output_type": "display_data"
    }
   ],
   "source": [
    "import pandas as pd\n",
    "import ipywidgets as widgets\n",
    "from IPython.display import display\n",
    "\n",
    "# Definir los DataFrames originales\n",
    "df = pd.DataFrame(data, columns=[\"MARCA\", \"PRODUCTO\", \"PRECIOS\", \"ENLACE\", \"TIENDA\"])\n",
    "df_1 = pd.DataFrame(data3, columns=[\"MARCA\", \"PRODUCTO\", \"PRECIOS\", \"ENLACE\", \"TIENDA\"])\n",
    "df_2 = pd.DataFrame(data4, columns=['MARCA', 'PRODUCTO', 'PRECIOS', 'ENLACE', 'TIENDA'])\n",
    "\n",
    "# Unir los DataFrames en uno solo\n",
    "df_final = pd.concat([df, df_1, df_2], ignore_index=True)\n",
    "\n",
    "# Crear un widget de tabla\n",
    "table_widget = widgets.Output()\n",
    "\n",
    "# Actualizar la tabla con los datos\n",
    "with table_widget:\n",
    "    display(df_final)\n",
    "\n",
    "# Mostrar la tabla\n",
    "display(table_widget)\n"
   ]
  },
  {
   "cell_type": "code",
   "execution_count": 97,
   "id": "d78a7952",
   "metadata": {},
   "outputs": [
    {
     "data": {
      "image/png": "[encoded data removed]",
      "text/plain": [
       "<Figure size 1000x600 with 1 Axes>"
      ]
     },
     "metadata": {},
     "output_type": "display_data"
    }
   ],
   "source": [
    "import pandas as pd\n",
    "import matplotlib.pyplot as plt\n",
    "# Contar la cantidad de apariciones de cada marca\n",
    "marca_counts = df_final['MARCA'].value_counts()\n",
    "\n",
    "# Crear el gráfico de barras\n",
    "plt.figure(figsize=(10, 6))\n",
    "marca_counts.plot(kind='bar')\n",
    "plt.title('Cantidad de Productos por Marca')\n",
    "plt.xlabel('Marca')\n",
    "plt.ylabel('Cantidad')\n",
    "plt.xticks(rotation=45)\n",
    "plt.show()"
   ]
  },
  {
   "cell_type": "code",
   "execution_count": 98,
   "id": "c7cf2290",
   "metadata": {},
   "outputs": [
    {
     "data": {
      "image/png": "[encoded data removed]",
      "text/plain": [
       "<Figure size 640x480 with 1 Axes>"
      ]
     },
     "metadata": {},
     "output_type": "display_data"
    }
   ],
   "source": [
    "import matplotlib.pyplot as plt\n",
    "\n",
    "# Calcular los porcentajes de cada tienda\n",
    "porcentajes = df_final['TIENDA'].value_counts(normalize=True) * 100\n",
    "\n",
    "# Configurar los colores\n",
    "colores = ['#9C27B0', '#CE93D8', '#E1BEE7', '#F3E5F5']\n",
    "\n",
    "# Crear el gráfico circular\n",
    "plt.pie(porcentajes, labels=porcentajes.index, colors=colores, autopct='%1.1f%%')\n",
    "\n",
    "# Ajustar el aspecto del gráfico\n",
    "plt.axis('equal')\n",
    "plt.title('Porcentaje de ventas por tienda')\n",
    "\n",
    "# Mostrar el gráfico\n",
    "plt.show()"
   ]
  },
  {
   "cell_type": "code",
   "execution_count": 99,
   "id": "6473dfc9",
   "metadata": {},
   "outputs": [
    {
     "data": {
      "image/png": "[encoded data removed]",
      "text/plain": [
       "<Figure size 640x480 with 1 Axes>"
      ]
     },
     "metadata": {},
     "output_type": "display_data"
    }
   ],
   "source": [
    "# Calcular los porcentajes de cada marca\n",
    "porcentajes = df_final['MARCA'].value_counts(normalize=True) * 100\n",
    "\n",
    "# Configurar los colores\n",
    "colores = ['#4CAF50', '#8BC34A', '#CDDC39', '#DCEDC8']\n",
    "\n",
    "# Crear el gráfico circular\n",
    "plt.pie(porcentajes, labels=porcentajes.index, colors=colores, autopct='%1.1f%%')\n",
    "\n",
    "# Ajustar el aspecto del gráfico\n",
    "plt.axis('equal')\n",
    "plt.title('Porcentaje de laptops por marca')\n",
    "\n",
    "# Mostrar el gráfico\n",
    "plt.show()\n"
   ]
  },
  {
   "cell_type": "code",
   "execution_count": null,
   "id": "290dfa0d",
   "metadata": {},
   "outputs": [],
   "source": []
  },
  {
   "cell_type": "code",
   "execution_count": null,
   "id": "e795b57e",
   "metadata": {},
   "outputs": [],
   "source": []
  },
  {
   "cell_type": "code",
   "execution_count": null,
   "id": "f9fb5567",
   "metadata": {},
   "outputs": [],
   "source": []
  }
 ],
 "metadata": {
  "kernelspec": {
   "display_name": "Python 3 (ipykernel)",
   "language": "python",
   "name": "python3"
  },
  "language_info": {
   "codemirror_mode": {
    "name": "ipython",
    "version": 3
   },
   "file_extension": ".py",
   "mimetype": "text/x-python",
   "name": "python",
   "nbconvert_exporter": "python",
   "pygments_lexer": "ipython3",
   "version": "3.10.9"
  }
 },
 "nbformat": 4,
 "nbformat_minor": 5
}
