{
 "cells": [
  {
   "cell_type": "markdown",
   "id": "e40c1bed",
   "metadata": {},
   "source": [
    "## scraping a mercado libre "
   ]
  },
  {
   "cell_type": "markdown",
   "id": "da903476",
   "metadata": {},
   "source": [
    "### <p style=\"color:Darkred;\">introducción</p>"
   ]
  },
  {
   "cell_type": "markdown",
   "id": "cd7b2820",
   "metadata": {},
   "source": [
    "###### <p style=\"color:Darkblack;\">Mercado Libre es la mayor plataforma de comercio electrónico de la región, donde millones de compradores y vendedores se encuentran para realizar transacciones con una amplia gama de productos y servicios, a precio fijo</p>"
   ]
  },
  {
   "cell_type": "markdown",
   "id": "b1735c7b",
   "metadata": {},
   "source": [
    "### <p style=\"color:Darkred;\">Objetivo</p>"
   ]
  },
  {
   "cell_type": "markdown",
   "id": "da14117a",
   "metadata": {},
   "source": [
    "### <p style=\"color:Darkblack;\">Nuestro onjetivo es analizar a la pagina web de mercado libre perú, con el fin de analizar laptos que esta página ofrece y poder comparar con las otras tiendas como oeschel a través de sus precios al igual que las marcas seprecios de laptops</p>"
   ]
  },
  {
   "cell_type": "markdown",
   "id": "a12ae738",
   "metadata": {},
   "source": [
    "![mercadolibre](https://gestion.pe/resizer/gmHLeJjGlrxnIrUvIGCHZiGMZHw=/1200x800/smart/filters:format(jpeg):quality(75)/cloudfront-us-east-1.images.arcpublishing.com/elcomercio/WWMYGX624NEYFK57QLOMQFAPI4.jpg)"
   ]
  },
  {
   "cell_type": "code",
   "execution_count": 1,
   "id": "7d94ddcc",
   "metadata": {},
   "outputs": [],
   "source": [
    "#!pip install requests\n",
    "from lxml import etree\n",
    "import requests\n",
    "from bs4 import BeautifulSoup\n",
    "import pandas as pd"
   ]
  },
  {
   "cell_type": "code",
   "execution_count": 2,
   "id": "1054d4ec",
   "metadata": {},
   "outputs": [],
   "source": [
    "#https://listado.mercadolibre.com.pe/laptops\n",
    "import requests\n",
    "r=requests.get(\"https://listado.mercadolibre.com.pe/laptops#menu=categories\")"
   ]
  },
  {
   "cell_type": "code",
   "execution_count": 5,
   "id": "74fbe57c",
   "metadata": {},
   "outputs": [
    {
     "data": {
      "text/plain": [
       "200"
      ]
     },
     "execution_count": 5,
     "metadata": {},
     "output_type": "execute_result"
    }
   ],
   "source": [
    "r.status_code"
   ]
  },
  {
   "cell_type": "code",
   "execution_count": 4,
   "id": "96dc0812",
   "metadata": {},
   "outputs": [],
   "source": [
    "soup=BeautifulSoup(r.content,\"html.parser\")"
   ]
  },
  {
   "cell_type": "code",
   "execution_count": null,
   "id": "4e11ce68",
   "metadata": {},
   "outputs": [],
   "source": []
  }
 ],
 "metadata": {
  "kernelspec": {
   "display_name": "Python 3 (ipykernel)",
   "language": "python",
   "name": "python3"
  },
  "language_info": {
   "codemirror_mode": {
    "name": "ipython",
    "version": 3
   },
   "file_extension": ".py",
   "mimetype": "text/x-python",
   "name": "python",
   "nbconvert_exporter": "python",
   "pygments_lexer": "ipython3",
   "version": "3.10.9"
  }
 },
 "nbformat": 4,
 "nbformat_minor": 5
}
