{
 "cells": [
  {
   "cell_type": "code",
   "execution_count": 73,
   "metadata": {},
   "outputs": [],
   "source": [
    "from urllib.request import urlopen\n",
    "from bs4 import BeautifulSoup as bs\n",
    "import pandas as pd\n",
    "import requests\n"
   ]
  },
  {
   "cell_type": "code",
   "execution_count": 74,
   "metadata": {},
   "outputs": [],
   "source": [
    "url = \"https://tienda.falabella.com.pe/falabella-pe/category/cat40712/Laptops?facetSelected=true&f.product.attribute.Tipo=Gamers\"\n",
    "r = requests.get(url)\n",
    "texto = r.text\n",
    "contenido = bs(texto, 'html.parser')"
   ]
  },
  {
   "cell_type": "code",
   "execution_count": 75,
   "metadata": {},
   "outputs": [
    {
     "name": "stdout",
     "output_type": "stream",
     "text": [
      "range(0, 12)\n",
      "ACER\n",
      "ACER\n",
      "ACER\n",
      "ACER\n",
      "ACER\n",
      "LENOVO\n",
      "LENOVO\n",
      "ACER\n",
      "ACER\n",
      "ACER\n",
      "ACER\n",
      "ASUS\n"
     ]
    }
   ],
   "source": [
    "#Marca\n",
    "busqueda = contenido.find_all(\"b\", attrs={'class':\"jsx-1833870204 title1 secondary jsx-2889528833 bold pod-title title-rebrand\"})\n",
    "print(range(len(busqueda)))\n",
    "marca = []\n",
    "for i in range(len(busqueda)):\n",
    "    print(busqueda[i].text)\n",
    "    marca.append(busqueda[i].text) #['href']\n",
    "#print(marca)"
   ]
  },
  {
   "cell_type": "code",
   "execution_count": 76,
   "metadata": {},
   "outputs": [
    {
     "name": "stdout",
     "output_type": "stream",
     "text": [
      "range(0, 12)\n",
      "S/  3,199  \n",
      "S/  3,199  \n",
      "S/  3,999  \n",
      "S/  4,299  \n",
      "S/  3,499  \n",
      "S/  4,599  \n",
      "S/  6,999  \n",
      "S/  4,999  \n",
      "S/  6,999  \n",
      "S/  5,799.90  \n",
      "S/  4,799  \n",
      "S/  5,499  \n"
     ]
    }
   ],
   "source": [
    "#Precio\n",
    "busqueda = contenido.find_all(\"span\", attrs={'class':\"copy10 primary medium jsx-2889528833 normal line-height-22\"})\n",
    "print(range(len(busqueda)))\n",
    "pre = []\n",
    "for i in range(len(busqueda)):\n",
    "    print(busqueda[i].text)\n",
    "    pre.append(busqueda[i].text) #['href']\n",
    "#print(pre)"
   ]
  },
  {
   "cell_type": "code",
   "execution_count": 77,
   "metadata": {},
   "outputs": [
    {
     "name": "stdout",
     "output_type": "stream",
     "text": [
      "range(0, 12)\n",
      "Laptop Gamer ACER Nitro Intel Core i5 11° Gen 8GB RAM 512 GB SSD 15.6'' RTX 3050 4GB\n",
      "Laptop Gamer ACER Nitro Intel Core i5 11° Gen 8GB RAM 256 GB SSD 15.6'' GTX 1650 4GB\n",
      "Laptop Gamer ACER Nitro 5 Intel Core i5 12° Gen 12 núcleos - 8GB 512GB SSD 15.6\" RTX3050\n",
      "Laptop Gamer ACER Nitro Intel Core i7 11° Gen 8GB RAM 512 GB SSD 15.6'' RTX 3050 4GB\n",
      "Laptop Gamer ACER Nitro Intel Core i5 11° Gen 8GB RAM 512 GB SSD 15.6'' RTX 3050 4GB\n",
      "Laptop Gamer LENOVO Legion 5 Intel Core i5 10° Gen 8GB RAM 1TB HDD + 128 SSD 15.6'' GTX 1650\n",
      "Laptop GAMER Legión 5i  Intel Core i7 16GB 512GBSSD RTX3060\n",
      "Laptop Gamer ACER Nitro Intel Core i7 11° Gen 16GB RAM 512 GB SSD 15.6'' RTX 3050 4GB\n",
      "Laptop Gamer ACER Nitro Intel Core i7 12° Gen 14 núcleos - 16GB RAM 512 GB SSD 15.6'' RTX 3060 6GB\n",
      "Laptop Gamer ACER Nitro AMD Ryzen 7 Serie 5000 16GB RAM 512 GB SSD 15.6'' RTX 3060 6GB\n",
      "Laptop Gamer ACER Nitro AMD Ryzen 5 Serie 5000 8GB RAM 512 GB SSD 15.6'' GTX 1650 4GB\n",
      "TUF Gaming F15 FX506 Core i7 15.6'' FHD IPS 512GB SSD 16GB RAM\n",
      "[\"Laptop Gamer ACER Nitro Intel Core i5 11° Gen 8GB RAM 512 GB SSD 15.6'' RTX 3050 4GB\", \"Laptop Gamer ACER Nitro Intel Core i5 11° Gen 8GB RAM 256 GB SSD 15.6'' GTX 1650 4GB\", 'Laptop Gamer ACER Nitro 5 Intel Core i5 12° Gen 12 núcleos - 8GB 512GB SSD 15.6\" RTX3050', \"Laptop Gamer ACER Nitro Intel Core i7 11° Gen 8GB RAM 512 GB SSD 15.6'' RTX 3050 4GB\", \"Laptop Gamer ACER Nitro Intel Core i5 11° Gen 8GB RAM 512 GB SSD 15.6'' RTX 3050 4GB\", \"Laptop Gamer LENOVO Legion 5 Intel Core i5 10° Gen 8GB RAM 1TB HDD + 128 SSD 15.6'' GTX 1650\", 'Laptop GAMER Legión 5i  Intel Core i7 16GB 512GBSSD RTX3060', \"Laptop Gamer ACER Nitro Intel Core i7 11° Gen 16GB RAM 512 GB SSD 15.6'' RTX 3050 4GB\", \"Laptop Gamer ACER Nitro Intel Core i7 12° Gen 14 núcleos - 16GB RAM 512 GB SSD 15.6'' RTX 3060 6GB\", \"Laptop Gamer ACER Nitro AMD Ryzen 7 Serie 5000 16GB RAM 512 GB SSD 15.6'' RTX 3060 6GB\", \"Laptop Gamer ACER Nitro AMD Ryzen 5 Serie 5000 8GB RAM 512 GB SSD 15.6'' GTX 1650 4GB\", \"TUF Gaming F15 FX506 Core i7 15.6'' FHD IPS 512GB SSD 16GB RAM\"]\n"
     ]
    }
   ],
   "source": [
    "#NOMBRES\n",
    "busqueda = contenido.find_all(\"b\", attrs={'class':\"jsx-1833870204 copy2 primary jsx-2889528833 normal pod-subTitle subTitle-rebrand\"})\n",
    "print(range(len(busqueda)))\n",
    "nombre = []\n",
    "for i in range(len(busqueda)):\n",
    "    print(busqueda[i].text)\n",
    "    nombre.append(busqueda[i].text) #['href']\n",
    "print(nombre)"
   ]
  },
  {
   "cell_type": "code",
   "execution_count": 78,
   "metadata": {},
   "outputs": [
    {
     "name": "stdout",
     "output_type": "stream",
     "text": [
      "range(0, 12)\n",
      "https://www.falabella.com.pe/falabella-pe/product/882661598/Laptop-Gamer-ACER-Nitro-Intel-Core-i5-11%C2%B0-Gen-8GB-RAM-512-GB-SSD-15.6''-RTX-3050-4GB/882661598?exp=tienda\n",
      "https://www.falabella.com.pe/falabella-pe/product/882661602/Laptop-Gamer-ACER-Nitro-Intel-Core-i5-11%C2%B0-Gen-8GB-RAM-256-GB-SSD-15.6''-GTX-1650-4GB/882661602?exp=tienda\n",
      "https://www.falabella.com.pe/falabella-pe/product/882863268/Laptop-Gamer-ACER-Nitro-5-Intel-Core-i5-12%C2%B0-Gen-12-nucleos-8GB-512GB-SSD-15.6-RTX3050/882863268?exp=tienda\n",
      "https://www.falabella.com.pe/falabella-pe/product/882730069/Laptop-Gamer-ACER-Nitro-Intel-Core-i7-11%C2%B0-Gen-8GB-RAM-512-GB-SSD-15.6''-RTX-3050-4GB/882730069?exp=tienda\n",
      "https://www.falabella.com.pe/falabella-pe/product/882807166/Laptop-Gamer-ACER-Nitro-Intel-Core-i5-11%C2%B0-Gen-8GB-RAM-512-GB-SSD-15.6''-RTX-3050-4GB/882807166?exp=tienda\n",
      "https://www.falabella.com.pe/falabella-pe/product/882030091/Laptop-Gamer-LENOVO-Legion-5-Intel-Core-i5-10%C2%B0-Gen-8GB-RAM-1TB-HDD-+-128-SSD-15.6''-GTX-1650/882030091?exp=tienda\n",
      "https://www.falabella.com.pe/falabella-pe/product/882863248/Laptop-GAMER-Legion-5i-Intel-Core-i7-16GB-512GBSSD-RTX3060/882863248?exp=tienda\n",
      "https://www.falabella.com.pe/falabella-pe/product/882758991/Laptop-Gamer-ACER-Nitro-Intel-Core-i7-11%C2%B0-Gen-16GB-RAM-512-GB-SSD-15.6''-RTX-3050-4GB/882758991?exp=tienda\n",
      "https://www.falabella.com.pe/falabella-pe/product/882730091/Laptop-Gamer-ACER-Nitro-Intel-Core-i7-12%C2%B0-Gen-14-nucleos-16GB-RAM-512-GB-SSD-15.6''-RTX-3060-6GB/882730091?exp=tienda\n",
      "https://www.falabella.com.pe/falabella-pe/product/882758993/Laptop-Gamer-ACER-Nitro-AMD-Ryzen-7-Serie-5000-16GB-RAM-512-GB-SSD-15.6''-RTX-3060-6GB/882758993?exp=tienda\n",
      "https://www.falabella.com.pe/falabella-pe/product/882730073/Laptop-Gamer-ACER-Nitro-AMD-Ryzen-5-Serie-5000-8GB-RAM-512-GB-SSD-15.6''-GTX-1650-4GB/882730073?exp=tienda\n",
      "https://www.falabella.com.pe/falabella-pe/product/882135082/TUF-Gaming-F15-FX506-Core-i7-15.6''-FHD-IPS-512GB-SSD-16GB-RAM/882135082?exp=tienda\n"
     ]
    }
   ],
   "source": [
    "#ENLACE\n",
    "busqueda = contenido.find_all(\"a\", attrs={'class':\"jsx-2907167179 layout_grid-view layout_view_4_GRID\"})\n",
    "print(range(len(busqueda)))\n",
    "enlaces = []\n",
    "for i in range(len(busqueda)):\n",
    "    print(busqueda[i]['href'])\n",
    "    enlaces.append(busqueda[i]['href']) #['href']\n",
    "#print(marca)"
   ]
  },
  {
   "cell_type": "code",
   "execution_count": 79,
   "metadata": {},
   "outputs": [],
   "source": [
    "data = {'MARCA': marca, \"PRECIOS\":pre, \"NOMBRE\":nombre, \"ENLACE\":enlaces}"
   ]
  },
  {
   "cell_type": "code",
   "execution_count": 80,
   "metadata": {},
   "outputs": [
    {
     "data": {
      "text/html": [
       "<div>\n",
       "<style scoped>\n",
       "    .dataframe tbody tr th:only-of-type {\n",
       "        vertical-align: middle;\n",
       "    }\n",
       "\n",
       "    .dataframe tbody tr th {\n",
       "        vertical-align: top;\n",
       "    }\n",
       "\n",
       "    .dataframe thead th {\n",
       "        text-align: right;\n",
       "    }\n",
       "</style>\n",
       "<table border=\"1\" class=\"dataframe\">\n",
       "  <thead>\n",
       "    <tr style=\"text-align: right;\">\n",
       "      <th></th>\n",
       "      <th>MARCA</th>\n",
       "      <th>PRECIOS</th>\n",
       "      <th>NOMBRE</th>\n",
       "      <th>ENLACE</th>\n",
       "    </tr>\n",
       "  </thead>\n",
       "  <tbody>\n",
       "    <tr>\n",
       "      <th>0</th>\n",
       "      <td>ACER</td>\n",
       "      <td>S/  3,199</td>\n",
       "      <td>Laptop Gamer ACER Nitro Intel Core i5 11° Gen ...</td>\n",
       "      <td>https://www.falabella.com.pe/falabella-pe/prod...</td>\n",
       "    </tr>\n",
       "    <tr>\n",
       "      <th>1</th>\n",
       "      <td>ACER</td>\n",
       "      <td>S/  3,199</td>\n",
       "      <td>Laptop Gamer ACER Nitro Intel Core i5 11° Gen ...</td>\n",
       "      <td>https://www.falabella.com.pe/falabella-pe/prod...</td>\n",
       "    </tr>\n",
       "    <tr>\n",
       "      <th>2</th>\n",
       "      <td>ACER</td>\n",
       "      <td>S/  3,999</td>\n",
       "      <td>Laptop Gamer ACER Nitro 5 Intel Core i5 12° Ge...</td>\n",
       "      <td>https://www.falabella.com.pe/falabella-pe/prod...</td>\n",
       "    </tr>\n",
       "    <tr>\n",
       "      <th>3</th>\n",
       "      <td>ACER</td>\n",
       "      <td>S/  4,299</td>\n",
       "      <td>Laptop Gamer ACER Nitro Intel Core i7 11° Gen ...</td>\n",
       "      <td>https://www.falabella.com.pe/falabella-pe/prod...</td>\n",
       "    </tr>\n",
       "    <tr>\n",
       "      <th>4</th>\n",
       "      <td>ACER</td>\n",
       "      <td>S/  3,499</td>\n",
       "      <td>Laptop Gamer ACER Nitro Intel Core i5 11° Gen ...</td>\n",
       "      <td>https://www.falabella.com.pe/falabella-pe/prod...</td>\n",
       "    </tr>\n",
       "    <tr>\n",
       "      <th>5</th>\n",
       "      <td>LENOVO</td>\n",
       "      <td>S/  4,599</td>\n",
       "      <td>Laptop Gamer LENOVO Legion 5 Intel Core i5 10°...</td>\n",
       "      <td>https://www.falabella.com.pe/falabella-pe/prod...</td>\n",
       "    </tr>\n",
       "    <tr>\n",
       "      <th>6</th>\n",
       "      <td>LENOVO</td>\n",
       "      <td>S/  6,999</td>\n",
       "      <td>Laptop GAMER Legión 5i  Intel Core i7 16GB 512...</td>\n",
       "      <td>https://www.falabella.com.pe/falabella-pe/prod...</td>\n",
       "    </tr>\n",
       "    <tr>\n",
       "      <th>7</th>\n",
       "      <td>ACER</td>\n",
       "      <td>S/  4,999</td>\n",
       "      <td>Laptop Gamer ACER Nitro Intel Core i7 11° Gen ...</td>\n",
       "      <td>https://www.falabella.com.pe/falabella-pe/prod...</td>\n",
       "    </tr>\n",
       "    <tr>\n",
       "      <th>8</th>\n",
       "      <td>ACER</td>\n",
       "      <td>S/  6,999</td>\n",
       "      <td>Laptop Gamer ACER Nitro Intel Core i7 12° Gen ...</td>\n",
       "      <td>https://www.falabella.com.pe/falabella-pe/prod...</td>\n",
       "    </tr>\n",
       "    <tr>\n",
       "      <th>9</th>\n",
       "      <td>ACER</td>\n",
       "      <td>S/  5,799.90</td>\n",
       "      <td>Laptop Gamer ACER Nitro AMD Ryzen 7 Serie 5000...</td>\n",
       "      <td>https://www.falabella.com.pe/falabella-pe/prod...</td>\n",
       "    </tr>\n",
       "    <tr>\n",
       "      <th>10</th>\n",
       "      <td>ACER</td>\n",
       "      <td>S/  4,799</td>\n",
       "      <td>Laptop Gamer ACER Nitro AMD Ryzen 5 Serie 5000...</td>\n",
       "      <td>https://www.falabella.com.pe/falabella-pe/prod...</td>\n",
       "    </tr>\n",
       "    <tr>\n",
       "      <th>11</th>\n",
       "      <td>ASUS</td>\n",
       "      <td>S/  5,499</td>\n",
       "      <td>TUF Gaming F15 FX506 Core i7 15.6'' FHD IPS 51...</td>\n",
       "      <td>https://www.falabella.com.pe/falabella-pe/prod...</td>\n",
       "    </tr>\n",
       "  </tbody>\n",
       "</table>\n",
       "</div>"
      ],
      "text/plain": [
       "     MARCA         PRECIOS                                             NOMBRE  \\\n",
       "0     ACER     S/  3,199    Laptop Gamer ACER Nitro Intel Core i5 11° Gen ...   \n",
       "1     ACER     S/  3,199    Laptop Gamer ACER Nitro Intel Core i5 11° Gen ...   \n",
       "2     ACER     S/  3,999    Laptop Gamer ACER Nitro 5 Intel Core i5 12° Ge...   \n",
       "3     ACER     S/  4,299    Laptop Gamer ACER Nitro Intel Core i7 11° Gen ...   \n",
       "4     ACER     S/  3,499    Laptop Gamer ACER Nitro Intel Core i5 11° Gen ...   \n",
       "5   LENOVO     S/  4,599    Laptop Gamer LENOVO Legion 5 Intel Core i5 10°...   \n",
       "6   LENOVO     S/  6,999    Laptop GAMER Legión 5i  Intel Core i7 16GB 512...   \n",
       "7     ACER     S/  4,999    Laptop Gamer ACER Nitro Intel Core i7 11° Gen ...   \n",
       "8     ACER     S/  6,999    Laptop Gamer ACER Nitro Intel Core i7 12° Gen ...   \n",
       "9     ACER  S/  5,799.90    Laptop Gamer ACER Nitro AMD Ryzen 7 Serie 5000...   \n",
       "10    ACER     S/  4,799    Laptop Gamer ACER Nitro AMD Ryzen 5 Serie 5000...   \n",
       "11    ASUS     S/  5,499    TUF Gaming F15 FX506 Core i7 15.6'' FHD IPS 51...   \n",
       "\n",
       "                                               ENLACE  \n",
       "0   https://www.falabella.com.pe/falabella-pe/prod...  \n",
       "1   https://www.falabella.com.pe/falabella-pe/prod...  \n",
       "2   https://www.falabella.com.pe/falabella-pe/prod...  \n",
       "3   https://www.falabella.com.pe/falabella-pe/prod...  \n",
       "4   https://www.falabella.com.pe/falabella-pe/prod...  \n",
       "5   https://www.falabella.com.pe/falabella-pe/prod...  \n",
       "6   https://www.falabella.com.pe/falabella-pe/prod...  \n",
       "7   https://www.falabella.com.pe/falabella-pe/prod...  \n",
       "8   https://www.falabella.com.pe/falabella-pe/prod...  \n",
       "9   https://www.falabella.com.pe/falabella-pe/prod...  \n",
       "10  https://www.falabella.com.pe/falabella-pe/prod...  \n",
       "11  https://www.falabella.com.pe/falabella-pe/prod...  "
      ]
     },
     "execution_count": 80,
     "metadata": {},
     "output_type": "execute_result"
    }
   ],
   "source": [
    "df_1 = pd.DataFrame(data, columns = ['MARCA', 'PRECIOS','NOMBRE','ENLACE'])\n",
    "df_1"
   ]
  }
 ],
 "metadata": {
  "kernelspec": {
   "display_name": "Python 3",
   "language": "python",
   "name": "python3"
  },
  "language_info": {
   "codemirror_mode": {
    "name": "ipython",
    "version": 3
   },
   "file_extension": ".py",
   "mimetype": "text/x-python",
   "name": "python",
   "nbconvert_exporter": "python",
   "pygments_lexer": "ipython3",
   "version": "3.10.4"
  },
  "orig_nbformat": 4
 },
 "nbformat": 4,
 "nbformat_minor": 2
}
